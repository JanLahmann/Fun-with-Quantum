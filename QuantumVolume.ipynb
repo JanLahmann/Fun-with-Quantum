{
 "cells": [
  {
   "cell_type": "markdown",
   "metadata": {
    "slideshow": {
     "slide_type": "slide"
    },
    "pycharm": {
     "name": "#%% md\n"
    }
   },
   "source": [
    "# Simple Notebook to run Quantum Volume Experiments\n",
    "\n",
    "This notebook explores basic aspects of Quantum Volume, which can be used to quantify the computational power of a quantum device. It can be used to measure the Quantum Volume of a specific device or backend.\n",
    "\n",
    "It is based on the [Qiskit Textbook](https://qiskit.org/textbook/ch-quantum-hardware/measuring-quantum-volume.html), a [Qiskit tutorial](https://qiskit.org/documentation/tutorials/noise/5_quantum_volume.html) and in particular the following [tutorial](https://qiskit.org/documentation/experiments/tutorials/quantum_volume.html).\n",
    "\n",
    "Implemented by [Jan-R. Lahmann](http://twitter.com/JanLahmann) using Qiskit."
   ]
  },
  {
   "cell_type": "code",
   "execution_count": 1,
   "metadata": {
    "pycharm": {
     "name": "#%%\n"
    }
   },
   "outputs": [],
   "source": [
    "# see https://qiskit.org/documentation/experiments/tutorials/quantum_volume.html for detailed explanation \n",
    "# and more options\n",
    "\n",
    "from qiskit_experiments.library import QuantumVolume\n",
    "from qiskit import Aer\n",
    "import datetime\n",
    "\n",
    "# For simulation\n",
    "backend = Aer.get_backend('qasm_simulator')"
   ]
  },
  {
   "cell_type": "code",
   "execution_count": 2,
   "metadata": {
    "pycharm": {
     "name": "#%%\n"
    }
   },
   "outputs": [
    {
     "name": "stdout",
     "output_type": "stream",
     "text": [
      "2022-09-07 17:16:04.256700\n",
      "Number of Qubits: 1\n"
     ]
    },
    {
     "name": "stderr",
     "output_type": "stream",
     "text": [
      "/Users/bengtwegner/opt/anaconda3/envs/Fun-with-Quantum/lib/python3.9/site-packages/qiskit_experiments/library/quantum_volume/qv_analysis.py:149: UserWarning: Standard deviation sigma should not be zero.\n",
      "  warnings.warn(\"Standard deviation sigma should not be zero.\")\n",
      "/Users/bengtwegner/opt/anaconda3/envs/Fun-with-Quantum/lib/python3.9/site-packages/qiskit_experiments/library/quantum_volume/qv_analysis.py:290: UserWarning: Attempting to set identical bottom == top == 1.0 results in singular transformations; automatically expanding.\n",
      "  ax.set_ylim(\n"
     ]
    },
    {
     "name": "stdout",
     "output_type": "stream",
     "text": [
      "Quantum Volume 2 verified\n",
      "\n",
      "2022-09-07 17:16:05.085358\n",
      "Number of Qubits: 2\n",
      "Quantum Volume 4 verified\n",
      "\n",
      "2022-09-07 17:16:06.290190\n",
      "Number of Qubits: 3\n",
      "Quantum Volume 8 verified\n",
      "\n",
      "2022-09-07 17:16:07.738090\n",
      "Number of Qubits: 4\n",
      "Quantum Volume 16 verified\n",
      "\n",
      "2022-09-07 17:16:09.462887\n",
      "Number of Qubits: 5\n",
      "Quantum Volume 32 verified\n",
      "\n",
      "2022-09-07 17:16:11.542578\n",
      "Number of Qubits: 6\n",
      "Quantum Volume 64 verified\n",
      "\n",
      "2022-09-07 17:16:14.981431\n",
      "Number of Qubits: 7\n",
      "Quantum Volume 128 verified\n",
      "\n",
      "2022-09-07 17:16:18.661997\n",
      "Number of Qubits: 8\n",
      "Quantum Volume 256 verified\n",
      "\n",
      "2022-09-07 17:16:23.249200\n",
      "Number of Qubits: 9\n",
      "Quantum Volume 512 verified\n",
      "\n",
      "2022-09-07 17:16:28.448034\n",
      "Number of Qubits: 10\n",
      "Quantum Volume 1024 verified\n",
      "\n",
      "2022-09-07 17:16:33.738659\n",
      "Number of Qubits: 11\n"
     ]
    },
    {
     "ename": "KeyboardInterrupt",
     "evalue": "",
     "output_type": "error",
     "traceback": [
      "\u001B[0;31m---------------------------------------------------------------------------\u001B[0m",
      "\u001B[0;31mKeyboardInterrupt\u001B[0m                         Traceback (most recent call last)",
      "Input \u001B[0;32mIn [2]\u001B[0m, in \u001B[0;36m<cell line: 2>\u001B[0;34m()\u001B[0m\n\u001B[1;32m      4\u001B[0m \u001B[38;5;28mprint\u001B[39m (\u001B[38;5;124m\"\u001B[39m\u001B[38;5;124mNumber of Qubits:\u001B[39m\u001B[38;5;124m\"\u001B[39m, i)\n\u001B[1;32m      5\u001B[0m exp \u001B[38;5;241m=\u001B[39m QuantumVolume(\u001B[38;5;28mrange\u001B[39m(i), trials\u001B[38;5;241m=\u001B[39m\u001B[38;5;241m100\u001B[39m)\n\u001B[0;32m----> 6\u001B[0m result \u001B[38;5;241m=\u001B[39m \u001B[43mexp\u001B[49m\u001B[38;5;241;43m.\u001B[39;49m\u001B[43mrun\u001B[49m\u001B[43m(\u001B[49m\u001B[43mbackend\u001B[49m\u001B[43m)\u001B[49m\u001B[38;5;241;43m.\u001B[39;49m\u001B[43mblock_for_results\u001B[49m\u001B[43m(\u001B[49m\u001B[43m)\u001B[49m\n\u001B[1;32m      7\u001B[0m \u001B[38;5;66;03m#print(result)\u001B[39;00m\n\u001B[1;32m      8\u001B[0m qv \u001B[38;5;241m=\u001B[39m result\u001B[38;5;241m.\u001B[39manalysis_results(\u001B[38;5;124m\"\u001B[39m\u001B[38;5;124mquantum_volume\u001B[39m\u001B[38;5;124m\"\u001B[39m)\u001B[38;5;241m.\u001B[39mvalue\n",
      "File \u001B[0;32m~/opt/anaconda3/envs/Fun-with-Quantum/lib/python3.9/site-packages/qiskit_experiments/framework/experiment_data.py:1555\u001B[0m, in \u001B[0;36mExperimentData.block_for_results\u001B[0;34m(self, timeout)\u001B[0m\n\u001B[1;32m   1552\u001B[0m     analysis_futs \u001B[38;5;241m=\u001B[39m \u001B[38;5;28mself\u001B[39m\u001B[38;5;241m.\u001B[39m_analysis_futures\u001B[38;5;241m.\u001B[39mvalues()\n\u001B[1;32m   1554\u001B[0m \u001B[38;5;66;03m# Wait for futures\u001B[39;00m\n\u001B[0;32m-> 1555\u001B[0m \u001B[38;5;28;43mself\u001B[39;49m\u001B[38;5;241;43m.\u001B[39;49m\u001B[43m_wait_for_futures\u001B[49m\u001B[43m(\u001B[49m\u001B[43mjob_futs\u001B[49m\u001B[43m \u001B[49m\u001B[38;5;241;43m+\u001B[39;49m\u001B[43m \u001B[49m\u001B[43manalysis_futs\u001B[49m\u001B[43m,\u001B[49m\u001B[43m \u001B[49m\u001B[43mname\u001B[49m\u001B[38;5;241;43m=\u001B[39;49m\u001B[38;5;124;43m\"\u001B[39;49m\u001B[38;5;124;43mjobs and analysis\u001B[39;49m\u001B[38;5;124;43m\"\u001B[39;49m\u001B[43m,\u001B[49m\u001B[43m \u001B[49m\u001B[43mtimeout\u001B[49m\u001B[38;5;241;43m=\u001B[39;49m\u001B[43mtimeout\u001B[49m\u001B[43m)\u001B[49m\n\u001B[1;32m   1557\u001B[0m \u001B[38;5;66;03m# Clean up done job futures\u001B[39;00m\n\u001B[1;32m   1558\u001B[0m num_jobs \u001B[38;5;241m=\u001B[39m \u001B[38;5;28mlen\u001B[39m(job_ids)\n",
      "File \u001B[0;32m~/opt/anaconda3/envs/Fun-with-Quantum/lib/python3.9/site-packages/qiskit_experiments/framework/experiment_data.py:1599\u001B[0m, in \u001B[0;36mExperimentData._wait_for_futures\u001B[0;34m(self, futs, name, timeout)\u001B[0m\n\u001B[1;32m   1584\u001B[0m \u001B[38;5;28;01mdef\u001B[39;00m \u001B[38;5;21m_wait_for_futures\u001B[39m(\n\u001B[1;32m   1585\u001B[0m     \u001B[38;5;28mself\u001B[39m, futs: List[futures\u001B[38;5;241m.\u001B[39mFuture], name: \u001B[38;5;28mstr\u001B[39m \u001B[38;5;241m=\u001B[39m \u001B[38;5;124m\"\u001B[39m\u001B[38;5;124mfutures\u001B[39m\u001B[38;5;124m\"\u001B[39m, timeout: Optional[\u001B[38;5;28mfloat\u001B[39m] \u001B[38;5;241m=\u001B[39m \u001B[38;5;28;01mNone\u001B[39;00m\n\u001B[1;32m   1586\u001B[0m ) \u001B[38;5;241m-\u001B[39m\u001B[38;5;241m>\u001B[39m \u001B[38;5;28mbool\u001B[39m:\n\u001B[1;32m   1587\u001B[0m     \u001B[38;5;124;03m\"\"\"Wait for jobs to finish running.\u001B[39;00m\n\u001B[1;32m   1588\u001B[0m \n\u001B[1;32m   1589\u001B[0m \u001B[38;5;124;03m    Args:\u001B[39;00m\n\u001B[0;32m   (...)\u001B[0m\n\u001B[1;32m   1597\u001B[0m \u001B[38;5;124;03m        or any jobs were cancelled or had an exception.\u001B[39;00m\n\u001B[1;32m   1598\u001B[0m \u001B[38;5;124;03m    \"\"\"\u001B[39;00m\n\u001B[0;32m-> 1599\u001B[0m     waited \u001B[38;5;241m=\u001B[39m \u001B[43mfutures\u001B[49m\u001B[38;5;241;43m.\u001B[39;49m\u001B[43mwait\u001B[49m\u001B[43m(\u001B[49m\u001B[43mfuts\u001B[49m\u001B[43m,\u001B[49m\u001B[43m \u001B[49m\u001B[43mtimeout\u001B[49m\u001B[38;5;241;43m=\u001B[39;49m\u001B[43mtimeout\u001B[49m\u001B[43m)\u001B[49m\n\u001B[1;32m   1600\u001B[0m     value \u001B[38;5;241m=\u001B[39m \u001B[38;5;28;01mTrue\u001B[39;00m\n\u001B[1;32m   1602\u001B[0m     \u001B[38;5;66;03m# Log futures still running after timeout\u001B[39;00m\n",
      "File \u001B[0;32m~/opt/anaconda3/envs/Fun-with-Quantum/lib/python3.9/concurrent/futures/_base.py:307\u001B[0m, in \u001B[0;36mwait\u001B[0;34m(fs, timeout, return_when)\u001B[0m\n\u001B[1;32m    303\u001B[0m         \u001B[38;5;28;01mreturn\u001B[39;00m DoneAndNotDoneFutures(done, not_done)\n\u001B[1;32m    305\u001B[0m     waiter \u001B[38;5;241m=\u001B[39m _create_and_install_waiters(fs, return_when)\n\u001B[0;32m--> 307\u001B[0m \u001B[43mwaiter\u001B[49m\u001B[38;5;241;43m.\u001B[39;49m\u001B[43mevent\u001B[49m\u001B[38;5;241;43m.\u001B[39;49m\u001B[43mwait\u001B[49m\u001B[43m(\u001B[49m\u001B[43mtimeout\u001B[49m\u001B[43m)\u001B[49m\n\u001B[1;32m    308\u001B[0m \u001B[38;5;28;01mfor\u001B[39;00m f \u001B[38;5;129;01min\u001B[39;00m fs:\n\u001B[1;32m    309\u001B[0m     \u001B[38;5;28;01mwith\u001B[39;00m f\u001B[38;5;241m.\u001B[39m_condition:\n",
      "File \u001B[0;32m~/opt/anaconda3/envs/Fun-with-Quantum/lib/python3.9/threading.py:581\u001B[0m, in \u001B[0;36mEvent.wait\u001B[0;34m(self, timeout)\u001B[0m\n\u001B[1;32m    579\u001B[0m signaled \u001B[38;5;241m=\u001B[39m \u001B[38;5;28mself\u001B[39m\u001B[38;5;241m.\u001B[39m_flag\n\u001B[1;32m    580\u001B[0m \u001B[38;5;28;01mif\u001B[39;00m \u001B[38;5;129;01mnot\u001B[39;00m signaled:\n\u001B[0;32m--> 581\u001B[0m     signaled \u001B[38;5;241m=\u001B[39m \u001B[38;5;28;43mself\u001B[39;49m\u001B[38;5;241;43m.\u001B[39;49m\u001B[43m_cond\u001B[49m\u001B[38;5;241;43m.\u001B[39;49m\u001B[43mwait\u001B[49m\u001B[43m(\u001B[49m\u001B[43mtimeout\u001B[49m\u001B[43m)\u001B[49m\n\u001B[1;32m    582\u001B[0m \u001B[38;5;28;01mreturn\u001B[39;00m signaled\n",
      "File \u001B[0;32m~/opt/anaconda3/envs/Fun-with-Quantum/lib/python3.9/threading.py:312\u001B[0m, in \u001B[0;36mCondition.wait\u001B[0;34m(self, timeout)\u001B[0m\n\u001B[1;32m    310\u001B[0m \u001B[38;5;28;01mtry\u001B[39;00m:    \u001B[38;5;66;03m# restore state no matter what (e.g., KeyboardInterrupt)\u001B[39;00m\n\u001B[1;32m    311\u001B[0m     \u001B[38;5;28;01mif\u001B[39;00m timeout \u001B[38;5;129;01mis\u001B[39;00m \u001B[38;5;28;01mNone\u001B[39;00m:\n\u001B[0;32m--> 312\u001B[0m         \u001B[43mwaiter\u001B[49m\u001B[38;5;241;43m.\u001B[39;49m\u001B[43macquire\u001B[49m\u001B[43m(\u001B[49m\u001B[43m)\u001B[49m\n\u001B[1;32m    313\u001B[0m         gotit \u001B[38;5;241m=\u001B[39m \u001B[38;5;28;01mTrue\u001B[39;00m\n\u001B[1;32m    314\u001B[0m     \u001B[38;5;28;01melse\u001B[39;00m:\n",
      "\u001B[0;31mKeyboardInterrupt\u001B[0m: "
     ]
    }
   ],
   "source": [
    "max_qubits = 27 #maximum number of Qubits to use. QV can be up to 2^max_qubits\n",
    "for i in range(1, max_qubits+1):\n",
    "    print(datetime.datetime.now())\n",
    "    print (\"Number of Qubits:\", i)\n",
    "    exp = QuantumVolume(range(i), trials=100)\n",
    "    result = exp.run(backend).block_for_results()\n",
    "    #print(result)\n",
    "    qv = result.analysis_results(\"quantum_volume\").value\n",
    "    print(f\"Quantum Volume {qv} verified\")\n",
    "    print(\"\")\n",
    "\n",
    "\n",
    "# View result data\n",
    "for res in result.analysis_results():\n",
    "    print(res)\n",
    "    print()\n",
    "\n",
    "# Print extra data\n",
    "for res in result.analysis_results():\n",
    "    print(f\"\\n{res.name} extra:\")\n",
    "    for key, val in res.extra.items():\n",
    "        print(f\"- {key}: {val}\")"
   ]
  }
 ],
 "metadata": {
  "anaconda-cloud": {},
  "celltoolbar": "Slideshow",
  "kernelspec": {
   "display_name": "Python 3 (ipykernel)",
   "language": "python",
   "name": "python3"
  },
  "language_info": {
   "codemirror_mode": {
    "name": "ipython",
    "version": 3
   },
   "file_extension": ".py",
   "mimetype": "text/x-python",
   "name": "python",
   "nbconvert_exporter": "python",
   "pygments_lexer": "ipython3",
   "version": "3.9.6"
  },
  "latex_envs": {
   "bibliofile": "biblio.bib",
   "cite_by": "apalike",
   "current_citInitial": 1,
   "eqLabelWithNumbers": true,
   "eqNumInitial": 0
  },
  "livereveal": {
   "autolaunch": true
  },
  "nav_menu": {},
  "toc": {
   "navigate_menu": true,
   "number_sections": true,
   "sideBar": true,
   "threshold": 6,
   "toc_cell": false,
   "toc_section_display": "block",
   "toc_window_display": false
  }
 },
 "nbformat": 4,
 "nbformat_minor": 1
}