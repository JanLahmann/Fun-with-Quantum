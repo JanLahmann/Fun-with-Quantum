{
 "cells": [
  {
   "cell_type": "markdown",
   "metadata": {
    "slideshow": {
     "slide_type": "slide"
    }
   },
   "source": [
    "# Simple Notebook to run Quantum Volume Experiments\n",
    "\n",
    "This notebook explores basic aspects of Quantum Volume, which can be used to quantify the computational power of a quantum device. It can be used to measure the Quantum Volume of a specific device or backend.\n",
    "\n",
    "It is based on the [Qiskit Textbook](https://qiskit.org/textbook/ch-quantum-hardware/measuring-quantum-volume.html), a [Qiskit tutorial](https://qiskit.org/documentation/tutorials/noise/5_quantum_volume.html) and in particular the following [tutorial](https://qiskit.org/documentation/experiments/tutorials/quantum_volume.html).\n",
    "\n",
    "Implemented by [Jan-R. Lahmann](http://twitter.com/JanLahmann) using Qiskit."
   ]
  },
  {
   "cell_type": "code",
   "execution_count": null,
   "metadata": {},
   "outputs": [],
   "source": [
    "# see https://qiskit.org/documentation/experiments/tutorials/quantum_volume.html for detailed explanation \n",
    "# and more options\n",
    "\n",
    "from qiskit_experiments.library import QuantumVolume\n",
    "from qiskit import Aer, BasicAer\n",
    "from qiskit.providers.aer import AerSimulator\n",
    "\n",
    "# For simulation\n",
    "from qiskit.test.mock import FakeSydney\n",
    "\n",
    "#backend = AerSimulator.from_backend(FakeSydney())\n",
    "backend = BasicAer.get_backend('qasm_simulator')"
   ]
  },
  {
   "cell_type": "code",
   "execution_count": null,
   "metadata": {},
   "outputs": [],
   "source": [
    "max_qubits = 4 #maximum number of Qubits to use. QV can be up to 2^max_qubits\n",
    "for i in range(1, max_qubits+1):\n",
    "    print (\"Number of Qubits:\", i)\n",
    "    exp = QuantumVolume(i, trials=100)\n",
    "    result = exp.run(backend).block_for_results()\n",
    "    #print(result)\n",
    "    qv = result.analysis_results(\"quantum_volume\").value\n",
    "    print(f\"Quantum Volume {qv} verified\")\n",
    "    print(\"\")\n",
    "\n",
    "\n",
    "# View result data\n",
    "for res in result.analysis_results():\n",
    "    print(res)\n",
    "    print()\n",
    "\n",
    "# Print extra data\n",
    "for res in result.analysis_results():\n",
    "    print(f\"\\n{res.name} extra:\")\n",
    "    for key, val in res.extra.items():\n",
    "        print(f\"- {key}: {val}\")"
   ]
  },
  {
   "cell_type": "code",
   "execution_count": null,
   "metadata": {},
   "outputs": [],
   "source": []
  }
 ],
 "metadata": {
  "anaconda-cloud": {},
  "celltoolbar": "Slideshow",
  "kernelspec": {
   "display_name": "Python 3 (ipykernel)",
   "language": "python",
   "name": "python3"
  },
  "language_info": {
   "codemirror_mode": {
    "name": "ipython",
    "version": 3
   },
   "file_extension": ".py",
   "mimetype": "text/x-python",
   "name": "python",
   "nbconvert_exporter": "python",
   "pygments_lexer": "ipython3",
   "version": "3.9.6"
  },
  "latex_envs": {
   "bibliofile": "biblio.bib",
   "cite_by": "apalike",
   "current_citInitial": 1,
   "eqLabelWithNumbers": true,
   "eqNumInitial": 0
  },
  "livereveal": {
   "autolaunch": true
  },
  "nav_menu": {},
  "toc": {
   "navigate_menu": true,
   "number_sections": true,
   "sideBar": true,
   "threshold": 6,
   "toc_cell": false,
   "toc_section_display": "block",
   "toc_window_display": false
  }
 },
 "nbformat": 4,
 "nbformat_minor": 1
}
