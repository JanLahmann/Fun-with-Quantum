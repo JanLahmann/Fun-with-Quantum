{
 "cells": [
  {
   "cell_type": "markdown",
   "metadata": {
    "pycharm": {
     "name": "#%% md\n"
    },
    "slideshow": {
     "slide_type": "slide"
    }
   },
   "source": [
    "# Simple Notebook to run Quantum Volume Experiments\n",
    "\n",
    "This notebook explores basic aspects of Quantum Volume, which can be used to quantify the computational power of a quantum device. It can be used to measure the Quantum Volume of a specific device or backend.\n",
    "\n",
    "It is based on the [Qiskit Textbook](https://qiskit.org/textbook/ch-quantum-hardware/measuring-quantum-volume.html), a [Qiskit tutorial](https://qiskit.org/documentation/tutorials/noise/5_quantum_volume.html) and in particular the following [tutorial](https://qiskit.org/documentation/experiments/tutorials/quantum_volume.html).\n",
    "\n",
    "Implemented by [Jan-R. Lahmann](http://twitter.com/JanLahmann) using Qiskit."
   ]
  },
  {
   "cell_type": "code",
   "execution_count": 1,
   "metadata": {
    "pycharm": {
     "name": "#%%\n"
    },
    "scrolled": true
   },
   "outputs": [],
   "source": [
    "# see https://qiskit.org/documentation/experiments/tutorials/quantum_volume.html for detailed explanation \n",
    "# and more options\n",
    "\n",
    "from qiskit_experiments.library import QuantumVolume\n",
    "from qiskit import Aer\n",
    "import datetime\n",
    "\n",
    "# For simulation\n",
    "backend = Aer.get_backend('qasm_simulator')"
   ]
  },
  {
   "cell_type": "code",
   "execution_count": 2,
   "metadata": {
    "pycharm": {
     "name": "#%%\n"
    },
    "scrolled": false
   },
   "outputs": [
    {
     "name": "stdout",
     "output_type": "stream",
     "text": [
      "2022-09-15 11:53:33.412783\n",
      "Number of Qubits: 1\n",
      "Quantum Volume 2 verified\n",
      "\n",
      "2022-09-15 11:53:34.113093\n",
      "Number of Qubits: 2\n",
      "Quantum Volume 4 verified\n",
      "\n",
      "2022-09-15 11:53:35.138585\n",
      "Number of Qubits: 3\n",
      "Quantum Volume 8 verified\n",
      "\n",
      "2022-09-15 11:53:36.269130\n",
      "Number of Qubits: 4\n",
      "Quantum Volume 16 verified\n",
      "\n",
      "2022-09-15 11:53:37.567512\n",
      "Number of Qubits: 5\n",
      "Quantum Volume 32 verified\n",
      "\n",
      "AnalysisResult\n",
      "- name: mean_HOP\n",
      "- value: 0.864+/-0.034\n",
      "- quality: good\n",
      "- extra: <4 items>\n",
      "- device_components: ['Q0', 'Q1', 'Q2', 'Q3', 'Q4']\n",
      "- verified: False\n",
      "\n",
      "AnalysisResult\n",
      "- name: quantum_volume\n",
      "- value: 32\n",
      "- quality: good\n",
      "- extra: <4 items>\n",
      "- device_components: ['Q0', 'Q1', 'Q2', 'Q3', 'Q4']\n",
      "- verified: False\n",
      "\n",
      "\n",
      "mean_HOP extra:\n",
      "- HOPs: [0.8515625, 0.8857421875, 0.861328125, 0.865234375, 0.7978515625, 0.8330078125, 0.8662109375, 0.896484375, 0.892578125, 0.8828125, 0.888671875, 0.931640625, 0.8740234375, 0.8369140625, 0.931640625, 0.8896484375, 0.8310546875, 0.9287109375, 0.83984375, 0.78515625, 0.84765625, 0.8330078125, 0.8857421875, 0.90625, 0.8134765625, 0.853515625, 0.9189453125, 0.87109375, 0.8720703125, 0.9111328125, 0.8330078125, 0.87890625, 0.8701171875, 0.8505859375, 0.904296875, 0.8818359375, 0.8095703125, 0.9306640625, 0.8525390625, 0.849609375, 0.92578125, 0.8125, 0.8994140625, 0.8994140625, 0.8916015625, 0.8603515625, 0.8740234375, 0.8369140625, 0.833984375, 0.8828125, 0.873046875, 0.853515625, 0.84375, 0.8759765625, 0.8359375, 0.92578125, 0.837890625, 0.84765625, 0.8076171875, 0.8251953125, 0.9091796875, 0.8515625, 0.8251953125, 0.8583984375, 0.7900390625, 0.8486328125, 0.837890625, 0.8828125, 0.880859375, 0.865234375, 0.9404296875, 0.86328125, 0.8369140625, 0.8759765625, 0.8681640625, 0.8359375, 0.88671875, 0.8798828125, 0.896484375, 0.90625, 0.8193359375, 0.8037109375, 0.9189453125, 0.892578125, 0.8623046875, 0.84765625, 0.8388671875, 0.8271484375, 0.9130859375, 0.8779296875, 0.8251953125, 0.83203125, 0.8681640625, 0.8759765625, 0.8369140625, 0.8525390625, 0.853515625, 0.8203125, 0.8720703125, 0.8388671875]\n",
      "- two_sigma: 0.06854858624470282\n",
      "- depth: 5\n",
      "- trials: 100\n",
      "\n",
      "quantum_volume extra:\n",
      "- success: True\n",
      "- confidence: 0.9999999957624716\n",
      "- depth: 5\n",
      "- trials: 100\n"
     ]
    }
   ],
   "source": [
    "max_qubits = 5 #maximum number of Qubits to use. QV can be up to 2^max_qubits\n",
    "for i in range(1, max_qubits+1):\n",
    "    print(datetime.datetime.now())\n",
    "    print (\"Number of Qubits:\", i)\n",
    "    exp = QuantumVolume(range(i), trials=100)\n",
    "    result = exp.run(backend).block_for_results()\n",
    "    #print(result)\n",
    "    qv = result.analysis_results(\"quantum_volume\").value\n",
    "    print(f\"Quantum Volume {qv} verified\")\n",
    "    print(\"\")\n",
    "\n",
    "\n",
    "# View result data\n",
    "for res in result.analysis_results():\n",
    "    print(res)\n",
    "    print()\n",
    "\n",
    "# Print extra data\n",
    "for res in result.analysis_results():\n",
    "    print(f\"\\n{res.name} extra:\")\n",
    "    for key, val in res.extra.items():\n",
    "        print(f\"- {key}: {val}\")"
   ]
  }
 ],
 "metadata": {
  "anaconda-cloud": {},
  "celltoolbar": "Raw Cell Format",
  "kernelspec": {
   "display_name": "Python 3 (ipykernel)",
   "language": "python",
   "name": "python3"
  },
  "language_info": {
   "codemirror_mode": {
    "name": "ipython",
    "version": 3
   },
   "file_extension": ".py",
   "mimetype": "text/x-python",
   "name": "python",
   "nbconvert_exporter": "python",
   "pygments_lexer": "ipython3",
   "version": "3.9.13"
  },
  "latex_envs": {
   "bibliofile": "biblio.bib",
   "cite_by": "apalike",
   "current_citInitial": 1,
   "eqLabelWithNumbers": true,
   "eqNumInitial": 0
  },
  "nav_menu": {},
  "toc": {
   "navigate_menu": true,
   "number_sections": true,
   "sideBar": true,
   "threshold": 6,
   "toc_cell": false,
   "toc_section_display": "block",
   "toc_window_display": false
  }
 },
 "nbformat": 4,
 "nbformat_minor": 1
}
