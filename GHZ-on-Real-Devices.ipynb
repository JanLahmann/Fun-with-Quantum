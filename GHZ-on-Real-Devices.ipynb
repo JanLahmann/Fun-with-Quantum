{
 "cells": [
  {
   "cell_type": "markdown",
   "metadata": {},
   "source": [
    "# Winning the GHZ Game on Real IBM Quantum Computer<a name=\"top\"></a>"
   ]
  },
  {
   "cell_type": "markdown",
   "metadata": {},
   "source": [
    "*Lennart Schulze, Dr. Jan-Rainer Lahmann, October 2020*"
   ]
  },
  {
   "cell_type": "markdown",
   "metadata": {},
   "source": [
    "The GHZ game is a serious game for quantum computing to show the quantum mechanical property of entanglement. Three players are asked for two different properties A and B of an object, an each property can be one of two conditions 1 or 0. When all are asked for property A, 1 should appear two times or zero times. When two players are asked for property B, 1 should appear three times ore one time. When the players don't know what the other two were asked, respectively, there is no strategy in classical logic that can lead to winning in all cases. Using Quantum Computing, however, there is. If you wish to find out more about this game, click [here](https://github.com/JanLahmann/Fun-with-Quantum/blob/master/GHZ-Game.ipynb)."
   ]
  },
  {
   "cell_type": "markdown",
   "metadata": {},
   "source": [
    "The Qiskit built-in QASM Aer-simulator for running the Quantum circuit of the GHZ game is perfect, giving us the results that we expected from theory. In reality, however, the imperfection of real Quantum Computing hardware returns \"noisy\" output due to various sources of errors. Luckily, there is a variety of options available to mitigate these effects, some of which we will apply and inspect in this notebook."
   ]
  },
  {
   "cell_type": "markdown",
   "metadata": {},
   "source": [
    "In the following, we will have a closer look by:\n",
    "1. Comparing IBM Quantum devices [[Go](#devices)]\n",
    "2. Manually optimizing our circuit for a specific device [[Go](#manual)]\n",
    "3. Using the Qiskit transpiler optimization [[Go](#transpiler)]\n",
    "4. Running Measurement Error Mitigation [[Go](#mem)]\n",
    "1. Combining the techniques [[Go](#all)]\n",
    "\n",
    "Appendix [[Go](#appendix)]\n",
    "* A: Solution for chapter 5. [[Go](#appendix-a)]\n",
    "* B: Running this notebook on real Quantum Computers [[Go](#appendix-b)]\n",
    "\n",
    "_____"
   ]
  },
  {
   "cell_type": "markdown",
   "metadata": {},
   "source": [
    "## Setup\n",
    "[[Top](#top)]"
   ]
  },
  {
   "cell_type": "markdown",
   "metadata": {},
   "source": [
    "First, let's do the necessary imports:"
   ]
  },
  {
   "cell_type": "code",
   "execution_count": null,
   "metadata": {},
   "outputs": [],
   "source": [
    "from qiskit import QuantumCircuit, QuantumRegister, execute, transpile, Aer, IBMQ # circuit creation and execution\n",
    "from qiskit.providers.aer.noise import NoiseModel # simulate backends\n",
    "from qiskit.visualization import plot_histogram # visualize results\n",
    "from qiskit.quantum_info import Statevector, state_fidelity, hellinger_fidelity # statevector and metrics\n",
    "from qiskit.providers.ibmq import least_busy # get least busy device\n",
    "import qiskit.tools.jupyter # visualize backends\n",
    "from qiskit.ignis.mitigation.measurement import complete_meas_cal,CompleteMeasFitter # measurement error mitigation\n",
    "\n",
    "import pandas as pd # handy tools for calculation"
   ]
  },
  {
   "cell_type": "markdown",
   "metadata": {},
   "source": [
    "Next we'll define our global variables: 3 qubits are needed for our circuit (GHZ state), and we use a high number of shots (=times a circuit is executed per run on a device, out of which the relative result distribution is calculated) to get consistent results:"
   ]
  },
  {
   "cell_type": "code",
   "execution_count": null,
   "metadata": {},
   "outputs": [],
   "source": [
    "# global vars\n",
    "n = 3 # number of qubits\n",
    "shots = 8000 # high number of shots per execution"
   ]
  },
  {
   "cell_type": "markdown",
   "metadata": {},
   "source": [
    "For the remainder of this notebook, this will be our reference circuit for assessment. Note that the GHZ game uses 4 distinct circuits. These, however, only differ in their measurment base and order, but all have the same core - the GHZ state, which is the entanglement of 3 qubits (see part before the first barrier)."
   ]
  },
  {
   "cell_type": "code",
   "execution_count": null,
   "metadata": {},
   "outputs": [],
   "source": [
    "# basic circuit\n",
    "name = \"GHZ yyx default\" # ghz in measurement base Y,Y,X\n",
    "ghz = QuantumCircuit(n,n, name=name) # create circuit\n",
    "ghz.h(0) # h gate\n",
    "ghz.cx(0,1) # cnot gate\n",
    "ghz.cx(0,2) # cnot gate\n",
    "ghz.barrier()\n",
    "ghz.sdg([0,1]) # s dagger gate\n",
    "ghz.h(range(n)) # h gates\n",
    "ghz.barrier()\n",
    "ghz.measure(range(n), range(n)) # measurements\n",
    "ghz.draw(\"mpl\") # draw cirucit"
   ]
  },
  {
   "cell_type": "markdown",
   "metadata": {},
   "source": [
    "In order to evaluate the accuracy of the results of executing the GHZ state on different devices and with different mitigation techniques, we need a metric which we will define as state accuracy. It represents the percentage of counts resulted from the experiment that belong to one of the four target states of the GHZ game ('001', '010', '100', '111'). Reaching either of them equals winning they game, therefore our metric represents the fidelity with which we win the GHZ game on our quantum computer. We will use the state accuracy to measure the effectiveness of our different optimization approaches."
   ]
  },
  {
   "cell_type": "code",
   "execution_count": null,
   "metadata": {},
   "outputs": [],
   "source": [
    "expected_states = ['001', '010', '100', '111']  # target states\n",
    "\n",
    "def get_state_accuracy(counts): # funciton to calculate state accuracy\n",
    "    expected_counts = 0\n",
    "    for state in counts.keys():\n",
    "        if state in expected_states:\n",
    "            expected_counts = expected_counts + counts[state]\n",
    "    state_accuracy = expected_counts / shots\n",
    "    return str(state_accuracy*100)+\"%\""
   ]
  },
  {
   "cell_type": "markdown",
   "metadata": {},
   "source": [
    "For reference, this is what the state accuracy would look like for results from a perfect backend (100%)."
   ]
  },
  {
   "cell_type": "code",
   "execution_count": null,
   "metadata": {},
   "outputs": [],
   "source": [
    "counts = execute(ghz, backend=Aer.get_backend('qasm_simulator'), shots=shots).result().get_counts() # execution on simulator\n",
    "state_accuracy = get_state_accuracy(counts)\n",
    "print(f\"state accuracy on the simulator: {state_accuracy}\")"
   ]
  },
  {
   "cell_type": "markdown",
   "metadata": {},
   "source": [
    "Note that the state accuracy is a custom metric designed for our needs. Depending on your research aim, other metrics such as the built-in [hellinger fidelity](https://qiskit.org/documentation/stubs/qiskit.quantum_info.hellinger_fidelity.html?highlight=hellinger_fidelity) might be a better choice to assess circuit execution on different devices."
   ]
  },
  {
   "cell_type": "markdown",
   "metadata": {},
   "source": [
    "Great, now we're all set to run our experiments!"
   ]
  },
  {
   "cell_type": "markdown",
   "metadata": {},
   "source": [
    "## 1. Comparing IBM quantum devices<a name=devices><a/>\n",
    "[[Top](#top)]"
   ]
  },
  {
   "cell_type": "markdown",
   "metadata": {},
   "source": [
    "To start with, we need to find available quantum devices that are suitable to run our experiment. However, in case IBM Quantum devices are busy with jobs from other users, the execution of the following experiments take very long. To avoid this, we will use Qiskit built-in mock implementations of them, executed locally.\n",
    "\n",
    "(If you want to try out this notebook on real systems, execute the cell above again and read the [appendix](#appendix-b) for detailed instructions.)"
   ]
  },
  {
   "cell_type": "code",
   "execution_count": null,
   "metadata": {},
   "outputs": [],
   "source": [
    "# mock devices\n",
    "\n",
    "from qiskit.test.mock import *\n",
    "\n",
    "backends = [FakeYorktown(), FakeMelbourne(), FakeVigo(), FakeOurense(), FakeValencia(), FakeLondon(),\n",
    "                FakeBurlington(), FakeEssex()] # no mock santiago available"
   ]
  },
  {
   "cell_type": "markdown",
   "metadata": {},
   "source": [
    "Now, let's compare the results from the execution of the GHZ circuit on these backends:"
   ]
  },
  {
   "cell_type": "code",
   "execution_count": null,
   "metadata": {},
   "outputs": [],
   "source": [
    "results_backends = []\n",
    "\n",
    "for backend in backends:\n",
    "    counts = execute(ghz, backend=backend, shots=shots, optimization_level=0).result().get_counts() # get results\n",
    "    state_accuracy = get_state_accuracy(counts) # calculate state accuracy\n",
    "    results_backends.append((backend.name(), counts, state_accuracy)) # store results\n",
    "    \n",
    "# plot results\n",
    "plot_histogram([counts for backend_name, counts, state_accuracy in results_backends],\n",
    "                legend=[backend_name for backend_name, counts, state_accuracy in results_backends],\n",
    "                sort=\"asc\",\n",
    "                color=[\"red\", \"orange\", \"yellow\", \"green\", \"blue\", \"violet\", \"purple\", \"black\"],\n",
    "                bar_labels=False)"
   ]
  },
  {
   "cell_type": "markdown",
   "metadata": {},
   "source": [
    "The bars represent the relative amount (probability) to read a certain state from the execution of our circuit on the respective backend over the 8000 times the experiment was executed there. Remember that ideally, only four states should be returned by our circuit: 001, 010, 100, 100. Therefore, the best devices are those with the highest probability on these states while having the lowest on all other, undesired states."
   ]
  },
  {
   "cell_type": "markdown",
   "metadata": {},
   "source": [
    "To make it easier to interpret, we use the state accuracy as indicator of the results' quality:"
   ]
  },
  {
   "cell_type": "code",
   "execution_count": null,
   "metadata": {},
   "outputs": [],
   "source": [
    "# setup ordered table\n",
    "\n",
    "results_backends_table = pd.DataFrame(columns=[\"backend\", \"state_accuracy\"]) # create table\n",
    "for backend_name, counts, state_accuracy in results_backends:\n",
    "    results_backends_table.loc[len(results_backends_table)] = [backend_name, state_accuracy] # put values into table\n",
    "results_backends_table = results_backends_table.sort_values(by=[\"state_accuracy\"], ascending=False).reset_index().iloc[:, 1:] # sort values\n",
    "results_backends_table \n"
   ]
  },
  {
   "cell_type": "markdown",
   "metadata": {},
   "source": [
    "Now we know the ranking of the devices based on their fidelity. Let's pick one with a high state accuracy to test the optimization techniques in the remaining chapters. In addition, we will pick one system with a lower accuracy to compare against later."
   ]
  },
  {
   "cell_type": "code",
   "execution_count": null,
   "metadata": {},
   "outputs": [],
   "source": [
    "# high accuracy\n",
    "backend1 = FakeVigo()\n",
    "\n",
    "# lower accuracy\n",
    "backend2 = FakeYorktown()"
   ]
  },
  {
   "cell_type": "markdown",
   "metadata": {},
   "source": [
    "## 2. Manually optimizing circuits<a name=manual><a/>\n",
    "[[Top](#top)]"
   ]
  },
  {
   "cell_type": "markdown",
   "metadata": {},
   "source": [
    "Why is it that the IBM Quantum computer show different performances? As mentioned earlier, hardware optimization is a major research field at the moment. Essentially, our Quantum computer consist of different numbers of qubits that are connected with each other and manipulated according to our circuit. However, the way in which they are connected - the so called coupling map - as well the error rates when performing gates on single qubits, multiple qubits and when reading the state of the qubits differs across our devices due to manifacturing. Finally, the qubits posess varying coherence times (T1/T2). \n",
    "\n",
    "Let's have a closer look on how the coupling map and error rates look like on our two picked devices."
   ]
  },
  {
   "cell_type": "code",
   "execution_count": null,
   "metadata": {
    "scrolled": false
   },
   "outputs": [],
   "source": [
    "%matplotlib inline\n",
    "backend1"
   ]
  },
  {
   "cell_type": "markdown",
   "metadata": {},
   "source": [
    "On the Configuration tab you can see the coupling map of the devices. Qubits that are connected with a line can perform a multiple qubit gate such as CNOT directly. Trying to apply CNOT on non-connected qubits would require Qiskit to internally change the circuit before execution to fit it to the coupling map of the device. \n",
    "\n",
    "On the Error Map tab you can see the quality of each qubit and each connection where a darker color indicates a lower error rate (more desirable). If you are interested in the exact error rates, you can find them on the Qubit Properties tab (U2 - single qubit error rate, readout error rate) and on the Multi-Qubit Gates tab."
   ]
  },
  {
   "cell_type": "markdown",
   "metadata": {},
   "source": [
    "**Coupling Map based optimization**"
   ]
  },
  {
   "cell_type": "markdown",
   "metadata": {},
   "source": [
    "The Qiskit transpiler prepares our code for execution on the real device. In case our circuit layout does not match the device's configuration, it will introduce swaps into our circuit so to make it applicable to the coupling map. Sometimes this can produce a worse accuracy than that from our original circuit. Therefore, let's try to create custom coupling map specific circuits of the GHZ state to avoid the transpiler interfering."
   ]
  },
  {
   "cell_type": "markdown",
   "metadata": {},
   "source": [
    "Backend 1:"
   ]
  },
  {
   "cell_type": "code",
   "execution_count": null,
   "metadata": {},
   "outputs": [],
   "source": [
    "# backend1: create coupling map optimised circuit\n",
    "\n",
    "# map: qubit 0 -> qubit 1\n",
    "# qubit 1 -> qubit 0\n",
    "# qubit 2 -> qubit 2\n",
    "\n",
    "ghz_backend1 = QuantumCircuit(5,3, name=f\"GHZ yyx {backend1.name()} optimized\") # note that we use 5 qubits here to match the configuration of the device\n",
    "ghz_backend1.h(1) # we map qubit 0 to qubit 1 and qubit 1 to qubit 0 ..\n",
    "ghz_backend1.cx(1,0) # .. to ensure that all logical CNOT gates are performed on physical connections\n",
    "ghz_backend1.cx(1,2)\n",
    "ghz_backend1.barrier()\n",
    "ghz_backend1.sdg([1,0]) \n",
    "ghz_backend1.h(range(n))\n",
    "ghz_backend1.barrier()\n",
    "ghz_backend1.measure([1,0,2], range(n))\n",
    "ghz_backend1.draw(\"mpl\")\n"
   ]
  },
  {
   "cell_type": "markdown",
   "metadata": {},
   "source": [
    "Let's compare the two circuits:"
   ]
  },
  {
   "cell_type": "code",
   "execution_count": null,
   "metadata": {},
   "outputs": [],
   "source": [
    "# compare results between original and coupling map optimized circuit on backend1\n",
    "results_backend1_coupling = []\n",
    "\n",
    "circuits = [ghz, ghz_backend1]\n",
    "for circuit in circuits:\n",
    "    transpiled_circuit = transpile(circuit, backend=backend1, optimization_level=0)\n",
    "    counts = execute(circuit, backend=backend1, shots=shots, optimization_level=0).result().get_counts() # get results\n",
    "    state_accuracy = get_state_accuracy(counts) # calculate state accuracy\n",
    "    results_backend1_coupling.append((circuit.name, counts, state_accuracy)) # store\n",
    "    \n",
    "\n",
    "print(\"State Accuracy \\n\"+\n",
    "      \"\\n\".join([str(circuit_name)+': '+str(state_accuracy) \n",
    "                 for circuit_name, counts, state_accuracy in results_backend1_coupling]))\n",
    "\n",
    "plot_histogram([counts for circuit_name, counts, state_accuracy in results_backend1_coupling],\n",
    "               legend=[circuit_name for circuit_name, counts, state_accuracy in results_backend1_coupling],\n",
    "               title=backend1.name(),\n",
    "               bar_labels=False)"
   ]
  },
  {
   "cell_type": "markdown",
   "metadata": {},
   "source": [
    "As you can see, the state accuracy improved by around 2% on our system."
   ]
  },
  {
   "cell_type": "markdown",
   "metadata": {},
   "source": [
    "**Error Map based optimization**"
   ]
  },
  {
   "cell_type": "markdown",
   "metadata": {},
   "source": [
    "As mentioned, this was one of two ways we are considering to manually optimize the circuits. The second builds off of the results from the coupling map based optimization and additionally takes into account the error rates. For this, we have another look on the error map and pick qubits that have the least single qubit gate, multiple qubit gate and readout error rate (see colors for intuition). Sometimes you need to trade off between these as for instance some qubits have excellent read out error rates while not as good single qubit gate error rates. Though, as this approach is manual, you don not need to try out each possible configuration to find the best one."
   ]
  },
  {
   "cell_type": "markdown",
   "metadata": {},
   "source": [
    "Backend 1:"
   ]
  },
  {
   "cell_type": "code",
   "execution_count": null,
   "metadata": {},
   "outputs": [],
   "source": [
    "# backend1: create coupling map + error rate optimised circuit\n",
    "\n",
    "# map: qubit 0 -> qubit 3\n",
    "# qubit 1 -> qubit 1\n",
    "# qubit 2 -> qubit 4\n",
    "\n",
    "ghz_backend1_error = QuantumCircuit(5,3, name=f\"GHZ yyx {backend1.name()} error rate optimised\") # note that we use 5 qubits here to match the configuration of the device\n",
    "ghz_backend1_error.h(3) # qubit with best adjacent multi-qubit gates error rates (cnot)\n",
    "ghz_backend1_error.cx(3,1)\n",
    "ghz_backend1_error.cx(3,4) \n",
    "ghz_backend1_error.barrier()\n",
    "ghz_backend1_error.sdg([3,1]) # avoid 4 as it has a worse single qubit error rate\n",
    "ghz_backend1_error.h([3,1,4]) # best readout error rates\n",
    "ghz_backend1_error.barrier()\n",
    "ghz_backend1_error.measure([3,1,4], range(n)) # readout still in same order\n",
    "ghz_backend1_error.draw(\"mpl\")\n"
   ]
  },
  {
   "cell_type": "code",
   "execution_count": null,
   "metadata": {},
   "outputs": [],
   "source": [
    "# compare results between original, coupling map, and error rates optimized circuit on backend1\n",
    "results_backend1_error = []\n",
    "\n",
    "circuits = [ghz_backend1_error]\n",
    "for circuit in circuits:\n",
    "    transpiled_circuit = transpile(circuit, backend=backend1, optimization_level=0)\n",
    "    counts = execute(circuit, backend=backend1, shots=shots, optimization_level=0).result().get_counts() # get results\n",
    "    state_accuracy = get_state_accuracy(counts) # calculate state accuracy\n",
    "    results_backend1_error.append((circuit.name, counts, state_accuracy)) # store\n",
    "    \n",
    "\n",
    "print(\"State Accuracy \\n\"+\n",
    "      \"\\n\".join([str(circuit_name)+': '+str(state_accuracy) \n",
    "                 for circuit_name, counts, state_accuracy in results_backend1_coupling+results_backend1_error]))\n",
    "\n",
    "plot_histogram([counts for circuit_name, counts, state_accuracy in results_backend1_coupling+results_backend1_error],\n",
    "               legend=[circuit_name for circuit_name, counts, state_accuracy in results_backend1_coupling+results_backend1_error],\n",
    "               title=backend1.name(),\n",
    "               bar_labels=False)"
   ]
  },
  {
   "cell_type": "markdown",
   "metadata": {},
   "source": [
    "As can be seen, the results from the coupling map and error rate optimised circuit are around the same as those from the circuit only optimised for its coupling map. This is because while the new circuit uses qubits with improved CNOT error rates, the old one natively had good readout error rates so that effects of swapping qubit mappings do not produce a significantly better result. However, there might be still a better circuit layout than the one found here."
   ]
  },
  {
   "cell_type": "markdown",
   "metadata": {},
   "source": [
    "## 3. Qiskit Transpiler Optimization<a name=transpiler><a/>\n",
    "[[Top](#top)]"
   ]
  },
  {
   "cell_type": "markdown",
   "metadata": {},
   "source": [
    "Qiskit comes with a built-in transpiler to translate logical circuits into circuits that are executable on the target backend. In addition, the transpile function (and execute function calling it) has four different levels of optimization available that can be set as parameter. See an extract of the [documentation](https://qiskit.org/documentation/apidoc/transpiler_preset.html) here to understand their differences:"
   ]
  },
  {
   "cell_type": "markdown",
   "metadata": {},
   "source": [
    "Optimization Levels\n",
    "\n",
    "* Level 0: no explicit optimization other than **mapping to backend**.\n",
    "\n",
    "* level 1: light optimization by simple **adjacent gate collapsing**.\n",
    "\n",
    "* level 2: medium optimization by **initial layout selection** and **gate cancellation** using commutativity rules.\n",
    "\n",
    "* level 3: heavy optimization by **noise adaptive qubit mapping** and gate cancellation using commutativity rules and **unitary synthesis**.m"
   ]
  },
  {
   "cell_type": "markdown",
   "metadata": {},
   "source": [
    "Next to other actions taken such as combining gates and mapping to the device's coupling map (which takes place necessarily on every level), note that only optimization level 3 applies noise adaptive mapping, which we attempted to do manually in the previous chapter."
   ]
  },
  {
   "cell_type": "markdown",
   "metadata": {},
   "source": [
    "To separately view the effects from each chapter, we will now again use the basic GHZ YYX circuit and compare the different transpiler optimization levels on backend 1."
   ]
  },
  {
   "cell_type": "code",
   "execution_count": null,
   "metadata": {
    "scrolled": false
   },
   "outputs": [],
   "source": [
    "# compare results from different optimization levels on backend 1\n",
    "results_backend1_transpiler = []\n",
    "\n",
    "optimization_levels = [0,1,2,3]\n",
    "#print(ghz)\n",
    "for optim_level in optimization_levels:\n",
    "    transpiled_circuit = transpile(ghz, backend=backend1, optimization_level=optim_level)\n",
    "    #print(transpiled_circuit)\n",
    "    counts = execute(ghz, backend=backend1, shots=shots, optimization_level=optim_level).result().get_counts() # get results\n",
    "    state_accuracy = get_state_accuracy(counts) # calculate state accuracy\n",
    "    results_backend1_transpiler.append((optim_level, counts, state_accuracy)) # store\n",
    "    \n",
    "# compare state accuracies\n",
    "print(\"State Accuracy \\n\"+\n",
    "      \"\\n\".join([\"optimization_level_\"+str(optim_level)+': '+str(state_accuracy) \n",
    "                 for optim_level, counts, state_accuracy in results_backend1_transpiler]))\n",
    "\n",
    "# plot results\n",
    "plot_histogram([counts for optim_level, counts, state_accuracy in results_backend1_transpiler],\n",
    "               legend=[\"optimization_level_\"+str(optim_level) for optim_level, counts, state_accuracy in results_backend1_transpiler],\n",
    "               title=backend1.name(),\n",
    "               bar_labels=False)"
   ]
  },
  {
   "cell_type": "markdown",
   "metadata": {},
   "source": [
    "Did you notice? Counterintuively, there was only a visible improvement from optimization level 0 to 1, and from 1 to 2, while level 2 and 3 produce similar results on the backend. But why is there no improvement on each level? To understand this phenomenon better, let's see what happens under the hood by inspecting the transpiled circuits that the transpiler produces to execute them on our backend:"
   ]
  },
  {
   "cell_type": "code",
   "execution_count": null,
   "metadata": {
    "scrolled": false
   },
   "outputs": [],
   "source": [
    "# compare transpiled circuits for different optimization levels on backend 1\n",
    "\n",
    "optimization_levels = [0,1,2,3]\n",
    "print(\"original circuit\")\n",
    "print(ghz)\n",
    "for optim_level in optimization_levels:\n",
    "    print(f\"optimization level: {optim_level}\")\n",
    "    transpiled_circuit = transpile(ghz, backend=backend1, optimization_level=optim_level)\n",
    "    print(transpiled_circuit)\n"
   ]
  },
  {
   "cell_type": "markdown",
   "metadata": {},
   "source": [
    "The circuits of level 2 and 3 are identical! Also circuits 0 and 1 behave similarly, even though the compiler picks different qubits to map our circuit. This implies that the circuit with optimization level 2 is already the best the transpiler can do for us. The small deviation between optimization level 2 and 3 only comes due to probabilistic quantum readout randomness."
   ]
  },
  {
   "cell_type": "markdown",
   "metadata": {},
   "source": [
    "Remember that the compiler is supposed to follow the idea from our manual optimization in a more sophisticated manner. Therefore let's compare its output again with what we produced in chapter 2:"
   ]
  },
  {
   "cell_type": "code",
   "execution_count": null,
   "metadata": {
    "scrolled": false
   },
   "outputs": [],
   "source": [
    "print(\"manual optimization\")\n",
    "print(ghz_backend1_error)\n",
    "\n",
    "print(\"State Accuracy\")\n",
    "print(\"manual optimization:  \"+str(results_backend1_error[0][2]))\n",
    "print(\"transpiler optimization: \"+str(results_backend1_transpiler[3][2]))"
   ]
  },
  {
   "cell_type": "markdown",
   "metadata": {},
   "source": [
    "As can be seen, the structure of the circuit remains the same even on level 3 of the transpiler optimized circuit, matching our circuit from chapter 2. However, they differ in the qubits that were selected for mapping the logical circuit onto the real physical hardware. Taking this into account, the transpiler apparently has a better intuition on how to balance the importances of different kinds of errors."
   ]
  },
  {
   "cell_type": "markdown",
   "metadata": {},
   "source": [
    "## 4. Measurement Error Mitigation<a name=mem><a/>\n",
    "[[Top](#top)]"
   ]
  },
  {
   "cell_type": "markdown",
   "metadata": {},
   "source": [
    "So far, we achieved some improvements of the state accuracy with manual optimization and to a small extent with transpiler optimization. While these are rather simple steps to take, there is an entire research field dealing with how to mitigate quantum computer hardware imperfection with software driven techniques, one of which we will examine now. \n",
    "\n",
    "\n",
    "As discussed earlier, there are various types of errors that can perpetrate noisy results when executing a quantum circuit. A significant one is that what happens when the quantum states are read from qubits forcing them to collapse into classical states, i.e. our experiment should return one of our four targeted classical states (001, 010, 100, or 111). However, we've seen that in our results a lot more states than these incorrectly appear. \n",
    "\n",
    "These returned result represent the real results plus the readout error. Hence, knowing the devices' readout error behavior, we can estimate the real results from our obtained results through matrix multiplication, which is called Measurement Error Mitigation. For this, each basis state (one of the 2^n combinations of 0 and 1 per each of the n qubits, e.g. 00, 01, 10, 11 for 2 qubits) is measured on the device so to derive its measurment errors, allowing to restore our real counts.\n",
    "\n",
    "For a detailed explenation of how Measurement Error Mitigation works have a look at the [Qiskit Textbook](https://qiskit.org/textbook/ch-quantum-hardware/measurement-error-mitigation.html) or the well explained Qiskit [youtube video](https://www.youtube.com/watch?v=yuDxHJOKsVA) on MEM."
   ]
  },
  {
   "cell_type": "code",
   "execution_count": null,
   "metadata": {},
   "outputs": [],
   "source": [
    "# measurement error mitigation on backend 1\n",
    "\n",
    "results_backend1_mem = []\n",
    "\n",
    "# normal execution\n",
    "noisy_counts = execute(ghz, backend=backend1, shots=shots, optimization_level=0).result().get_counts() # get results\n",
    "noisy_state_accuracy = get_state_accuracy(noisy_counts) # calculate state accuracy from original results\n",
    "results_backend1_mem.append((\"noisy\", noisy_counts, noisy_state_accuracy))\n",
    "\n",
    "# measurement error mitigation\n",
    "qr = QuantumRegister(n)\n",
    "meas_calibs, state_labels = complete_meas_cal(qr=qr, circlabel='mcal') # setup calibration measures on basis states\n",
    "\n",
    "cal_results = execute(meas_calibs, backend=backend1, shots=shots).result() # execute calibration measures\n",
    "meas_fitter = CompleteMeasFitter(cal_results, state_labels, circlabel='mcal')\n",
    "meas_filter = meas_fitter.filter # get the filter object from calibration\n",
    "\n",
    "mitigated_counts = meas_filter.apply(noisy_counts) # apply filter to get mitigated results\n",
    "mitigated_state_accuracy = get_state_accuracy(mitigated_counts) # calculate state accuracy from mitigated results\n",
    "results_backend1_mem.append((\"mitigated\", mitigated_counts, mitigated_state_accuracy))\n",
    "\n",
    "# compare state accuracies\n",
    "print(\"State Accuracy \\n\"+\n",
    "      \"\\n\".join([str(label)+': '+str(state_accuracy) for label, counts, state_accuracy in results_backend1_mem]))\n",
    "\n",
    "# plot results\n",
    "plot_histogram([counts for optim_level, counts, state_accuracy in results_backend1_mem],\n",
    "               legend=[label for label, counts, state_accuracy in results_backend1_mem],\n",
    "               title=backend1.name(),\n",
    "               bar_labels=False)\n"
   ]
  },
  {
   "cell_type": "markdown",
   "metadata": {},
   "source": [
    "As can be seen, there is a visible improvement on the system with a high accuracy as result from the measurement error mitigated results."
   ]
  },
  {
   "cell_type": "markdown",
   "metadata": {},
   "source": [
    "While this is what we looked for, let's compare the results to the mitigated results from another, natively less accurate system in order to understand the capabilities of measurement error mitigation."
   ]
  },
  {
   "cell_type": "code",
   "execution_count": null,
   "metadata": {},
   "outputs": [],
   "source": [
    "backend2"
   ]
  },
  {
   "cell_type": "code",
   "execution_count": null,
   "metadata": {},
   "outputs": [],
   "source": [
    "# measurement error mitigation on backend 2\n",
    "\n",
    "results_backend2_mem = []\n",
    "\n",
    "# normal execution\n",
    "noisy_counts = execute(ghz, backend=backend2, shots=shots, optimization_level=0).result().get_counts() # get results\n",
    "noisy_state_accuracy = get_state_accuracy(noisy_counts) # calculate state accuracy from original results\n",
    "results_backend2_mem.append((\"noisy\", noisy_counts, noisy_state_accuracy))\n",
    "\n",
    "# measurement error mitigation\n",
    "qr = QuantumRegister(n)\n",
    "meas_calibs, state_labels = complete_meas_cal(qr=qr, circlabel='mcal') # setup calibration measures on basis states\n",
    "\n",
    "cal_results = execute(meas_calibs, backend=backend2, shots=shots).result() # execute calibration measures\n",
    "meas_fitter = CompleteMeasFitter(cal_results, state_labels, circlabel='mcal')\n",
    "meas_filter = meas_fitter.filter # get the filter object from calibration\n",
    "\n",
    "mitigated_counts = meas_filter.apply(noisy_counts) # apply filter to get mitigated results\n",
    "mitigated_state_accuracy = get_state_accuracy(mitigated_counts)\n",
    "results_backend2_mem.append((\"mitigated\", mitigated_counts, mitigated_state_accuracy))\n",
    "\n",
    "# compare state accuracies\n",
    "print(\"State Accuracy \\n\"+\n",
    "      \"\\n\".join([str(label)+': '+str(state_accuracy) for label, counts, state_accuracy in results_backend2_mem]))\n",
    "\n",
    "# plot results\n",
    "plot_histogram([counts for optim_level, counts, state_accuracy in results_backend2_mem],\n",
    "               legend=[label for label, counts, state_accuracy in results_backend2_mem],\n",
    "               title=backend2.name(),\n",
    "               bar_labels=False)\n"
   ]
  },
  {
   "cell_type": "markdown",
   "metadata": {},
   "source": [
    "As can be seen, this is a truly remarkable improvement, demonstrating the power of measurement error mitigation. This implies that a large part of the erroneous results on backend 2 is due to measurement errors. In addition, it is worth noting that the effect of the measurement error mitigation fluctuates over different applications on the same backend, which in turn depends on the device's quality in the first place. Try it by executing the above cell multiple times. "
   ]
  },
  {
   "cell_type": "markdown",
   "metadata": {},
   "source": [
    "## 5. Combining the optimization techniques<a name=all><a/>\n",
    "[[Top](#top)]"
   ]
  },
  {
   "cell_type": "markdown",
   "metadata": {},
   "source": [
    "We've now successfully gone through a variety of optimization techniques that differ in approach, complexity and results.\n",
    "However, the results for our system are still under 100%, which is what we aim for. Therefore, let's attempt to get the maximum fidelity through combining all of the measures discussed."
   ]
  },
  {
   "cell_type": "code",
   "execution_count": null,
   "metadata": {},
   "outputs": [],
   "source": [
    "# backend1\n",
    "\n",
    "results_backend1_all = []\n",
    "\n",
    "# basic circuit\n",
    "noisy_counts = execute(ghz, backend=backend1, shots=shots, optimization_level=0).result().get_counts() # get results\n",
    "noisy_state_accuracy = get_state_accuracy(noisy_counts) # calculate state accuracy from original results\n",
    "results_backend1_all.append((\"noisy\", noisy_counts, noisy_state_accuracy))\n",
    "\n",
    "# manually optimized circuit\n",
    "manual_counts = execute(ghz_backend1_error, backend=backend1, shots=shots, optimization_level=0).result().get_counts() # get results\n",
    "manual_state_accuracy = get_state_accuracy(manual_counts)\n",
    "results_backend1_all.append((\"manual\", manual_counts, manual_state_accuracy))\n",
    "\n",
    "\n",
    "# transpiler optimization (level 3 overrides manually optimized circuit)\n",
    "transpiler_counts = execute(ghz, backend=backend1, shots=shots, \n",
    "                                   optimization_level=3).result().get_counts() # get results\n",
    "transpiler_state_accuracy = get_state_accuracy(transpiler_counts)\n",
    "results_backend1_all.append((\"transpiler\", transpiler_counts, transpiler_state_accuracy))\n",
    "\n",
    "# transpiler optimization + measurement error mitigation\n",
    "qr = QuantumRegister(n)\n",
    "meas_calibs, state_labels = complete_meas_cal(qr=qr, circlabel='mcal') # setup calibration measures on basis states\n",
    "cal_results = execute(meas_calibs, backend=backend1, shots=shots).result() # execute calibration measures\n",
    "meas_fitter = CompleteMeasFitter(cal_results, state_labels, circlabel='mcal')\n",
    "meas_filter = meas_fitter.filter # get the filter object from calibration\n",
    "mitigated_counts = meas_filter.apply(transpiler_counts) # apply filter on previous results to get mitigated results\n",
    "mitigated_state_accuracy = get_state_accuracy(mitigated_counts)\n",
    "results_backend1_all.append((\"transpiler - mitigated\", mitigated_counts, mitigated_state_accuracy))\n",
    "\n",
    "# compare state accuracies\n",
    "print(\"State Accuracy \\n\"+\n",
    "      \"\\n\".join([str(label)+': '+str(state_accuracy) for label, counts, state_accuracy in results_backend1_all]))\n",
    "\n",
    "# plot results\n",
    "plot_histogram([counts for label, counts, state_accuracy in results_backend1_all],\n",
    "               legend=[label for label, counts, state_accuracy in results_backend1_all],\n",
    "               title=backend1.name(),\n",
    "               bar_labels=False)"
   ]
  },
  {
   "cell_type": "markdown",
   "metadata": {},
   "source": [
    "If we wish to understand the effects better, we can inspect the transpiled circuit for each technique in order:"
   ]
  },
  {
   "cell_type": "code",
   "execution_count": null,
   "metadata": {},
   "outputs": [],
   "source": [
    "%matplotlib inline\n",
    "\n",
    "# inspect circuits on backend1\n",
    "print(\"*** \",backend1.name(),\" ***\")\n",
    "print(\"basic circuit\")\n",
    "print(transpile(ghz, backend=backend1, optimization_level=0))\n",
    "print(\"manually optimized circuit (coupling map and error map)\")\n",
    "print(transpile(ghz_backend1_error, backend=backend1, optimization_level=0))\n",
    "print(\"transpiler optimized circuit\")\n",
    "print(transpile(ghz, backend=backend1, optimization_level=3))\n",
    "# (measurement error mitigation doesn't transform the circuit)"
   ]
  },
  {
   "cell_type": "markdown",
   "metadata": {},
   "source": [
    "Great, we can see that the combination of methods really produces a tremendous value for the state accuracy of backend 1, close to the ideal value of 100%."
   ]
  },
  {
   "cell_type": "markdown",
   "metadata": {},
   "source": [
    "**Applying the combined techniques on another backend**\n",
    "\n",
    "Now it's your turn! Can you combine all the methods for backend 2? To get started, we provided a possible configuration of a manually optimized circuit for backend 2:"
   ]
  },
  {
   "cell_type": "code",
   "execution_count": null,
   "metadata": {},
   "outputs": [],
   "source": [
    "# backend 2: coupling map + error rate optimised circuit\n",
    "\n",
    "# map: qubit 0 -> qubit 1\n",
    "# qubit 1 -> qubit 2\n",
    "# qubit 2 -> qubit 0\n",
    "\n",
    "ghz_backend2_error = QuantumCircuit(5,3, name=f\"GHZ yyx {backend2.name()} error rate optimised\") # note that we use 5 qubits here to match the configuration of the device\n",
    "ghz_backend2_error.h(1) \n",
    "ghz_backend2_error.cx(1,2)\n",
    "ghz_backend2_error.cx(1,0) \n",
    "ghz_backend2_error.barrier()\n",
    "ghz_backend2_error.sdg([1,2]) # better single qubit error rate\n",
    "ghz_backend2_error.h([1,2,0])\n",
    "ghz_backend2_error.barrier()\n",
    "ghz_backend2_error.measure([1,2,0], range(n)) # readout still in same order\n",
    "ghz_backend2_error.draw(\"mpl\")\n"
   ]
  },
  {
   "cell_type": "markdown",
   "metadata": {},
   "source": [
    "Now, your task is to fill in the following cell to execute each optimization step in order just as we did with backend 1.\n",
    "\n",
    "\n",
    "*(Hint: You can copy the code from the previous cell and change the variables for those relevant for backend 2. The solution can be found in the [appendix](#appendix-a) at the end of this notebook.)*"
   ]
  },
  {
   "cell_type": "code",
   "execution_count": null,
   "metadata": {
    "scrolled": true
   },
   "outputs": [],
   "source": [
    "### YOUR WORK ###\n",
    "\n",
    "# backend 2\n",
    "\n",
    "results_backend2_all = []\n",
    "noisy_counts = {}\n",
    "manual_counts = {}\n",
    "transpiler_counts = {}\n",
    "mitigated_counts = {}\n",
    "\n",
    "# basic circuit\n",
    "## YOUR CODE HERE ##\n",
    "results_backend2_all.append((\"noisy\", noisy_counts, noisy_state_accuracy))\n",
    "\n",
    "# manually optimized circuit\n",
    "## YOUR CODE HERE ##\n",
    "results_backend2_all.append((\"manual\", manual_counts, manual_state_accuracy))\n",
    "\n",
    "# transpiler optimization (level 3 overrides manually optimized circuit)\n",
    "## YOUR CODE HERE ##\n",
    "results_backend2_all.append((\"transpiler\", transpiler_counts, transpiler_state_accuracy))\n",
    "\n",
    "# transpiler optimization + measurement error mitigation\n",
    "## YOUR CODE HERE ##\n",
    "results_backend2_all.append((\"transpiler - mitigated\", mitigated_counts, mitigated_state_accuracy))\n",
    "\n",
    "# compare state accuracies\n",
    "print(\"State Accuracy \\n\"+\n",
    "      \"\\n\".join([str(label)+': '+str(state_accuracy) for label, counts, state_accuracy in results_backend2_all]))\n",
    "\n",
    "# plot results\n",
    "plot_histogram([counts for label, counts, state_accuracy in results_backend2_all],\n",
    "               legend=[label for label, counts, state_accuracy in results_backend2_all],\n",
    "               title=backend2.name(),\n",
    "               bar_labels=False)"
   ]
  },
  {
   "cell_type": "markdown",
   "metadata": {},
   "source": [
    "If you get a state accuracy of around 95% you did a good job!\n",
    "\n",
    "Finally, we can inspect the transpiled circuits to understand the results better:"
   ]
  },
  {
   "cell_type": "code",
   "execution_count": null,
   "metadata": {
    "scrolled": false
   },
   "outputs": [],
   "source": [
    "# inspect circuits on backend2\n",
    "\n",
    "print(\"*** \",backend2.name(),\" ***\")\n",
    "print(\"basic circuit\")\n",
    "print(transpile(ghz, backend=backend2, optimization_level=0))\n",
    "print(\"manually optimized circuit (coupling map and error map)\")\n",
    "print(transpile(ghz_backend2_error, backend=backend2, optimization_level=0))\n",
    "print(\"transpiler optimized circuit\")\n",
    "print(transpile(ghz, backend=backend2, optimization_level=3))\n",
    "# (measurement error mitigation doesn't transform the circuit)"
   ]
  },
  {
   "cell_type": "markdown",
   "metadata": {},
   "source": [
    "\n",
    "\n",
    "---\n",
    "\n",
    "Congratulations! In this tutorial, we found ways to greatly increase the probabbility with which we can win the Quantum GHZ game on a quantum computer. Please note that there is a large field of research revolving around optimising quantum hardware and software - and we only covered a few simple ones of them. Therefore feel free to dig deeper into the topic or run your own circuits on [IBM Quantum Experience](quantum-computing.ibm.com).\n",
    "\n",
    "Thank you!"
   ]
  },
  {
   "cell_type": "markdown",
   "metadata": {},
   "source": [
    "*Lennart Schulze, IBM Germany, lennart.schulze@ibm.com*\n",
    "\n",
    "*Dr. Jan-Rainer Lahmann, IBM Germany, Jan.Lahmann@de.ibm.com*"
   ]
  },
  {
   "cell_type": "markdown",
   "metadata": {},
   "source": [
    "<a name=end></a>**Important:** If running this notebook on a shared system (e.g. mybinder.org), remember to log off from your IBM Q account in case you used it for execution on real devices by running the following cell:"
   ]
  },
  {
   "cell_type": "code",
   "execution_count": null,
   "metadata": {},
   "outputs": [],
   "source": [
    "disable_account()\n",
    "delete_account()"
   ]
  },
  {
   "cell_type": "markdown",
   "metadata": {},
   "source": [
    "---\n",
    "## .\n",
    "## .\n",
    "## .\n",
    "## .\n",
    "\n",
    "\n",
    "## *Appendix*<a name=appendix><a/>\n",
    "[[Top](#top)]\n"
   ]
  },
  {
   "cell_type": "markdown",
   "metadata": {},
   "source": [
    "### A: Solutions (Chapter 5)<a name=appendix-a><a/>"
   ]
  },
  {
   "cell_type": "code",
   "execution_count": null,
   "metadata": {
    "scrolled": false
   },
   "outputs": [],
   "source": [
    "#### SOLUTION TO CHAPTER 5 #####\n",
    " \n",
    "results_backend2_all = []\n",
    "\n",
    "# basic circuit\n",
    "noisy_counts = execute(ghz, backend=backend2, shots=shots, optimization_level=0).result().get_counts() # get results\n",
    "noisy_state_accuracy = get_state_accuracy(noisy_counts) # calculate state accuracy from original results\n",
    "results_backend2_all.append((\"noisy\", noisy_counts, noisy_state_accuracy))\n",
    "\n",
    "# manually optimized circuit (coupling map and error map)\n",
    "manual_counts = execute(ghz_backend2_error, backend=backend2, shots=shots, optimization_level=0).result().get_counts() # get results\n",
    "manual_state_accuracy =  get_state_accuracy(manual_counts)\n",
    "results_backend2_all.append((\"manual\", manual_counts, manual_state_accuracy))\n",
    "\n",
    "# transpiler optimization (level 3 overrides manual optimization circuit)\n",
    "transpiler_counts = execute(ghz, backend=backend2, shots=shots, \n",
    "                                   optimization_level=3).result().get_counts() # get results\n",
    "transpiler_state_accuracy =  get_state_accuracy(transpiler_counts)\n",
    "results_backend2_all.append((\"transpiler\", transpiler_counts, transpiler_state_accuracy))\n",
    "\n",
    "# transpiler optimization + measurement error mitigation\n",
    "qr = QuantumRegister(n)\n",
    "meas_calibs, state_labels = complete_meas_cal(qr=qr, circlabel='mcal') # setup calibration measures on basis states\n",
    "cal_results = execute(meas_calibs, backend=backend2, shots=shots).result() # execute calibration measures\n",
    "meas_fitter = CompleteMeasFitter(cal_results, state_labels, circlabel='mcal')\n",
    "meas_filter = meas_fitter.filter # get the filter object from calibration\n",
    "mitigated_counts = meas_filter.apply(transpiler_counts) # apply filter on previous results to get mitigated results\n",
    "mitigated_state_accuracy =  get_state_accuracy(mitigated_counts)\n",
    "results_backend2_all.append((\"transpiler - mitigated\", mitigated_counts, mitigated_state_accuracy))\n",
    "\n",
    "# compare state accuracies\n",
    "print(\"State Accuracy \\n\"+\n",
    "      \"\\n\".join([str(label)+': '+str(state_accuracy) for label, counts, state_accuracy in results_backend2_all]))\n",
    "\n",
    "# plot results\n",
    "plot_histogram([counts for label, counts, state_accuracy in results_backend2_all],\n",
    "               legend=[label for label, counts, state_accuracy in results_backend2_all],\n",
    "               title=backend2.name(),\n",
    "               bar_labels=False)"
   ]
  },
  {
   "cell_type": "markdown",
   "metadata": {},
   "source": [
    "---"
   ]
  },
  {
   "cell_type": "markdown",
   "metadata": {},
   "source": [
    "### B: Running this notebook on real quantum computers<a name=appendix-b></a>"
   ]
  },
  {
   "cell_type": "markdown",
   "metadata": {},
   "source": [
    "You can run the entire on real quantum hardware provided and made accesible by IBM on the [IBM Quantum Experience](https://quantum-computing.ibm.com).\n",
    "You should take into consideration that this will take longer, as each job submitted for execution to either of the quantum computers is queued based on a fair share algorithm. Therefore, you will most likely need to wait until other jobs queued before yours are finished. You can see the status of your jobs under \"Pending Results\" on the [Results page](https://quantum-computing.ibm.com/results).\n",
    "\n",
    "As the first chapter executes circuits on all suitable devices, it will take especially long. For this reason we'll provide guidance for that chapter seperately."
   ]
  },
  {
   "cell_type": "markdown",
   "metadata": {},
   "source": [
    "**Connect IBM Quantum Experience Account**"
   ]
  },
  {
   "cell_type": "markdown",
   "metadata": {},
   "source": [
    "We need to connect to our IBM Quantum Experience account in order to be able to execute the results on real hardware.\n",
    "\n",
    "If you haven't linked your IBM Quantum Experience Account yet, follow this [guide](https://qiskit.org/documentation/install.html#install-access-ibm-q-devices-label) and paste your credentials in the following cell. Remember to remove your credentials at the [end of the tutorial](#end)."
   ]
  },
  {
   "cell_type": "code",
   "execution_count": null,
   "metadata": {},
   "outputs": [],
   "source": [
    "# save IBM Quantum Experience account credentials\n",
    "IBMQ.save_account('MY_API_TOKEN')"
   ]
  },
  {
   "cell_type": "markdown",
   "metadata": {},
   "source": [
    "Having stored your account credentials, run the following to activate your account. "
   ]
  },
  {
   "cell_type": "code",
   "execution_count": null,
   "metadata": {},
   "outputs": [],
   "source": [
    "# load IBM Quantum Experience account \n",
    "IBMQ.load_account()\n",
    "provider = IBMQ.get_provider('ibm-q') # get provider"
   ]
  },
  {
   "cell_type": "markdown",
   "metadata": {},
   "source": [
    "**Using real Quantum Computers in chapter 1**"
   ]
  },
  {
   "cell_type": "markdown",
   "metadata": {},
   "source": [
    "We simply need to change the \"backend\" variable. Just execute the following cell or use it to replace the corresponding cell above, then execute the cell in chapter 1 in which the circuits are executed and review the results."
   ]
  },
  {
   "cell_type": "code",
   "execution_count": null,
   "metadata": {},
   "outputs": [],
   "source": [
    "backends = provider.backends(filters=lambda x:  # get available quantum computer from IBM Q provider where\n",
    "                            x.configuration().n_qubits >= n and  # number of qubits high enough\n",
    "                            not x.configuration().simulator and  # only real devices (no simulator)\n",
    "                            x.status().operational==True) # only devices that work\n",
    "print(f\"IBM Q backends: {[str(backend.name()) for backend in backends]}\")"
   ]
  },
  {
   "cell_type": "markdown",
   "metadata": {},
   "source": [
    "**Using real Quantum Computers in chapters 2-5**"
   ]
  },
  {
   "cell_type": "markdown",
   "metadata": {},
   "source": [
    "First, we need to change our backend variables for the real devices we would like to examine. You can pick the real devices corresponding to the mock ones we used above or choose your own based on the selection returned by the previous cell. (Again execute the cell here or replace the code in the corresponding cell above.)"
   ]
  },
  {
   "cell_type": "code",
   "execution_count": null,
   "metadata": {},
   "outputs": [],
   "source": [
    "# higher accuracy\n",
    "backend1 = provider.get_backend(\"ibmq_vigo\")\n",
    "\n",
    "# lower accuracy\n",
    "backend2 = provider.get_backend(\"ibmqx2\") # yorktown is named x2 on IBM Q experience"
   ]
  },
  {
   "cell_type": "markdown",
   "metadata": {},
   "source": [
    "Almost done! However, as the name indicates, chapter 2 uses circuits that are manually optimized to specifically fit the default devices used so far. In order to get reasonable results in its sections, you now need to review the coupling and error map of the devices you picked by executing the first two cells in chapter 2. \n",
    "\n",
    "Based on this, your job is to create a new circuit for each (or decide to leave the default one if it is already fitting) that fits its coupling map, i.e. so that all qubits that interact with a cnot gate in the circuit are physically connected as indicated in the coupling map. Then, adapt the circuit again so to pick qubits with the lowest error rates. This doesn't need to be accurate, as it is hard to weigh the effects of the different kinds of errors present. A good indicator if you did a good job is that the state accuracy of the result is not significantly lower than that of the default circuit or that of the coupling map sensitive circuit without error optimization, respectively. Once you're done, execute the remaining cells in chapters 2-5."
   ]
  },
  {
   "cell_type": "code",
   "execution_count": null,
   "metadata": {},
   "outputs": [],
   "source": [
    "# backend1: coupling map optimised circuit\n",
    "\n",
    "ghz_backend1 = QuantumCircuit(5,3, name=f\"GHZ yyx {backend1.name()} optimised\") \n",
    "### YOUR CODE HERE ###\n",
    "\n",
    "\n",
    "ghz_backend1.draw(\"mpl\")"
   ]
  },
  {
   "cell_type": "code",
   "execution_count": null,
   "metadata": {},
   "outputs": [],
   "source": [
    "# backend2: coupling map optimised circuit\n",
    "\n",
    "ghz_backend2 = QuantumCircuit(5,3, name=f\"GHZ yyx {backend2.name()} optimised\") \n",
    "### YOUR CODE HERE ###\n",
    "\n",
    "\n",
    "ghz_backend2.draw(\"mpl\")"
   ]
  },
  {
   "cell_type": "code",
   "execution_count": null,
   "metadata": {},
   "outputs": [],
   "source": [
    "# backend1: coupling map + error rate optimised circuit\n",
    "\n",
    "ghz_backend1_error = QuantumCircuit(5,3, name=f\"GHZ yyx {backend1.name()} error rate optimised\") \n",
    "### YOUR CODE HERE ###\n",
    "\n",
    "ghz_backend1_error.draw(\"mpl\")"
   ]
  },
  {
   "cell_type": "code",
   "execution_count": null,
   "metadata": {},
   "outputs": [],
   "source": [
    "# backend2: coupling map + error rate optimised circuit\n",
    "\n",
    "ghz_backend2_error = QuantumCircuit(5,3, name=f\"GHZ yyx {backend2.name()} error rate optimised\") \n",
    "### YOUR CODE HERE ###\n",
    "\n",
    "ghz_backend2_error.draw(\"mpl\")"
   ]
  }
 ],
 "metadata": {
  "kernelspec": {
   "display_name": "Python 3",
   "language": "python",
   "name": "python3"
  },
  "language_info": {
   "codemirror_mode": {
    "name": "ipython",
    "version": 3
   },
   "file_extension": ".py",
   "mimetype": "text/x-python",
   "name": "python",
   "nbconvert_exporter": "python",
   "pygments_lexer": "ipython3",
   "version": "3.7.4"
  }
 },
 "nbformat": 4,
 "nbformat_minor": 2
}
