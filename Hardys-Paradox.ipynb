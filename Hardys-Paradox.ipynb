{
 "cells": [
  {
   "cell_type": "markdown",
   "metadata": {
    "pycharm": {
     "name": "#%% md\n"
    },
    "slideshow": {
     "slide_type": "slide"
    }
   },
   "source": [
    "# Hardy's Paradox\n",
    "\n",
    "\n",
    "Hardy's Paradox nicely illustrates the fundamental difference of Quantum Mechanics and classical physics. In particular, it can be used to discuss the claim made by Einstein, Podolsky and Rosen (\"EPR\") back in 1935. They objected to the uncertainty seen in quantum mechanics, and thought it meant that the theory was incomplete. They thought that a qubit should always have a determined output (regardless of the measurement basis), and that it only seems random because some information is hidden from us. In this case, all axes are [complementary observables](https://doi.org/10.1007/s10701-019-00261-3). They describe a property of quantum mechanics where each observable can be observed on its own but when trying to measure multiple at once, uncertainties arise. This essentially dates back to Heisenberg uncertainty principle.\n",
    "As Einstein did not believe this, he said: \"God does not play dice with the universe\".\n",
    "\n",
    "The idea and part of the source code for this tutorial was published in a previous version of the [Qiskit Textbook](https://qiskit.org/textbook/), in the (now removed) chapter [The Unique Properties of Qubits](https://github.com/Qiskit/qiskit-textbook/blob/master/content/ch-states/old-unique-properties-qubits.ipynb).\n",
    "\n",
    "This variant of Hardy's Paradox is a relatively simple example for an entangled qubit state that could not be reproduced by a few classical bits and a random number generator. It shows that quantum variables aren't just classical variables with some randomness bundled in. There are no \"hidden, local variables\".\n",
    "Especially, this paradox shows that classical reasoning is not applicable in quantum systems or in D. Mermins words: \"What didn't happen, didn't happen\". Meaning: We cannot infer the previous state of qubits by looking at the non-deterministic results of measurements. This also means that we cannot conclude hypothetical circuits that _never happened_ from our measurement. _We cannot infer something that didn't happen from something that happened._\n",
    "\n",
    "See D. Mermins book [Quantum Computer Science: An Introduction](https://library.uoh.edu.iq/admin/ebooks/22831-quantum_computer_science.pdf) for more information.\n",
    "\n",
    "(hit space or right arrow to move to next slide)"
   ]
  },
  {
   "cell_type": "markdown",
   "metadata": {
    "pycharm": {
     "name": "#%% md\n"
    },
    "slideshow": {
     "slide_type": "slide"
    }
   },
   "source": [
    "## Usage instructions for the user interface\n",
    "* \"Ctrl -\" and \"Ctrl +\" (or \"command -\", \"command +\") adjust the zoom level to fit the text to the browser window\n",
    "* Use \"space\" and \"shift  space\" to navigate through the slides \n",
    "* \"Shift Enter\" executes the interactive cells (might need to click the cell, first)\n",
    "* Execute the interactive cells on each slide (\"In [1]:\", etc)\n",
    "* In case a cell is not formatted correctly, try to double-click and then \"Shift Enter\" to re-execute\n",
    "* Interactive cells can be modified, if needed\n",
    "* \"X\" at the top left exits the slideshow and enters the jupyter notebook interface"
   ]
  },
  {
   "cell_type": "markdown",
   "metadata": {
    "pycharm": {
     "name": "#%% md\n"
    },
    "slideshow": {
     "slide_type": "slide"
    }
   },
   "source": [
    "## Manufacturing Quantum-Cars\n",
    "\n",
    "Let's assume we build cars.\n",
    "The cars have a color (red or blue) and an engine type (gasoline or diesel).\n",
    "\n",
    "The director of the production plant ensures us that the following is always true for the first two cars that leave the plant each morning:\n",
    "\n",
    "1. If we look at the colors of both cars, it never happens that both are red.\n",
    "2. If we measure one engine type of one car to be diesel, then the other car has to be red.\n",
    "\n",
    "Take a moment to think about this: Can both cars be diesel?\n",
    "You probably came to the conclusion that this case is impossible. Using classical argumentation this seems obvious. Later we will discuss why this conclusion does not apply here. _Did you maybe infer something that didn't happen?_\n",
    "\n",
    "Let's encode the two cars with two qubits and the colors by a measurement in the (standard) Z Basis, where 0 relates to red and 1 relates to blue. The engine type is encoded by a measurement in the X Basis, where 0 relates to gasoline and 1 relates to diesel.\n",
    "\n",
    "Or in short:\n",
    "\n",
    "Z color: <span style=\"color:red\">0 red</span>, <span style=\"color:blue\">1 blue</span>\n",
    "\n",
    "X engine type: 0 gasoline, 1: diesel"
   ]
  },
  {
   "cell_type": "markdown",
   "metadata": {
    "pycharm": {
     "name": "#%% md\n"
    },
    "slideshow": {
     "slide_type": "slide"
    }
   },
   "source": [
    "We now initialize the quantum circuit and create a specific state of the two qubits.\n",
    "\n",
    "We will show that this state satisfies the two conditions mentioned before. \n",
    "\n",
    "We will then analyze the question if both cars can be diesel."
   ]
  },
  {
   "cell_type": "code",
   "execution_count": 1,
   "metadata": {
    "pycharm": {
     "name": "#%%\n"
    },
    "slideshow": {
     "slide_type": "fragment"
    }
   },
   "outputs": [],
   "source": [
    "from qiskit import *\n",
    "from qiskit.tools.visualization import plot_histogram\n",
    "import math"
   ]
  },
  {
   "cell_type": "markdown",
   "metadata": {
    "pycharm": {
     "name": "#%% md\n"
    },
    "slideshow": {
     "slide_type": "slide"
    }
   },
   "source": [
    "### Circuit creation\n",
    "\n",
    "In the following, a specific entangled state of the two qubits will be created.\n",
    "\n",
    "At first, a quantum register and circuit with two qubits is created."
   ]
  },
  {
   "cell_type": "code",
   "execution_count": 2,
   "metadata": {
    "pycharm": {
     "name": "#%%\n"
    },
    "slideshow": {
     "slide_type": "fragment"
    }
   },
   "outputs": [],
   "source": [
    "# hit \"shift + Enter\" to execute this cell\n",
    "q = QuantumRegister(2) # create a quantum register with two qubits\n",
    "# create a classical register that will hold the results of the measurement\n",
    "c = ClassicalRegister(2) \n",
    "qc_hardy = QuantumCircuit(q, c)"
   ]
  },
  {
   "cell_type": "markdown",
   "metadata": {
    "pycharm": {
     "name": "#%% md\n"
    },
    "slideshow": {
     "slide_type": "subslide"
    }
   },
   "source": [
    "The existing default $ |00\\rangle $ state is now modified with the gates down below. Don't worry, you probably don't understand what happens and why these operations are performed, but we will dive in deep with the related maths and explain everything in detail.\n",
    "First, try to understand each gate and the whole circuit on your own."
   ]
  },
  {
   "cell_type": "code",
   "execution_count": 3,
   "metadata": {
    "pycharm": {
     "name": "#%%\n"
    },
    "slideshow": {
     "slide_type": "fragment"
    }
   },
   "outputs": [
    {
     "name": "stdout",
     "output_type": "stream",
     "text": [
      "alpha = 1.9106332362490186\n",
      "Rounded alpha = 1.911\n"
     ]
    },
    {
     "data": {
      "image/png": "[encoded data removed]",
      "text/plain": [
       "<Figure size 556.156x284.278 with 1 Axes>"
      ]
     },
     "execution_count": 3,
     "metadata": {},
     "output_type": "execute_result"
    }
   ],
   "source": [
    "#STEP 1\n",
    "alpha = 2*math.acos(math.sqrt(1/3))\n",
    "print(f\"alpha = {alpha}\")\n",
    "print(f\"Rounded alpha = {round(alpha, 3)}\")\n",
    "qc_hardy.ry(alpha,q[1])\n",
    "#STEP 2\n",
    "qc_hardy.cx(q[1],q[0])\n",
    "#STEP 3\n",
    "qc_hardy.ry((1/4)*math.pi,q[0])\n",
    "qc_hardy.cx(q[1],q[0])\n",
    "qc_hardy.ry((3/4)*math.pi,q[0])\n",
    "\n",
    "qc_hardy.draw(output='mpl')"
   ]
  },
  {
   "cell_type": "markdown",
   "metadata": {
    "pycharm": {
     "name": "#%% md\n"
    },
    "slideshow": {
     "slide_type": "fragment"
    }
   },
   "source": [
    "Alpha $\\alpha$ is chosen in a way that the quantum state later becomes an equal distribution between the states BLUE/BLUE, BLUE/RED and RED/BLUE so property #1 (RED/RED is not possible) is encoded. You will see the simulated results and the calculations later in this notebook."
   ]
  },
  {
   "cell_type": "markdown",
   "metadata": {
    "pycharm": {
     "name": "#%% md\n"
    },
    "slideshow": {
     "slide_type": "slide"
    }
   },
   "source": [
    "### Circuit interpretation\n",
    "\n",
    "Let's see what happens if we look at the color of both cars, i.e. if we make an Z measurement on each of the qubits.\n",
    "\n",
    "A result of 00 would indicate that both cars are red, which is not allowed by property #1.\n",
    "\n",
    "**Important: Qiskit (the python programming kit used in this notebook) turns around the order of the qubits when displaying them in histograms. Therefore, in the diagrams below the states are in order: $q_1$ $q_0$**"
   ]
  },
  {
   "cell_type": "code",
   "execution_count": 4,
   "metadata": {
    "pycharm": {
     "name": "#%%\n"
    },
    "slideshow": {
     "slide_type": "fragment"
    }
   },
   "outputs": [
    {
     "name": "stdout",
     "output_type": "stream",
     "text": [
      "Results for two z (=color) measurements:\n"
     ]
    },
    {
     "data": {
      "image/png": "[encoded data removed]",
      "text/plain": [
       "<Figure size 700x500 with 1 Axes>"
      ]
     },
     "execution_count": 4,
     "metadata": {},
     "output_type": "execute_result"
    }
   ],
   "source": [
    "measurementsZZ = QuantumCircuit(q,c)\n",
    "# z measurement on both qubits\n",
    "measurementsZZ.measure(q[0],c[0])\n",
    "measurementsZZ.measure(q[1],c[1])\n",
    "qc = qc_hardy.compose(measurementsZZ, inplace=False)\n",
    "print('Results for two z (=color) measurements:')\n",
    "plot_histogram(execute(qc,Aer.get_backend('qasm_simulator')).result().get_counts())"
   ]
  },
  {
   "cell_type": "markdown",
   "metadata": {
    "pycharm": {
     "name": "#%% md\n"
    },
    "slideshow": {
     "slide_type": "fragment"
    }
   },
   "source": [
    "The count of \"00\" is zero, and so these qubits do indeed satisfy property #1."
   ]
  },
  {
   "cell_type": "markdown",
   "metadata": {
    "pycharm": {
     "name": "#%% md\n"
    },
    "slideshow": {
     "slide_type": "slide"
    }
   },
   "source": [
    "Next, let's see the results of an X-basis (engine type) measurement of $q_O$ and a Z-basis (color) measurement of $q_1$.\n",
    "As the standard measurement gets the results of the Z-basis, we have to apply the Hadamard-Gate on $q_0$ to get the results of the X-basis measurement. For a deeper understanding have a look at this [bloch sphere demo](https://javafxpert.github.io/grok-bloch/).\n",
    "\n",
    "A result of 11 would indicate that car 1 is a diesel and car two is blue, which is not allowed by property #2."
   ]
  },
  {
   "cell_type": "code",
   "execution_count": 5,
   "metadata": {
    "pycharm": {
     "name": "#%%\n"
    },
    "slideshow": {
     "slide_type": "fragment"
    }
   },
   "outputs": [
    {
     "name": "stdout",
     "output_type": "stream",
     "text": [
      "Results for an x (engine type) measurement on qubit 0 and a z (color) measurement on qubit 1:\n"
     ]
    },
    {
     "data": {
      "image/png": "[encoded data removed]",
      "text/plain": [
       "<Figure size 700x500 with 1 Axes>"
      ]
     },
     "execution_count": 5,
     "metadata": {},
     "output_type": "execute_result"
    }
   ],
   "source": [
    "measurementsXZ = QuantumCircuit(q,c)\n",
    "# x measurement on qubit 0\n",
    "measurementsXZ.h(q[0])\n",
    "measurementsXZ.measure(q[0],c[0])\n",
    "# z measurement on qubit 1\n",
    "measurementsXZ.measure(q[1],c[1])\n",
    "qc = qc_hardy.compose(measurementsXZ, inplace=False)\n",
    "print('Results for an x (engine type) measurement on qubit 0 and a z (color) measurement on qubit 1:')\n",
    "plot_histogram(execute(qc,Aer.get_backend('qasm_simulator')).result().get_counts())"
   ]
  },
  {
   "cell_type": "markdown",
   "metadata": {
    "pycharm": {
     "name": "#%% md\n"
    },
    "slideshow": {
     "slide_type": "subslide"
    }
   },
   "source": [
    "The count of \"11\" is zero. This means that property #2 is indeed true.\n",
    "\n",
    "Let's prove this mathematically:\n",
    "\n",
    "We have to use the Identity-Gate to use the H-Gate on $q_0$ of our two-qubit system. To understand how the statevector of the system is calculated, have a look at the end of this notebook.\n",
    "\n",
    "$$ \\left( H \\otimes I \\right) \\cdot\n",
    "\\begin{pmatrix}  0 \\\\ \\sqrt{\\frac{1}{3}} \\\\ \\sqrt{\\frac{1}{3}} \\\\ \\sqrt{\\frac{1}{3}} \\end{pmatrix} =\n",
    "\\left( \\frac{1}{\\sqrt{2}} \\begin{pmatrix}  1 & 1 \\\\ 1 & -1 \\end{pmatrix} \\otimes \\begin{pmatrix}  1 & 0 \\\\ 0 & 1 \\end{pmatrix} \\right) \\cdot\n",
    "\\begin{pmatrix}  0 \\\\ \\sqrt{\\frac{1}{3}} \\\\ \\sqrt{\\frac{1}{3}} \\\\ \\sqrt{\\frac{1}{3}} \\end{pmatrix} =\n",
    "\\frac{1}{\\sqrt{2}} \\begin{pmatrix}  1 & 0 & 1 & 0 \\\\ 0 & 1 & 0 & 1 \\\\ 1 & 0 & -1 & 0 \\\\ 0 & 1 & 0 & -1 \\end{pmatrix} \\cdot\n",
    "\\begin{pmatrix}  0 \\\\ \\sqrt{\\frac{1}{3}} \\\\ \\sqrt{\\frac{1}{3}} \\\\ \\sqrt{\\frac{1}{3}} \\end{pmatrix} =\n",
    "\\frac{1}{\\sqrt{2}} \\begin{pmatrix}  \\sqrt{\\frac{1}{3}} \\\\ 2\\sqrt{\\frac{1}{3}} \\\\ -\\sqrt{\\frac{1}{3}} \\\\ 0 \\end{pmatrix} =\n",
    "\\begin{pmatrix}  \\sqrt{\\frac{1}{6}} \\\\ \\sqrt{\\frac{2}{3}} \\\\ \\sqrt{\\frac{1}{6}} \\\\ 0 \\end{pmatrix} $$"
   ]
  },
  {
   "cell_type": "markdown",
   "metadata": {
    "pycharm": {
     "name": "#%% md\n"
    },
    "slideshow": {
     "slide_type": "slide"
    }
   },
   "source": [
    "If we also show that the same is true if we measure the other way around (so measuring the X-basis of $q_1$), we have shown that the cars (qubits) satisfy property #2."
   ]
  },
  {
   "cell_type": "code",
   "execution_count": 6,
   "metadata": {
    "pycharm": {
     "name": "#%%\n"
    },
    "slideshow": {
     "slide_type": "fragment"
    }
   },
   "outputs": [
    {
     "name": "stdout",
     "output_type": "stream",
     "text": [
      "Results for an z (color) measurement on qubit 0 and a x (engine type) measurement on qubit 1:\n"
     ]
    },
    {
     "data": {
      "image/png": "[encoded data removed]",
      "text/plain": [
       "<Figure size 700x500 with 1 Axes>"
      ]
     },
     "execution_count": 6,
     "metadata": {},
     "output_type": "execute_result"
    }
   ],
   "source": [
    "measurementsZX = QuantumCircuit(q,c)\n",
    "# z measurement on qubit 0\n",
    "measurementsZX.measure(q[0],c[0])\n",
    "# x measurement on qubit 1\n",
    "measurementsZX.h(q[1])\n",
    "measurementsZX.measure(q[1],c[1])\n",
    "qc = qc_hardy.compose(measurementsZX, inplace=False)\n",
    "print('Results for an z (color) measurement on qubit 0 and a x (engine type) measurement on qubit 1:')\n",
    "plot_histogram(execute(qc,Aer.get_backend('qasm_simulator')).result().get_counts())"
   ]
  },
  {
   "cell_type": "markdown",
   "metadata": {
    "pycharm": {
     "name": "#%% md\n"
    },
    "slideshow": {
     "slide_type": "fragment"
    }
   },
   "source": [
    "As result \"11\" never occurs, property #2 also holds true. We will assume that the calculations are also correct as seen previously.\n",
    "Which gates exactly lead to property #2 being fulfilled is not obvious. There is no simple way of calculating the necessary steps. Therefore we will just accept this circuit as given."
   ]
  },
  {
   "cell_type": "markdown",
   "metadata": {
    "pycharm": {
     "name": "#%% md\n"
    },
    "slideshow": {
     "slide_type": "slide"
    }
   },
   "source": [
    "What can we now infer classically about the engine types of both cars?\n",
    "\n",
    "Let's first recall the properties we have confirmed:\n",
    "\n",
    "1. If we look at the colors of the cars, it never happens that both are red.\n",
    "2. If the engine type of one car is diesel, then the other car is red.\n",
    "\n",
    "Let's assume we measure the engine type for both cars and both would be diesel. Then by applying property #2, we can deduce what the result would have been if we had made color measurements instead: We would have gotten an output of red for both.\n",
    "\n",
    "However, this result is impossible according to property #1. We can therefore conclude that it must be impossible that both cars are diesel."
   ]
  },
  {
   "cell_type": "markdown",
   "metadata": {
    "pycharm": {
     "name": "#%% md\n"
    },
    "slideshow": {
     "slide_type": "slide"
    }
   },
   "source": [
    "But now let's do a measurement of the engine type for both cars, i.e. a measurement in the x basis for both qubits."
   ]
  },
  {
   "cell_type": "code",
   "execution_count": 7,
   "metadata": {
    "pycharm": {
     "name": "#%%\n"
    },
    "slideshow": {
     "slide_type": "fragment"
    }
   },
   "outputs": [
    {
     "name": "stdout",
     "output_type": "stream",
     "text": [
      "Results for two x (engine type) measurement on both qubits:\n"
     ]
    },
    {
     "data": {
      "image/png": "[encoded data removed]",
      "text/plain": [
       "<Figure size 700x500 with 1 Axes>"
      ]
     },
     "execution_count": 7,
     "metadata": {},
     "output_type": "execute_result"
    }
   ],
   "source": [
    "measurementsXX = QuantumCircuit(q,c)\n",
    "measurementsXX.h(q[0])\n",
    "measurementsXX.measure(q[0],c[0])\n",
    "measurementsXX.h(q[1])\n",
    "measurementsXX.measure(q[1],c[1])\n",
    "qc = qc_hardy.compose(measurementsXX, inplace=False)\n",
    "print('Results for two x (engine type) measurement on both qubits:')\n",
    "plot_histogram(execute(qc,Aer.get_backend('qasm_simulator')).result().get_counts())"
   ]
  },
  {
   "cell_type": "markdown",
   "metadata": {
    "pycharm": {
     "name": "#%% md\n"
    },
    "slideshow": {
     "slide_type": "slide"
    }
   },
   "source": [
    "## Background on Hardy's original Paradox\n",
    "\n",
    "\n",
    "In their famous paper in 1935, EPR essentially claimed that qubits can indeed be described by some form of classical variable. They did not know how to do it, but they were sure it could be done. Then quantum mechanics could be replaced by a much nicer and more sensible theory.\n",
    "\n",
    "It took until 1964 to show that they were wrong. J. S. Bell proved that quantum variables behaved in a way that was fundamentally unique. Since then, many new ways have been found to prove this, and extensive experiments have been done to show that this is exactly the way the universe works on a quantum mechanical level. We'll now consider a simple demonstration, using a variant of Hardy’s paradox."
   ]
  },
  {
   "cell_type": "markdown",
   "metadata": {
    "pycharm": {
     "name": "#%% md\n"
    },
    "slideshow": {
     "slide_type": "fragment"
    }
   },
   "source": [
    "### A thought experiment in quantum mechanics\n",
    "\n",
    "\n",
    "Originally, Hardy's paradox described a thought experiment by Lucien Hardy in the area of quantum mechanics.\n",
    "\n",
    "The experiment focuses on a particle and its anti-particle which interact without annihilating each other. The particles interfere with each other by two interferometers which are arranged in a way so that the paths of both particles overlap. The output each particle takes is the object of measurement. Our equivalent to the two particles are the two cars.\n",
    "As in our example, there is the property that if you measure the output of one particle the measurement of the second particle always results in the same specific result. Parallel to our #2 property, classical logic would imply that a special output case of both particles is impossible which indeed is possible as measurements show. (Reminder for comparison: We wrongfully concluded from the second property that both cars could not be diesel. The measurements proofed us wrong.)\n",
    "\n",
    "To learn more about Hardy's paradox in quantum mechanics have a look at [Wikipedia: Hardy's Paradox](https://en.wikipedia.org/wiki/Hardy%27s_paradox)."
   ]
  },
  {
   "cell_type": "markdown",
   "metadata": {
    "pycharm": {
     "name": "#%% md\n"
    },
    "slideshow": {
     "slide_type": "slide"
    }
   },
   "source": [
    "## What went wrong?\n",
    "\n",
    "Our mistake when trying to apply classical logic to a quantum mechanical system was in the following piece of reasoning.\n",
    "\n",
    "* By applying property 2 we can deduce what the result will be if we had made z measurements instead.\n",
    "\n",
    "We used our knowledge of the x (color) outputs to work out what the z (engine type) outputs were. Once we’d done that, we assumed that we were certain about the value of both.\n",
    "\n",
    "To underline this paradox, let's have a look at the calculations. \n",
    "\n",
    "H-Gate on $q_0$ and $q_1$:\n",
    "$$ \\left( H \\otimes H \\right) \\cdot\n",
    "\\begin{pmatrix}  0 \\\\ \\sqrt{\\frac{1}{3}} \\\\ \\sqrt{\\frac{1}{3}} \\\\ \\sqrt{\\frac{1}{3}} \\end{pmatrix} =\n",
    "\\left( \\frac{1}{\\sqrt{2}} \\begin{pmatrix}  1 & 1 \\\\ 1 & -1 \\end{pmatrix} \\otimes \\frac{1}{\\sqrt{2}} \\begin{pmatrix}  1 & 1 \\\\ 1 & -1 \\end{pmatrix} \\right) \\cdot\n",
    "\\begin{pmatrix}  0 \\\\ \\sqrt{\\frac{1}{3}} \\\\ \\sqrt{\\frac{1}{3}} \\\\ \\sqrt{\\frac{1}{3}} \\end{pmatrix} =\n",
    "\\frac{1}{2} \\begin{pmatrix}  1 & 1 & 1 & 1 \\\\ 1 & -1 & 1 & -1 \\\\ 1 & 1 & -1 & -1 \\\\ 1 & -1 & -1 & 1 \\end{pmatrix} \\cdot\n",
    "\\begin{pmatrix}  0 \\\\ \\sqrt{\\frac{1}{3}} \\\\ \\sqrt{\\frac{1}{3}} \\\\ \\sqrt{\\frac{1}{3}} \\end{pmatrix} =\n",
    "\\frac{1}{2} \\begin{pmatrix}  \\sqrt{3} \\\\ -\\sqrt{\\frac{1}{3}} \\\\ -\\sqrt{\\frac{1}{3}} \\\\ -\\sqrt{\\frac{1}{3}} \\end{pmatrix} =\n",
    "\\begin{pmatrix}  \\sqrt{\\frac{3}{4}} \\\\ \\sqrt{\\frac{1}{12}} \\\\ \\sqrt{\\frac{1}{12}} \\\\ \\sqrt{\\frac{1}{12}} \\end{pmatrix} $$\n"
   ]
  },
  {
   "cell_type": "markdown",
   "metadata": {
    "pycharm": {
     "name": "#%% md\n"
    },
    "slideshow": {
     "slide_type": "fragment"
    }
   },
   "source": [
    "Our logic would be completely valid if we were not reasoning about quantum objects.\n",
    "But as D.Mermin concludes at the end of his excellent book [Quantum Computer Science: An Introduction](https://library.uoh.edu.iq/admin/ebooks/22831-quantum_computer_science.pdf), for quantum objects you have to accept \"what didn't happen didn't happen\", i.e. we cannot make an assumptions about a measurement that wasn't done.\n",
    "\n",
    "The idea that measuring something is a completely neutral action is a common misconception. You always have to keep in mind that in quantum physics the measurement changes the system.\n",
    "\n",
    "This is (part of) what makes quantum computers able to outperform classical computers. It leads to effects that allow programs made with quantum variables to solve problems in ways that those with normal variables cannot. But just because qubits don’t follow the same logic as normal computers, it does not mean they defy logic entirely. They obey the definite rules laid out by quantum mechanics."
   ]
  },
  {
   "cell_type": "markdown",
   "metadata": {
    "pycharm": {
     "name": "#%% md\n"
    },
    "slideshow": {
     "slide_type": "slide"
    }
   },
   "source": [
    "## Calculations\n",
    "#### Step 1: The RY-Gate $ RY(\\theta)$\n",
    "\n",
    "At first, the second qubit $q_1$ is rotated around the Y-Axis by a specific value $ \\theta $, in this case $ \\theta = \\alpha$(see value above).\n",
    "*(Reminder: A rotation by $ \\theta = \\pi$ equals the Y-Gate.)*\n",
    "\n",
    "All following mathematical representations follow the [Qiskit Documentation](https://qiskit.org/documentation/index.html).\n",
    "\n",
    "Mathematically the RY-Gate is given by:\n",
    "\n",
    "$$ RY\\left(\\theta\\right) = exp\\left(-i\\frac{\\theta}{2}Y\\right) =\n",
    "\\begin{pmatrix}\n",
    "cos\\left(\\frac{\\theta}{2}\\right) & -sin\\left(\\frac{\\theta}{2}\\right)\\\\\n",
    "sin\\left(\\frac{\\theta}{2}\\right) & cos\\left(\\frac{\\theta}{2}\\right)\n",
    "\\end{pmatrix} $$\n",
    "\n",
    "The matrix representation for this case is therefore given by:\n",
    "\n",
    "$$ RY\\left(\\alpha\\right)  \\cdot |0\\rangle =\n",
    "exp\\left(-i\\frac{\\alpha}{2}Y\\right) \\cdot |0\\rangle =\n",
    "\\begin{pmatrix}\n",
    "cos\\left(\\frac{\\alpha}{2}\\right) & -sin\\left(\\frac{\\alpha}{2}\\right)\\\\\n",
    "sin\\left(\\frac{\\alpha}{2}\\right) & cos\\left(\\frac{\\alpha}{2}\\right)\n",
    "\\end{pmatrix} \\cdot \\begin{pmatrix} 1 \\\\ 0 \\end{pmatrix}=\n",
    "\\begin{pmatrix}  cos\\left(\\frac{\\alpha}{2}\\right) \\\\ sin\\left(\\frac{\\alpha}{2}\\right) \\end{pmatrix} =\n",
    "\\begin{pmatrix}  \\sqrt{\\frac{1}{3}} \\\\ \\sqrt{\\frac{2}{3}} \\end{pmatrix} $$\n",
    "\n",
    "So now Z-measurements (also the standard measurement basis) of the second qubit $q_1$ should approximately result in 1 two thirds of the time and in 0 one third of the time."
   ]
  },
  {
   "cell_type": "markdown",
   "metadata": {
    "pycharm": {
     "name": "#%% md\n"
    },
    "slideshow": {
     "slide_type": "slide"
    }
   },
   "source": [
    "#### Step 2: Creating an entangled state\n",
    "\n",
    "Now both qubits will be entangled which means that they cannot be described independently of each other. They are now **one system**.\n",
    "This is done by using the CNOT-Gate on the qubit $q_0$ as target- and $q_1$ as control-qubit.\n",
    " *Reminder: The CNOT-Gate $CX$ can be described as a conditional X-Gate. Only if the control-qubit is 1, the X-Gate is performed on the target-qubit. But rather than trying to understand everything via this explanation, try to focus on the maths and everything will make more sense.*\n",
    "\n",
    "The property that every following action is now performed on one and only one system (which contains two entangled qubits) is much more visible when we have a look at the matrix representation of the CNOT-Gate:\n",
    "\n",
    "$$ CX = \\begin{pmatrix} 1 & 0 & 0 & 0 \\\\ 0 & 1 & 0 & 0 \\\\ 0 & 0 & 0 & 1 \\\\ 0 & 0 & 1 & 0 \\end{pmatrix} $$\n",
    "\n",
    "(But careful: The CNOT-Gates matrix representation differs according to the chosen control qubit!)\n",
    "Obviously, this matrix cannot be multiplied with the vector from above because the dimensions do not match. Because of this we have to create the state-vector which combines both qubits. We achieve this by using the tensor-product:\n",
    "\n",
    "$$ \\begin{pmatrix}  cos\\left(\\frac{\\alpha}{2}\\right) \\\\ sin\\left(\\frac{\\alpha}{2}\\right) \\end{pmatrix} \\otimes\n",
    "\\begin{pmatrix}  1 \\\\ 0 \\end{pmatrix} =\n",
    "\\begin{pmatrix}  cos\\left(\\frac{\\alpha}{2}\\right) \\\\ 0 \\\\ sin\\left(\\frac{\\alpha}{2}\\right) \\\\ 0 \\end{pmatrix} $$\n",
    "\n",
    "We now have a state vector describing this two qubit system.\n"
   ]
  },
  {
   "cell_type": "markdown",
   "metadata": {
    "pycharm": {
     "name": "#%% md\n"
    },
    "slideshow": {
     "slide_type": "subslide"
    }
   },
   "source": [
    "Now we can use this to calculate our state after step 2.\n",
    "\n",
    "$$ \\begin{pmatrix} 1 & 0 & 0 & 0 \\\\ 0 & 1 & 0 & 0 \\\\ 0 & 0 & 0 & 1 \\\\ 0 & 0 & 1 & 0 \\end{pmatrix} \\cdot\n",
    "\\begin{pmatrix}  cos\\left(\\frac{\\alpha}{2}\\right) \\\\ 0 \\\\ sin\\left(\\frac{\\alpha}{2}\\right) \\\\ 0 \\end{pmatrix} =\n",
    "\\begin{pmatrix}  cos\\left(\\frac{\\alpha}{2}\\right) \\\\ 0 \\\\ 0 \\\\ sin\\left(\\frac{\\alpha}{2}\\right) \\end{pmatrix} =\n",
    "\\begin{pmatrix}  \\sqrt{\\frac{1}{3}} \\\\ 0 \\\\ 0 \\\\ \\sqrt{\\frac{2}{3}} \\end{pmatrix} $$\n",
    "\n",
    "As always you can now conclude the probabilities from the vector by looking at the radicands. By now there is no obvious connection to the two properties. Later we will understand that these steps are necessary to fulfill our properties.\n",
    "<p> <i> (Reminder: This should be read as  $\\begin{pmatrix}  \"00\" \\\\ \"01\" \\\\ \"10\" \\\\ \"11\" \\end{pmatrix}$ with $q_0$ being the left and $q_1$ the right qubit.) </i> </p>\n",
    "\n",
    "As we see now, it is not intuitive how to extract the single vectors of both qubits from this entangled state-vector or whether this is even possible. And that's the clue: Because they are now one system this is not possible (except for [separable states](https://en.wikipedia.org/wiki/Separable_state)). Therefore, we are now left with a vector which describes the system of both interdependent qubits."
   ]
  },
  {
   "cell_type": "markdown",
   "metadata": {
    "pycharm": {
     "name": "#%% md\n"
    },
    "slideshow": {
     "slide_type": "slide"
    }
   },
   "source": [
    "#### Step 3: Excluding the \"00\"-state\n",
    "\n",
    "The first property requires our quantum circuit to exclude the 00-state (aka RED/RED) or in other words: The probability of measuring \"00\" in the Z-basis has to be 0.\n",
    "For this we use two RY-Gates and one CNOT. To explain what happens, let us first have a look on the $\\theta$-Values of the RY-Gates:\n",
    "\n",
    "$$ RY_0\\left(\\theta_0\\right) = RY_0\\left(\\frac{\\pi}{4}\\right)$$\n",
    "$$ RY_1\\left(\\theta_1\\right) = RY_1\\left(\\frac{3\\pi}{4}\\right)$$\n",
    "$$ \\theta_0 + \\theta_1 = \\frac{\\pi}{4}+\\frac{3\\pi}{4} = \\pi$$\n",
    "\n",
    "This means that both rotations together are equivalent to a Y-Gate. So which role do the CNOT-Gates play?\n",
    "To understand the effect of this, let us make a case distinction:\n",
    "\n",
    "1. In approximately one third of the time, a measurement after step 1 would result in the second qubit $q_1$ being \"0\".\n",
    "In this case, **none**of the conditions of the CNOT-Gates (the ones from step 2 and step 3) are met and therefore no Operation on the $q_0$ Qubit is performed (except for the RY-Gates). So all step 3 does is transferring the $\\frac{1}{3}$ probability to the \"01\"-state.\n",
    "2. In approximately two thirds of the time, a measurement after step 1 would result in the second qubit $q_1$ being \"1\".\n",
    "In this case, **both** of the condition of the CNOT-Gates are met and therefore both times the X-Gate is performed on the $q_0$ Qubit. The outcome of this will be visible after the calculations."
   ]
  },
  {
   "cell_type": "markdown",
   "metadata": {
    "pycharm": {
     "name": "#%% md\n"
    },
    "slideshow": {
     "slide_type": "subslide"
    }
   },
   "source": [
    "Again, I want to stress something here: It should be clear that the CNOT-Gate is not doing \"nothing\" when its condition isn't met. We are still looking at an entangled system and there is one 4×1-vector describing the system. There are no two different calculations for each case above. Its one vector and one calculation (as you will see below) and every vector entry describes the probability for one specific case. \n",
    "\n",
    "This is also sometimes referred to as the property of quantum states to have multiple bit states encoded at once which is **simply wrong**. The reason for this is that the state of the qubit is unambiguously defined which is also shown by the state vector which clearly describes the current state of the system. The **results after measurements may be various different bit states** but not in its state before measurement!\n",
    "\n",
    "Obviously the dimensions of the RY-Gate do not match with our entangled system. There we have to expand it by tensor multiplication with the I-Gate (Identity Gate) which essentially causes that we only use the gate on one qubit. _Reminder: As per Definition the Parameter $\\theta$ of the RY-Gate is mulitplied by $\\frac{1}{2}$ (see step 1)._\n",
    "$$ RY_0: \\theta_0 = \\frac{\\pi}{4}\\\\\n",
    "\\left( I \\otimes RY_0\\left(\\frac{\\pi}{4}\\right) \\right) \\cdot  \\begin{pmatrix}  cos\\left(\\frac{\\alpha}{2}\\right) \\\\ 0 \\\\ 0 \\\\ sin\\left(\\frac{\\alpha}{2}\\right) \\end{pmatrix} =\n",
    "\\left(\n",
    "\\begin{pmatrix} 1 & 0 \\\\ 0 & 1 \\end{pmatrix}\n",
    "\\otimes\n",
    "\\begin{pmatrix} cos\\left(\\frac{\\pi}{8}\\right) & -sin\\left(\\frac{\\pi}{8}\\right)\\\\\n",
    "sin\\left(\\frac{\\pi}{8}\\right) & cos\\left(\\frac{\\pi}{8}\\right) \\end{pmatrix} \\right)\n",
    "\\cdot\n",
    "\\begin{pmatrix}  cos\\left(\\frac{\\alpha}{2}\\right) \\\\ 0 \\\\ 0 \\\\ sin\\left(\\frac{\\alpha}{2}\\right) \\end{pmatrix} \\\\=\n",
    "\\begin{pmatrix}\n",
    "cos\\left(\\frac{\\pi}{8}\\right) & -sin\\left(\\frac{\\pi}{8}\\right) & 0 & 0 \\\\\n",
    "sin\\left(\\frac{\\pi}{8}\\right) & cos\\left(\\frac{\\pi}{8}\\right) & 0 & 0 \\\\\n",
    "0 & 0 & cos\\left(\\frac{\\pi}{8}\\right) & -sin\\left(\\frac{\\pi}{8}\\right) \\\\\n",
    "0 & 0 & sin\\left(\\frac{\\pi}{8}\\right) & cos\\left(\\frac{\\pi}{8}\\right)\n",
    "\\end{pmatrix}\n",
    "\\cdot\n",
    "\\begin{pmatrix}  cos\\left(\\frac{\\alpha}{2}\\right) \\\\ 0 \\\\ 0 \\\\ sin\\left(\\frac{\\alpha}{2}\\right) \\end{pmatrix} \\approx\n",
    "\\begin{pmatrix}  0.534 \\\\ 0.221 \\\\ -0.312 \\\\ 0.754 \\end{pmatrix} \\approx\n",
    "\\begin{pmatrix}  \\sqrt{0.285} \\\\ \\sqrt{0.049} \\\\ \\sqrt{0.097} \\\\ \\sqrt{0.569} \\end{pmatrix} $$\n",
    "\n",
    "By taking the numbers to the square one can find out the radicands and thereby the probabilities."
   ]
  },
  {
   "cell_type": "markdown",
   "metadata": {
    "pycharm": {
     "name": "#%% md\n"
    },
    "slideshow": {
     "slide_type": "subslide"
    }
   },
   "source": [
    "The following calculations will be displayed with the rounded numbers to reduce complexity.\n",
    "Now the second CNOT-Gate is applied.\n",
    "\n",
    "$$ CX\\\\\n",
    "CX \\cdot  \\begin{pmatrix}  0.534 \\\\ 0.221 \\\\ -0.312 \\\\ 0.754 \\end{pmatrix} =\n",
    "\\begin{pmatrix} 1 & 0 & 0 & 0 \\\\ 0 & 1 & 0 & 0 \\\\ 0 & 0 & 0 & 1 \\\\ 0 & 0 & 1 & 0 \\end{pmatrix}\n",
    "\\cdot\n",
    "\\begin{pmatrix}  0.534 \\\\ 0.221 \\\\ -0.312 \\\\ 0.754 \\end{pmatrix} =\n",
    "\\begin{pmatrix}  0.534 \\\\ 0.221 \\\\ 0.754 \\\\ -0.312 \\end{pmatrix} \\approx\n",
    "\\begin{pmatrix}  \\sqrt{0.285} \\\\ \\sqrt{0.049} \\\\ \\sqrt{0.569} \\\\ \\sqrt{0.097}  \\end{pmatrix} $$\n",
    "\n",
    "At last, we apply the last RY-Gate.\n",
    "\n",
    "$$ RY_1: \\theta_1 = \\frac{3\\pi}{4}\\\\\n",
    "\\left( I \\otimes RY_1\\left(\\frac{3\\pi}{4}\\right) \\right) \\cdot  \\begin{pmatrix}  0.534 \\\\ 0.221 \\\\ 0.754 \\\\ -0.312 \\end{pmatrix} =\n",
    "\\begin{pmatrix}\n",
    "cos\\left(\\frac{3\\pi}{8}\\right) & -sin\\left(\\frac{3\\pi}{8}\\right) & 0 & 0 \\\\\n",
    "sin\\left(\\frac{3\\pi}{8}\\right) & cos\\left(\\frac{3\\pi}{8}\\right) & 0 & 0 \\\\\n",
    "0 & 0 & cos\\left(\\frac{3\\pi}{8}\\right) & -sin\\left(\\frac{3\\pi}{8}\\right) \\\\\n",
    "0 & 0 & sin\\left(\\frac{3\\pi}{8}\\right) & cos\\left(\\frac{3\\pi}{8}\\right)\n",
    "\\end{pmatrix}\n",
    "\\cdot\n",
    "\\begin{pmatrix}  0.534 \\\\ 0.221 \\\\ 0.754 \\\\ -0.312 \\end{pmatrix} \\approx\n",
    "\\begin{pmatrix}  0 \\\\ 0.577 \\\\ 0.577 \\\\ 0.577 \\end{pmatrix} \\approx\n",
    "\\begin{pmatrix}  0 \\\\ \\sqrt{\\frac{1}{3}} \\\\ \\sqrt{\\frac{1}{3}} \\\\ \\sqrt{\\frac{1}{3}} \\end{pmatrix} $$\n",
    "\n",
    "As we see now, we have nullified the probability of 00. Therefore, our first property is encoded i.e. RED/RED is not possible while all other combinations occur one-thirds of the time.\n",
    "We will continue the calculations with the last state vector which would have been the result if we had not used rounded numbers."
   ]
  },
  {
   "cell_type": "code",
   "execution_count": 8,
   "metadata": {
    "pycharm": {
     "name": "#%%\n"
    },
    "slideshow": {
     "slide_type": "skip"
    }
   },
   "outputs": [
    {
     "data": {
      "text/plain": [
       "{'qiskit-terra': '0.21.2', 'qiskit-aer': '0.10.4', 'qiskit-ignis': None, 'qiskit-ibmq-provider': '0.19.2', 'qiskit': '0.37.2', 'qiskit-nature': None, 'qiskit-finance': None, 'qiskit-optimization': None, 'qiskit-machine-learning': None}"
      ]
     },
     "execution_count": 8,
     "metadata": {},
     "output_type": "execute_result"
    }
   ],
   "source": [
    "import qiskit\n",
    "qiskit.__qiskit_version__"
   ]
  }
 ],
 "metadata": {
  "anaconda-cloud": {},
  "celltoolbar": "Slideshow",
  "kernelspec": {
   "display_name": "Python 3 (ipykernel)",
   "language": "python",
   "name": "python3"
  },
  "language_info": {
   "codemirror_mode": {
    "name": "ipython",
    "version": 3
   },
   "file_extension": ".py",
   "mimetype": "text/x-python",
   "name": "python",
   "nbconvert_exporter": "python",
   "pygments_lexer": "ipython3",
   "version": "3.9.13"
  },
  "latex_envs": {
   "bibliofile": "biblio.bib",
   "cite_by": "apalike",
   "current_citInitial": 1,
   "eqLabelWithNumbers": true,
   "eqNumInitial": 0
  },
  "livereveal": {
   "autolaunch": true
  },
  "nav_menu": {},
  "toc": {
   "navigate_menu": true,
   "number_sections": true,
   "sideBar": true,
   "threshold": 6,
   "toc_cell": false,
   "toc_section_display": "block",
   "toc_window_display": false
  }
 },
 "nbformat": 4,
 "nbformat_minor": 4
}
