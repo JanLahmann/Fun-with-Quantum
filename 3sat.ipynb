{
 "cells": [
  {
   "cell_type": "markdown",
   "metadata": {
    "slideshow": {
     "slide_type": "slide"
    },
    "pycharm": {
     "name": "#%% md\n"
    }
   },
   "source": [
    "# Simple Quantum Implementation using Qiskit Aqua for Boolean satisfiability problems\n",
    "\n",
    "\n",
    "\n",
    "This Jupyter notebook demonstrates how easy it is to use quantum algorithms from [Qiskit Aqua](https://qiskit.org/aqua) to solve Boolean satisfiability problems [(SAT)](https://en.wikipedia.org/wiki/Boolean_satisfiability_problem). \n",
    "\n",
    "It is based on the Qiskit tutorial [Using Grover search for 3-SAT problems](https://github.com/Qiskit/qiskit-tutorials/blob/master/community/aqua/optimization/grover.ipynb) by [Jay Gambetta](https://github.com/jaygambetta) and [Richard Chen](https://github.com/chunfuchen) and a hands-on workshop by David Mesterhazy.\n",
    "\n",
    "Implemented by [Jan-R. Lahmann](http://twitter.com/JanLahmann) using Qiskit, binder and RISE."
   ]
  },
  {
   "cell_type": "markdown",
   "metadata": {
    "slideshow": {
     "slide_type": "slide"
    },
    "pycharm": {
     "name": "#%% md\n"
    }
   },
   "source": [
    "## Boolean Satisfiabilty problems (SAT)\n",
    "\n",
    "The Boolean satisfiability problem [(SAT)](https://en.wikipedia.org/wiki/Boolean_satisfiability_problem) considers a Boolean expression with N boolean variables involving negation (NOT, $\\neg$), conjunction (AND, $\\wedge$) and disjunction (OR, $\\vee$), as in the following (simple) example:  \n",
    "$$ f(x_1, x_2) = (x_1 \\vee x_2) \\wedge (x_1 \\vee \\neg x_2) . $$\n",
    "\n",
    "The problem is to determine whether there is any assignment of values (TRUE, FALSE) to the Boolean variables which makes the formula true. \n",
    "\n",
    "It's something like trying to flip a bunch of switches to find the setting that makes a light bulb turn on.  \n",
    "SAT is of central importance in many areas of computer science, including complexity theory, algorithmics, cryptography, artificial intelligence, circuit design, and automatic theorem proving."
   ]
  },
  {
   "cell_type": "markdown",
   "metadata": {
    "slideshow": {
     "slide_type": "subslide"
    },
    "pycharm": {
     "name": "#%% md\n"
    }
   },
   "source": [
    "SAT was the first problem proven to be NP-complete.  \n",
    "This means that all problems in the [complexity class NP](https://en.wikipedia.org/wiki/NP_(complexity)) are at most as difficult to solve as SAT. \n",
    "\n",
    "There is no known classical algorithm that efficiently solves each SAT problem, and it is generally believed that no such algorithm exists.  \n",
    "Whether Boolean satisfiability problems have a classical algorithm that is polynomial in time is equivalent to the [P vs. NP problem](https://en.wikipedia.org/wiki/P_versus_NP_problem).  \n",
    "\n",
    "\n",
    "While [Grover's quantum search algorithm](https://en.wikipedia.org/wiki/Grover's_algorithm) does not provide exponential speed-up to this problem, it may nevertheless provide some speed-up in contrast to classical black-box search strategies.\n",
    "\n"
   ]
  },
  {
   "cell_type": "markdown",
   "metadata": {
    "slideshow": {
     "slide_type": "subslide"
    },
    "pycharm": {
     "name": "#%% md\n"
    }
   },
   "source": [
    "### Basic definitions and terminology\n",
    "\n",
    "\n",
    "A *literal* is either a variable, or the negation of a variable.  \n",
    "A *clause* is a disjunction (OR, $\\vee$) of literals, or a single literal.  \n",
    "A formula is in *conjunctive normal form* [(CNF)](https://en.wikipedia.org/wiki/Conjunctive_normal_form) if it is a conjunction (AND, $\\wedge$) of clauses, or a single clause.  \n",
    "\n",
    "A problem in conjunctive normal form is called *3-SAT* if each clause is limited to at most three literals.  \n",
    "3-SAT is also NP-complete.\n",
    "\n",
    "Example for 3-SAT: $ (x_1 ∨ ¬x_2) ∧ (¬x_1 ∨ x_2 ∨ x_3) ∧ ¬x_1 $.\n"
   ]
  },
  {
   "cell_type": "markdown",
   "metadata": {
    "slideshow": {
     "slide_type": "slide"
    },
    "pycharm": {
     "name": "#%% md\n"
    }
   },
   "source": [
    "## Solving 3-SAT using Qiskit Aqua \n",
    "\n",
    "We will show how to solve a 3-SAT problem using quantum algorithms from [Qiskit Aqua](https://qiskit.org/aqua).\n",
    "\n",
    "Let us consider three Boolean variables $x_1, x_2, x_3$ and a Boolean function $f$ given by:\n",
    "\n",
    "\\begin{align*} \n",
    "f(x_1, x_2, x_3) \\;= &\\;\\;\\;\\;\n",
    "\\;(\\neg x_1 \\vee \\neg x_2 \\vee \\neg x_3)  \\\\\n",
    "&\\;\\; \\wedge \\; ( x_1 \\vee \\neg x_2 \\vee  x_3) \\\\\n",
    "&\\;\\; \\wedge \\;( x_1 \\vee  x_2 \\vee \\neg x_3) \\\\\n",
    "&\\;\\; \\wedge \\;( x_1 \\vee \\neg x_2 \\vee \\neg x_3) \\\\\n",
    "&\\;\\; \\wedge \\;(\\neg x_1 \\vee  x_2 \\vee  x_3) \n",
    "\\end{align*}\n"
   ]
  },
  {
   "cell_type": "markdown",
   "metadata": {
    "slideshow": {
     "slide_type": "subslide"
    },
    "pycharm": {
     "name": "#%% md\n"
    }
   },
   "source": [
    "It is common, to state 3-SAT problems in [DIMACS CNF format](https://people.sc.fsu.edu/~jburkardt/data/cnf/cnf.html):\n",
    "\n",
    "1. The file may begin with comment lines. \n",
    "* The \"problem\" line begins with \"p\", followed by the problem type \"cnf\", the number of variables and the number of clauses.\n",
    "* The remainder of the file contains lines defining the clauses.\n",
    "* A clause is defined by listing the index of each positive literal, and the negative index of each negative literal. \n",
    "\n"
   ]
  },
  {
   "cell_type": "code",
   "execution_count": 1,
   "outputs": [],
   "source": [
    "# import Qiskit quantum libraries\n",
    "from qiskit.visualization import plot_histogram\n",
    "from qiskit.utils import QuantumInstance\n",
    "from qiskit.algorithms import Grover\n",
    "from qiskit.circuit.library import PhaseOracle\n",
    "from qiskit import Aer\n",
    "from qiskit.algorithms import AmplificationProblem"
   ],
   "metadata": {
    "collapsed": false,
    "pycharm": {
     "name": "#%%\n"
    }
   }
  },
  {
   "cell_type": "code",
   "execution_count": 2,
   "metadata": {
    "slideshow": {
     "slide_type": "fragment"
    },
    "pycharm": {
     "name": "#%%\n"
    }
   },
   "outputs": [
    {
     "name": "stdout",
     "output_type": "stream",
     "text": [
      "c This is an example DIMACS 3-sat file with 3 satisfying solutions: 1 -2 3 0, -1 -2 -3 0, 1 2 -3 0\n",
      "p cnf 3 5\n",
      "-1 -2 -3 0\n",
      "1 -2 3 0\n",
      "1 2 -3 0\n",
      "1 -2 -3 0\n",
      "-1 2 3 0\n",
      "\n"
     ]
    }
   ],
   "source": [
    "# import the problem in DIMACS CNF format\n",
    "import os\n",
    "import wget\n",
    "if not '3sat3-5.cnf' in os.listdir():\n",
    "    wget.download('https://raw.githubusercontent.com/Qiskit/qiskit-tutorials/master/community/aqua/optimization/3sat3-5.cnf')\n",
    "with open('3sat3-5.cnf', 'r') as f:\n",
    "    sat_cnf = f.read()\n",
    "    oracle = PhaseOracle.from_dimacs_file(\"3sat3-5.cnf\")\n",
    "print(sat_cnf)"
   ]
  },
  {
   "cell_type": "markdown",
   "metadata": {
    "slideshow": {
     "slide_type": "slide"
    },
    "pycharm": {
     "name": "#%% md\n"
    }
   },
   "source": [
    "To apply a quantum algorithm from Qiskit Aqua to this problem, we simply need to import the Qiskit libraries and run the algorithm with the appropriate parameters."
   ]
  },
  {
   "cell_type": "code",
   "execution_count": 3,
   "metadata": {
    "slideshow": {
     "slide_type": "subslide"
    },
    "pycharm": {
     "name": "#%%\n"
    }
   },
   "outputs": [
    {
     "data": {
      "text/plain": "<Figure size 700x500 with 1 Axes>",
      "image/png": "[encoded data removed]"
     },
     "execution_count": 3,
     "metadata": {},
     "output_type": "execute_result"
    }
   ],
   "source": [
    "backend = Aer.get_backend('qasm_simulator')\n",
    "quantum_instance = QuantumInstance(backend, shots=200)\n",
    "grover = Grover(quantum_instance=backend)\n",
    "problem = AmplificationProblem(oracle)\n",
    "result = grover.amplify(problem)\n",
    "plot_histogram(result.circuit_results)"
   ]
  },
  {
   "cell_type": "markdown",
   "metadata": {
    "slideshow": {
     "slide_type": "fragment"
    },
    "pycharm": {
     "name": "#%% md\n"
    }
   },
   "source": [
    "The result shows that the assignments $000, 101, 110$ for $x_1 x_2 x_3$ are potential solutions to the problem.  \n",
    "Whether these are correct solutions to the problem can be verified efficiently, as 3-SAT is in NP.\n",
    "Note that the variables in the histogram are in reverse order: $x_3, x_2, x_1$ instead of $x_1, x_2, x_3$.\n"
   ]
  },
  {
   "cell_type": "markdown",
   "metadata": {
    "slideshow": {
     "slide_type": "slide"
    },
    "pycharm": {
     "name": "#%% md\n"
    }
   },
   "source": [
    "## Classical brute force algorithm\n",
    "\n",
    "The solutions to the problem can also be derived with a classical (non-quantum) algorithm by simply trying every possible combination of input values $x_1, x_2, x_3$of $f$.\n",
    "\n",
    "We find again, that the solutions for the given 3-SAT problem are the assignments $000, 101, 110$ for $x_1 x_2 x_3$.  "
   ]
  },
  {
   "cell_type": "code",
   "execution_count": 4,
   "metadata": {
    "scrolled": false,
    "slideshow": {
     "slide_type": "subslide"
    },
    "pycharm": {
     "name": "#%%\n"
    }
   },
   "outputs": [
    {
     "data": {
      "text/plain": "<IPython.core.display.HTML object>",
      "text/html": "<table>\n<thead>\n<tr><th style=\"text-align: right;\">  $x_1$</th><th style=\"text-align: right;\">  $x_2$</th><th style=\"text-align: right;\">  $x_3$</th><th>$f$  </th></tr>\n</thead>\n<tbody>\n<tr><td style=\"text-align: right;\">      0</td><td style=\"text-align: right;\">      0</td><td style=\"text-align: right;\">      0</td><td>True </td></tr>\n<tr><td style=\"text-align: right;\">      0</td><td style=\"text-align: right;\">      0</td><td style=\"text-align: right;\">      1</td><td>False</td></tr>\n<tr><td style=\"text-align: right;\">      0</td><td style=\"text-align: right;\">      1</td><td style=\"text-align: right;\">      0</td><td>False</td></tr>\n<tr><td style=\"text-align: right;\">      0</td><td style=\"text-align: right;\">      1</td><td style=\"text-align: right;\">      1</td><td>False</td></tr>\n<tr><td style=\"text-align: right;\">      1</td><td style=\"text-align: right;\">      0</td><td style=\"text-align: right;\">      0</td><td>False</td></tr>\n<tr><td style=\"text-align: right;\">      1</td><td style=\"text-align: right;\">      0</td><td style=\"text-align: right;\">      1</td><td>True </td></tr>\n<tr><td style=\"text-align: right;\">      1</td><td style=\"text-align: right;\">      1</td><td style=\"text-align: right;\">      0</td><td>True </td></tr>\n<tr><td style=\"text-align: right;\">      1</td><td style=\"text-align: right;\">      1</td><td style=\"text-align: right;\">      1</td><td>False</td></tr>\n</tbody>\n</table>"
     },
     "metadata": {},
     "output_type": "display_data"
    }
   ],
   "source": [
    "from IPython.display import HTML, display\n",
    "import tabulate\n",
    "\n",
    "nbr = 3 # number of Boolean variables in Boolean function\n",
    "\n",
    "table = []\n",
    "for i in range(2**nbr):\n",
    "    x1, x2, x3 = [int(x) for x in '{0:03b}'.format(i)] # Boolean variables\n",
    "    \n",
    "    # define clauses \n",
    "    c1 = [not x1, not x2, not x3] # -1 -2 -3\n",
    "    c2 = [    x1, not x2,     x3] #  1 -2  3\n",
    "    c3 = [    x1,     x2, not x3] #  1  2 -3\n",
    "    c4 = [    x1, not x2, not x3] #  1 -2 -3\n",
    "    c5 = [not x1,     x2,     x3] # -1  2  3\n",
    "    \n",
    "    f = all([any(c1), any(c2), any(c3), any(c4), any(c5)]) # Boolean function\n",
    "    table.append([x1, x2, x3, f])\n",
    "    \n",
    "display(HTML(tabulate.tabulate(table, tablefmt = 'html', \n",
    "            headers = ['$x_1$', '$x_2$', '$x_3$', '$f$'])))"
   ]
  },
  {
   "cell_type": "markdown",
   "metadata": {
    "slideshow": {
     "slide_type": "fragment"
    },
    "pycharm": {
     "name": "#%% md\n"
    }
   },
   "source": [
    "Remark: this is obviously not the most efficient classical algorithm that exists. Heuristic SAT-algorithms are able to solve problem instances involving tens of thousands of variables and formulas consisting of millions of symbols, which is sufficient for many practical SAT problems."
   ]
  }
 ],
 "metadata": {
  "anaconda-cloud": {},
  "celltoolbar": "Slideshow",
  "kernelspec": {
   "display_name": "Python 3",
   "language": "python",
   "name": "python3"
  },
  "language_info": {
   "codemirror_mode": {
    "name": "ipython",
    "version": 3
   },
   "file_extension": ".py",
   "mimetype": "text/x-python",
   "name": "python",
   "nbconvert_exporter": "python",
   "pygments_lexer": "ipython3",
   "version": "3.7.2"
  },
  "latex_envs": {
   "bibliofile": "biblio.bib",
   "cite_by": "apalike",
   "current_citInitial": 1,
   "eqLabelWithNumbers": true,
   "eqNumInitial": 0
  },
  "livereveal": {
   "autolaunch": true
  },
  "nav_menu": {},
  "toc": {
   "navigate_menu": true,
   "number_sections": true,
   "sideBar": true,
   "threshold": 6,
   "toc_cell": false,
   "toc_section_display": "block",
   "toc_window_display": false
  }
 },
 "nbformat": 4,
 "nbformat_minor": 1
}