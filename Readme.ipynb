{
 "cells": [
  {
   "cell_type": "markdown",
   "source": [
    "# Fun with Quantum\n",
    "\"Fun with Quantum\" is a colletion of Jupyter notebooks that highlight specific aspects of Quantum Computing that are interesting and/or fun.\n",
    "\n",
    "1. [Quantum Coin Game](./Quantum-Coin-Game.ipynb)\n",
    "2. [Simple Quantum Implementation for Boolean satisfiability problems](./3sat.ipynb)\n",
    "3. [Even Simpler Quantum Implementation for Boolean satisfiability problems](./3sat-v2.ipynb) (under development) \n",
    "4. [GHZ Game](./GHZ-Game.ipynb)\n",
    "5. [GHZ Game on real devices](./GHZ-on-Real-Devices.ipynb)\n",
    "6. [Hardy's Paradox](./Hardys-Paradox.ipynb) (under development) \n",
    "7. [Mermin-Peres Magic Square](./Mermin–Peres-Game.ipynb) (under development)"
   ],
   "metadata": {}
  },
  {
   "cell_type": "code",
   "execution_count": null,
   "source": [],
   "outputs": [],
   "metadata": {}
  }
 ],
 "metadata": {
  "kernelspec": {
   "display_name": "Python 3",
   "language": "python",
   "name": "python3"
  },
  "language_info": {
   "codemirror_mode": {
    "name": "ipython",
    "version": 3
   },
   "file_extension": ".py",
   "mimetype": "text/x-python",
   "name": "python",
   "nbconvert_exporter": "python",
   "pygments_lexer": "ipython3",
   "version": "3.8.10"
  }
 },
 "nbformat": 4,
 "nbformat_minor": 5
}