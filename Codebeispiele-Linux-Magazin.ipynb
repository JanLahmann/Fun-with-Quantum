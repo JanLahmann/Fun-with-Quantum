{
 "cells": [
  {
   "cell_type": "markdown",
   "id": "f2a203e8",
   "metadata": {
    "pycharm": {
     "name": "#%% md\n"
    }
   },
   "source": [
    "# How to use this notebook\n",
    "This notebook is meant to accompany an article published in \"Linux Magazin\" XXXXX (german). The code snippets directly refer to the article are probably not self-explanatory."
   ]
  },
  {
   "cell_type": "markdown",
   "id": "1a39bffc",
   "metadata": {
    "pycharm": {
     "name": "#%% md\n"
    }
   },
   "source": [
    "### _Vorbereitungen_\n",
    "Imports der benötigten Bibliotheken, API einrichten"
   ]
  },
  {
   "cell_type": "code",
   "execution_count": 1,
   "id": "e11ca67e",
   "metadata": {
    "pycharm": {
     "name": "#%%\n"
    }
   },
   "outputs": [],
   "source": [
    "from qiskit import QuantumCircuit, execute,  Aer, QuantumRegister, IBMQ\n",
    "from qiskit.visualization import *\n",
    "from qiskit.circuit.library import QFT\n",
    "from qiskit_ibm_runtime import QiskitRuntimeService, Sampler\n",
    "from qiskit_aqt_provider import AQTProvider\n",
    "from qiskit.visualization import plot_histogram\n",
    "from qiskit.compiler import transpile, assemble"
   ]
  },
  {
   "cell_type": "code",
   "execution_count": 2,
   "outputs": [
    {
     "ename": "RequestsApiError",
     "evalue": "'401 Client Error: Unauthorized for url: https://auth.quantum-computing.ibm.com/api/users/loginWithToken. Login failed., Error code: 3446.'",
     "output_type": "error",
     "traceback": [
      "\u001B[0;31m---------------------------------------------------------------------------\u001B[0m",
      "\u001B[0;31mHTTPError\u001B[0m                                 Traceback (most recent call last)",
      "File \u001B[0;32m~/opt/anaconda3/envs/Fun-with-Quantum/lib/python3.9/site-packages/qiskit/providers/ibmq/api/session.py:278\u001B[0m, in \u001B[0;36mRetrySession.request\u001B[0;34m(self, method, url, bare, **kwargs)\u001B[0m\n\u001B[1;32m    277\u001B[0m     response \u001B[38;5;241m=\u001B[39m \u001B[38;5;28msuper\u001B[39m()\u001B[38;5;241m.\u001B[39mrequest(method, final_url, headers\u001B[38;5;241m=\u001B[39mheaders, \u001B[38;5;241m*\u001B[39m\u001B[38;5;241m*\u001B[39mkwargs)\n\u001B[0;32m--> 278\u001B[0m     \u001B[43mresponse\u001B[49m\u001B[38;5;241;43m.\u001B[39;49m\u001B[43mraise_for_status\u001B[49m\u001B[43m(\u001B[49m\u001B[43m)\u001B[49m\n\u001B[1;32m    279\u001B[0m \u001B[38;5;28;01mexcept\u001B[39;00m RequestException \u001B[38;5;28;01mas\u001B[39;00m ex:\n\u001B[1;32m    280\u001B[0m     \u001B[38;5;66;03m# Wrap the requests exceptions into a IBM Q custom one, for\u001B[39;00m\n\u001B[1;32m    281\u001B[0m     \u001B[38;5;66;03m# compatibility.\u001B[39;00m\n",
      "File \u001B[0;32m~/opt/anaconda3/envs/Fun-with-Quantum/lib/python3.9/site-packages/requests/models.py:1021\u001B[0m, in \u001B[0;36mResponse.raise_for_status\u001B[0;34m(self)\u001B[0m\n\u001B[1;32m   1020\u001B[0m \u001B[38;5;28;01mif\u001B[39;00m http_error_msg:\n\u001B[0;32m-> 1021\u001B[0m     \u001B[38;5;28;01mraise\u001B[39;00m HTTPError(http_error_msg, response\u001B[38;5;241m=\u001B[39m\u001B[38;5;28mself\u001B[39m)\n",
      "\u001B[0;31mHTTPError\u001B[0m: 401 Client Error: Unauthorized for url: https://auth.quantum-computing.ibm.com/api/users/loginWithToken",
      "\nThe above exception was the direct cause of the following exception:\n",
      "\u001B[0;31mRequestsApiError\u001B[0m                          Traceback (most recent call last)",
      "Input \u001B[0;32mIn [2]\u001B[0m, in \u001B[0;36m<cell line: 5>\u001B[0;34m()\u001B[0m\n\u001B[1;32m      3\u001B[0m IBMQ_API_TOKEN \u001B[38;5;241m=\u001B[39m \u001B[38;5;124m\"\u001B[39m\u001B[38;5;124mPUT_YOUR_IBMQ_TOKEN_HERE\u001B[39m\u001B[38;5;124m\"\u001B[39m\n\u001B[1;32m      4\u001B[0m AQT_TOKEN \u001B[38;5;241m=\u001B[39m \u001B[38;5;124m\"\u001B[39m\u001B[38;5;124mPut AQT Token here\u001B[39m\u001B[38;5;124m\"\u001B[39m\n\u001B[0;32m----> 5\u001B[0m \u001B[43mIBMQ\u001B[49m\u001B[38;5;241;43m.\u001B[39;49m\u001B[43menable_account\u001B[49m\u001B[43m(\u001B[49m\u001B[43mIBMQ_API_TOKEN\u001B[49m\u001B[43m)\u001B[49m\n\u001B[1;32m      6\u001B[0m provider \u001B[38;5;241m=\u001B[39m IBMQ\u001B[38;5;241m.\u001B[39mget_provider()\n\u001B[1;32m      7\u001B[0m device \u001B[38;5;241m=\u001B[39m least_busy(provider\u001B[38;5;241m.\u001B[39mbackends(simulator\u001B[38;5;241m=\u001B[39m\u001B[38;5;28;01mTrue\u001B[39;00m))\n",
      "File \u001B[0;32m~/opt/anaconda3/envs/Fun-with-Quantum/lib/python3.9/site-packages/qiskit/providers/ibmq/ibmqfactory.py:107\u001B[0m, in \u001B[0;36mIBMQFactory.enable_account\u001B[0;34m(self, token, url, hub, group, project, **kwargs)\u001B[0m\n\u001B[1;32m    102\u001B[0m     \u001B[38;5;28;01mraise\u001B[39;00m IBMQAccountCredentialsInvalidUrl(\n\u001B[1;32m    103\u001B[0m         \u001B[38;5;124m'\u001B[39m\u001B[38;5;124mThe URL specified (\u001B[39m\u001B[38;5;132;01m{}\u001B[39;00m\u001B[38;5;124m) is not an IBM Quantum Experience authentication \u001B[39m\u001B[38;5;124m'\u001B[39m\n\u001B[1;32m    104\u001B[0m         \u001B[38;5;124m'\u001B[39m\u001B[38;5;124mURL. Valid authentication URL: \u001B[39m\u001B[38;5;132;01m{}\u001B[39;00m\u001B[38;5;124m.\u001B[39m\u001B[38;5;124m'\u001B[39m\u001B[38;5;241m.\u001B[39mformat(credentials\u001B[38;5;241m.\u001B[39murl, QX_AUTH_URL))\n\u001B[1;32m    106\u001B[0m \u001B[38;5;66;03m# Initialize the providers.\u001B[39;00m\n\u001B[0;32m--> 107\u001B[0m \u001B[38;5;28;43mself\u001B[39;49m\u001B[38;5;241;43m.\u001B[39;49m\u001B[43m_initialize_providers\u001B[49m\u001B[43m(\u001B[49m\u001B[43mcredentials\u001B[49m\u001B[43m)\u001B[49m\n\u001B[1;32m    109\u001B[0m \u001B[38;5;66;03m# Prevent edge case where no hubs are available.\u001B[39;00m\n\u001B[1;32m    110\u001B[0m providers \u001B[38;5;241m=\u001B[39m \u001B[38;5;28mself\u001B[39m\u001B[38;5;241m.\u001B[39mproviders()\n",
      "File \u001B[0;32m~/opt/anaconda3/envs/Fun-with-Quantum/lib/python3.9/site-packages/qiskit/providers/ibmq/ibmqfactory.py:456\u001B[0m, in \u001B[0;36mIBMQFactory._initialize_providers\u001B[0;34m(self, credentials, preferences)\u001B[0m\n\u001B[1;32m    446\u001B[0m \u001B[38;5;28;01mdef\u001B[39;00m \u001B[38;5;21m_initialize_providers\u001B[39m(\n\u001B[1;32m    447\u001B[0m         \u001B[38;5;28mself\u001B[39m, credentials: Credentials,\n\u001B[1;32m    448\u001B[0m         preferences: Optional[Dict] \u001B[38;5;241m=\u001B[39m \u001B[38;5;28;01mNone\u001B[39;00m\n\u001B[1;32m    449\u001B[0m ) \u001B[38;5;241m-\u001B[39m\u001B[38;5;241m>\u001B[39m \u001B[38;5;28;01mNone\u001B[39;00m:\n\u001B[1;32m    450\u001B[0m     \u001B[38;5;124;03m\"\"\"Authenticate against IBM Quantum and populate the providers.\u001B[39;00m\n\u001B[1;32m    451\u001B[0m \n\u001B[1;32m    452\u001B[0m \u001B[38;5;124;03m    Args:\u001B[39;00m\n\u001B[1;32m    453\u001B[0m \u001B[38;5;124;03m        credentials: Credentials for IBM Quantum.\u001B[39;00m\n\u001B[1;32m    454\u001B[0m \u001B[38;5;124;03m        preferences: Account preferences.\u001B[39;00m\n\u001B[1;32m    455\u001B[0m \u001B[38;5;124;03m    \"\"\"\u001B[39;00m\n\u001B[0;32m--> 456\u001B[0m     auth_client \u001B[38;5;241m=\u001B[39m \u001B[43mAuthClient\u001B[49m\u001B[43m(\u001B[49m\u001B[43mcredentials\u001B[49m\u001B[38;5;241;43m.\u001B[39;49m\u001B[43mtoken\u001B[49m\u001B[43m,\u001B[49m\n\u001B[1;32m    457\u001B[0m \u001B[43m                             \u001B[49m\u001B[43mcredentials\u001B[49m\u001B[38;5;241;43m.\u001B[39;49m\u001B[43mbase_url\u001B[49m\u001B[43m,\u001B[49m\n\u001B[1;32m    458\u001B[0m \u001B[43m                             \u001B[49m\u001B[38;5;241;43m*\u001B[39;49m\u001B[38;5;241;43m*\u001B[39;49m\u001B[43mcredentials\u001B[49m\u001B[38;5;241;43m.\u001B[39;49m\u001B[43mconnection_parameters\u001B[49m\u001B[43m(\u001B[49m\u001B[43m)\u001B[49m\u001B[43m)\u001B[49m\n\u001B[1;32m    459\u001B[0m     service_urls \u001B[38;5;241m=\u001B[39m auth_client\u001B[38;5;241m.\u001B[39mcurrent_service_urls()\n\u001B[1;32m    460\u001B[0m     user_hubs \u001B[38;5;241m=\u001B[39m auth_client\u001B[38;5;241m.\u001B[39muser_hubs()\n",
      "File \u001B[0;32m~/opt/anaconda3/envs/Fun-with-Quantum/lib/python3.9/site-packages/qiskit/providers/ibmq/api/clients/auth.py:41\u001B[0m, in \u001B[0;36mAuthClient.__init__\u001B[0;34m(self, api_token, auth_url, **request_kwargs)\u001B[0m\n\u001B[1;32m     38\u001B[0m \u001B[38;5;28mself\u001B[39m\u001B[38;5;241m.\u001B[39m_service_urls \u001B[38;5;241m=\u001B[39m {}  \u001B[38;5;66;03m# type: ignore[var-annotated]\u001B[39;00m\n\u001B[1;32m     40\u001B[0m \u001B[38;5;28mself\u001B[39m\u001B[38;5;241m.\u001B[39mauth_api \u001B[38;5;241m=\u001B[39m Api(RetrySession(auth_url, \u001B[38;5;241m*\u001B[39m\u001B[38;5;241m*\u001B[39mrequest_kwargs))\n\u001B[0;32m---> 41\u001B[0m \u001B[38;5;28mself\u001B[39m\u001B[38;5;241m.\u001B[39mbase_api \u001B[38;5;241m=\u001B[39m \u001B[38;5;28;43mself\u001B[39;49m\u001B[38;5;241;43m.\u001B[39;49m\u001B[43m_init_service_clients\u001B[49m\u001B[43m(\u001B[49m\u001B[38;5;241;43m*\u001B[39;49m\u001B[38;5;241;43m*\u001B[39;49m\u001B[43mrequest_kwargs\u001B[49m\u001B[43m)\u001B[49m\n",
      "File \u001B[0;32m~/opt/anaconda3/envs/Fun-with-Quantum/lib/python3.9/site-packages/qiskit/providers/ibmq/api/clients/auth.py:53\u001B[0m, in \u001B[0;36mAuthClient._init_service_clients\u001B[0;34m(self, **request_kwargs)\u001B[0m\n\u001B[1;32m     44\u001B[0m \u001B[38;5;124;03m\"\"\"Initialize the clients used for communicating with the API.\u001B[39;00m\n\u001B[1;32m     45\u001B[0m \n\u001B[1;32m     46\u001B[0m \u001B[38;5;124;03mArgs:\u001B[39;00m\n\u001B[0;32m   (...)\u001B[0m\n\u001B[1;32m     50\u001B[0m \u001B[38;5;124;03m    Client for the API server.\u001B[39;00m\n\u001B[1;32m     51\u001B[0m \u001B[38;5;124;03m\"\"\"\u001B[39;00m\n\u001B[1;32m     52\u001B[0m \u001B[38;5;66;03m# Request an access token.\u001B[39;00m\n\u001B[0;32m---> 53\u001B[0m access_token \u001B[38;5;241m=\u001B[39m \u001B[38;5;28;43mself\u001B[39;49m\u001B[38;5;241;43m.\u001B[39;49m\u001B[43m_request_access_token\u001B[49m\u001B[43m(\u001B[49m\u001B[43m)\u001B[49m\n\u001B[1;32m     54\u001B[0m \u001B[38;5;66;03m# Use the token for the next auth server requests.\u001B[39;00m\n\u001B[1;32m     55\u001B[0m \u001B[38;5;28mself\u001B[39m\u001B[38;5;241m.\u001B[39mauth_api\u001B[38;5;241m.\u001B[39msession\u001B[38;5;241m.\u001B[39maccess_token \u001B[38;5;241m=\u001B[39m access_token\n",
      "File \u001B[0;32m~/opt/anaconda3/envs/Fun-with-Quantum/lib/python3.9/site-packages/qiskit/providers/ibmq/api/clients/auth.py:75\u001B[0m, in \u001B[0;36mAuthClient._request_access_token\u001B[0;34m(self)\u001B[0m\n\u001B[1;32m     65\u001B[0m \u001B[38;5;124;03m\"\"\"Request a new access token from the API authentication service.\u001B[39;00m\n\u001B[1;32m     66\u001B[0m \n\u001B[1;32m     67\u001B[0m \u001B[38;5;124;03mReturns:\u001B[39;00m\n\u001B[0;32m   (...)\u001B[0m\n\u001B[1;32m     72\u001B[0m \u001B[38;5;124;03m    RequestsApiError: If the request failed.\u001B[39;00m\n\u001B[1;32m     73\u001B[0m \u001B[38;5;124;03m\"\"\"\u001B[39;00m\n\u001B[1;32m     74\u001B[0m \u001B[38;5;28;01mtry\u001B[39;00m:\n\u001B[0;32m---> 75\u001B[0m     response \u001B[38;5;241m=\u001B[39m \u001B[38;5;28;43mself\u001B[39;49m\u001B[38;5;241;43m.\u001B[39;49m\u001B[43mauth_api\u001B[49m\u001B[38;5;241;43m.\u001B[39;49m\u001B[43mlogin\u001B[49m\u001B[43m(\u001B[49m\u001B[38;5;28;43mself\u001B[39;49m\u001B[38;5;241;43m.\u001B[39;49m\u001B[43mapi_token\u001B[49m\u001B[43m)\u001B[49m\n\u001B[1;32m     76\u001B[0m     \u001B[38;5;28;01mreturn\u001B[39;00m response[\u001B[38;5;124m'\u001B[39m\u001B[38;5;124mid\u001B[39m\u001B[38;5;124m'\u001B[39m]\n\u001B[1;32m     77\u001B[0m \u001B[38;5;28;01mexcept\u001B[39;00m RequestsApiError \u001B[38;5;28;01mas\u001B[39;00m ex:\n\u001B[1;32m     78\u001B[0m     \u001B[38;5;66;03m# Get the original exception that raised.\u001B[39;00m\n",
      "File \u001B[0;32m~/opt/anaconda3/envs/Fun-with-Quantum/lib/python3.9/site-packages/qiskit/providers/ibmq/api/rest/root.py:125\u001B[0m, in \u001B[0;36mApi.login\u001B[0;34m(self, api_token)\u001B[0m\n\u001B[1;32m    116\u001B[0m \u001B[38;5;124;03m\"\"\"Login with token.\u001B[39;00m\n\u001B[1;32m    117\u001B[0m \n\u001B[1;32m    118\u001B[0m \u001B[38;5;124;03mArgs:\u001B[39;00m\n\u001B[0;32m   (...)\u001B[0m\n\u001B[1;32m    122\u001B[0m \u001B[38;5;124;03m    JSON response.\u001B[39;00m\n\u001B[1;32m    123\u001B[0m \u001B[38;5;124;03m\"\"\"\u001B[39;00m\n\u001B[1;32m    124\u001B[0m url \u001B[38;5;241m=\u001B[39m \u001B[38;5;28mself\u001B[39m\u001B[38;5;241m.\u001B[39mget_url(\u001B[38;5;124m'\u001B[39m\u001B[38;5;124mlogin\u001B[39m\u001B[38;5;124m'\u001B[39m)\n\u001B[0;32m--> 125\u001B[0m \u001B[38;5;28;01mreturn\u001B[39;00m \u001B[38;5;28;43mself\u001B[39;49m\u001B[38;5;241;43m.\u001B[39;49m\u001B[43msession\u001B[49m\u001B[38;5;241;43m.\u001B[39;49m\u001B[43mpost\u001B[49m\u001B[43m(\u001B[49m\u001B[43murl\u001B[49m\u001B[43m,\u001B[49m\u001B[43m \u001B[49m\u001B[43mjson\u001B[49m\u001B[38;5;241;43m=\u001B[39;49m\u001B[43m{\u001B[49m\u001B[38;5;124;43m'\u001B[39;49m\u001B[38;5;124;43mapiToken\u001B[39;49m\u001B[38;5;124;43m'\u001B[39;49m\u001B[43m:\u001B[49m\u001B[43m \u001B[49m\u001B[43mapi_token\u001B[49m\u001B[43m}\u001B[49m\u001B[43m)\u001B[49m\u001B[38;5;241m.\u001B[39mjson()\n",
      "File \u001B[0;32m~/opt/anaconda3/envs/Fun-with-Quantum/lib/python3.9/site-packages/requests/sessions.py:635\u001B[0m, in \u001B[0;36mSession.post\u001B[0;34m(self, url, data, json, **kwargs)\u001B[0m\n\u001B[1;32m    624\u001B[0m \u001B[38;5;28;01mdef\u001B[39;00m \u001B[38;5;21mpost\u001B[39m(\u001B[38;5;28mself\u001B[39m, url, data\u001B[38;5;241m=\u001B[39m\u001B[38;5;28;01mNone\u001B[39;00m, json\u001B[38;5;241m=\u001B[39m\u001B[38;5;28;01mNone\u001B[39;00m, \u001B[38;5;241m*\u001B[39m\u001B[38;5;241m*\u001B[39mkwargs):\n\u001B[1;32m    625\u001B[0m     \u001B[38;5;124mr\u001B[39m\u001B[38;5;124;03m\"\"\"Sends a POST request. Returns :class:`Response` object.\u001B[39;00m\n\u001B[1;32m    626\u001B[0m \n\u001B[1;32m    627\u001B[0m \u001B[38;5;124;03m    :param url: URL for the new :class:`Request` object.\u001B[39;00m\n\u001B[0;32m   (...)\u001B[0m\n\u001B[1;32m    632\u001B[0m \u001B[38;5;124;03m    :rtype: requests.Response\u001B[39;00m\n\u001B[1;32m    633\u001B[0m \u001B[38;5;124;03m    \"\"\"\u001B[39;00m\n\u001B[0;32m--> 635\u001B[0m     \u001B[38;5;28;01mreturn\u001B[39;00m \u001B[38;5;28;43mself\u001B[39;49m\u001B[38;5;241;43m.\u001B[39;49m\u001B[43mrequest\u001B[49m\u001B[43m(\u001B[49m\u001B[38;5;124;43m\"\u001B[39;49m\u001B[38;5;124;43mPOST\u001B[39;49m\u001B[38;5;124;43m\"\u001B[39;49m\u001B[43m,\u001B[49m\u001B[43m \u001B[49m\u001B[43murl\u001B[49m\u001B[43m,\u001B[49m\u001B[43m \u001B[49m\u001B[43mdata\u001B[49m\u001B[38;5;241;43m=\u001B[39;49m\u001B[43mdata\u001B[49m\u001B[43m,\u001B[49m\u001B[43m \u001B[49m\u001B[43mjson\u001B[49m\u001B[38;5;241;43m=\u001B[39;49m\u001B[43mjson\u001B[49m\u001B[43m,\u001B[49m\u001B[43m \u001B[49m\u001B[38;5;241;43m*\u001B[39;49m\u001B[38;5;241;43m*\u001B[39;49m\u001B[43mkwargs\u001B[49m\u001B[43m)\u001B[49m\n",
      "File \u001B[0;32m~/opt/anaconda3/envs/Fun-with-Quantum/lib/python3.9/site-packages/qiskit/providers/ibmq/api/session.py:300\u001B[0m, in \u001B[0;36mRetrySession.request\u001B[0;34m(self, method, url, bare, **kwargs)\u001B[0m\n\u001B[1;32m    297\u001B[0m         \u001B[38;5;66;03m# Modify the original message on the chained exceptions.\u001B[39;00m\n\u001B[1;32m    298\u001B[0m         \u001B[38;5;28mself\u001B[39m\u001B[38;5;241m.\u001B[39m_modify_chained_exception_messages(ex)\n\u001B[0;32m--> 300\u001B[0m     \u001B[38;5;28;01mraise\u001B[39;00m RequestsApiError(message, status_code) \u001B[38;5;28;01mfrom\u001B[39;00m \u001B[38;5;21;01mex\u001B[39;00m\n\u001B[1;32m    302\u001B[0m \u001B[38;5;28;01mreturn\u001B[39;00m response\n",
      "\u001B[0;31mRequestsApiError\u001B[0m: '401 Client Error: Unauthorized for url: https://auth.quantum-computing.ibm.com/api/users/loginWithToken. Login failed., Error code: 3446.'"
     ]
    }
   ],
   "source": [
    "from qiskit.providers.ibmq import least_busy\n",
    "\n",
    "IBMQ_API_TOKEN = \"PUT_YOUR_IBMQ_TOKEN_HERE\"\n",
    "AQT_TOKEN = \"Put AQT Token here\"\n",
    "IBMQ.enable_account(IBMQ_API_TOKEN)\n",
    "provider = IBMQ.get_provider()\n",
    "device = least_busy(provider.backends(simulator=True))"
   ],
   "metadata": {
    "collapsed": false,
    "pycharm": {
     "name": "#%%\n"
    }
   }
  },
  {
   "cell_type": "markdown",
   "source": [
    "### 4. Erste Schritte / Praxisbeispiele"
   ],
   "metadata": {
    "collapsed": false,
    "pycharm": {
     "name": "#%% md\n"
    }
   }
  },
  {
   "cell_type": "code",
   "execution_count": null,
   "outputs": [],
   "source": [
    "simulator = Aer.get_backend('qasm_simulator')\n",
    "\n",
    "qc1 = QuantumCircuit(3)\n",
    "qc1.h(0)\n",
    "qc1.cx(0, 1)\n",
    "qc1.cx(0, 2)\n",
    "qc1.measure_all()\n",
    "\n",
    "# Schaltkreis mit Aer simulieren\n",
    "job = execute(qc1, simulator, shots=4000)\n",
    "result = job.result()\n",
    "counts=result.get_counts()\n",
    "print(counts)"
   ],
   "metadata": {
    "collapsed": false,
    "pycharm": {
     "name": "#%%\n"
    }
   }
  },
  {
   "cell_type": "code",
   "execution_count": null,
   "outputs": [],
   "source": [
    "# Schaltkreis auf Quantencomputer laufen lassen\n",
    "\n",
    "job = execute(qc1, backend = device, shots=4000)\n",
    "result = job.result()\n",
    "counts=result.get_counts()\n",
    "print(counts)"
   ],
   "metadata": {
    "collapsed": false,
    "pycharm": {
     "name": "#%%\n"
    }
   }
  },
  {
   "cell_type": "markdown",
   "source": [
    "#### Lokales Beispiel mit Qiskit Runtime"
   ],
   "metadata": {
    "collapsed": false,
    "pycharm": {
     "name": "#%% md\n"
    }
   }
  },
  {
   "cell_type": "code",
   "execution_count": null,
   "outputs": [],
   "source": [
    "N = 5\n",
    "qc2 = QuantumCircuit(N)\n",
    "qc2.h(0)\n",
    "for x in range(1, N):\n",
    "  qc2.cx(0,x)\n",
    "#qc2 += QFT(num_qubits=N)\n",
    "qc2.compose(QFT(num_qubits=N), inplace=True)\n",
    "qc2.measure_all()\n",
    "program_inputs = {\n",
    "    \"circuits\": qc2,\n",
    "    \"circuit_indices\": [0],\n",
    "}\n",
    "service = QiskitRuntimeService(channel=\"ibm_quantum\", token=IBMQ_API_TOKEN)\n",
    "options = {'backend_name': \"ibmq_qasm_simulator\"}\n",
    "job = service.run(\n",
    "    program_id=\"sampler\",\n",
    "    options=options,\n",
    "    inputs=program_inputs,\n",
    ")\n",
    "\n",
    "#Dieser Teil ist blockierend. Man wartet auf das Ergebnis.\n",
    "print(job.result())"
   ],
   "metadata": {
    "collapsed": false,
    "pycharm": {
     "name": "#%%\n"
    }
   }
  },
  {
   "cell_type": "markdown",
   "source": [
    "#### AQT"
   ],
   "metadata": {
    "collapsed": false,
    "pycharm": {
     "name": "#%% md\n"
    }
   }
  },
  {
   "cell_type": "code",
   "execution_count": null,
   "outputs": [],
   "source": [
    "aqt = AQTProvider(AQT_TOKEN)\n",
    "print(aqt.backends())\n",
    "sim_backend = aqt.backends.aqt_qasm_simulator"
   ],
   "metadata": {
    "collapsed": false,
    "pycharm": {
     "name": "#%%\n"
    }
   }
  },
  {
   "cell_type": "markdown",
   "source": [
    "### Error Mitigation"
   ],
   "metadata": {
    "collapsed": false,
    "pycharm": {
     "name": "#%% md\n"
    }
   }
  },
  {
   "cell_type": "code",
   "execution_count": null,
   "outputs": [],
   "source": [
    "# Schaltkreis mit Aer simulieren\n",
    "\n",
    "counts = execute(qc1, simulator, shots=10000).result().get_counts()\n",
    "plot_histogram(counts)"
   ],
   "metadata": {
    "collapsed": false,
    "pycharm": {
     "name": "#%%\n"
    }
   }
  },
  {
   "cell_type": "code",
   "execution_count": null,
   "outputs": [],
   "source": [
    "# Schaltkreis auf Quantencomputer laufen lassen\n",
    "\n",
    "device = provider.get_backend('ibmq_belem')\n",
    "results = execute(qc1, device, shots=10000).result()\n",
    "noisy_counts = results.get_counts()\n",
    "print(noisy_counts)\n",
    "\n",
    "# Beispielhaftes Ergebnis: {'000': 4973, '001': 70, '010': 145, '011': 334, '100': 55, '101': 254, '110': 173, '111': 3996}\n",
    "\n",
    "plot_histogram(noisy_counts)"
   ],
   "metadata": {
    "collapsed": false,
    "pycharm": {
     "name": "#%%\n"
    }
   }
  },
  {
   "cell_type": "code",
   "execution_count": null,
   "outputs": [],
   "source": [
    "# Deprecated Library was updated for this notebook to work\n",
    "#from qiskit.ignis.mitigation.measurement import complete_meas_cal, CompleteMeasFitter\n",
    "from qiskit.utils.mitigation import complete_meas_cal,CompleteMeasFitter"
   ],
   "metadata": {
    "collapsed": false,
    "pycharm": {
     "name": "#%%\n"
    }
   }
  },
  {
   "cell_type": "code",
   "execution_count": null,
   "id": "a19ec2a1-197d-49f6-9dd9-7cfc206b2122",
   "metadata": {
    "pycharm": {
     "name": "#%%\n"
    }
   },
   "outputs": [],
   "source": [
    "# Durchlaufe alle acht Basiszustände\n",
    "\n",
    "qr = QuantumRegister(3)\n",
    "meas_calibs, state_labels = complete_meas_cal(qr=qr, circlabel='mcal')\n",
    "\n",
    "for circuit in meas_calibs:\n",
    "    print('Circuit',circuit.name)\n",
    "    print(circuit)\n",
    "    print()"
   ]
  },
  {
   "cell_type": "code",
   "execution_count": null,
   "id": "a8faee53-8ed3-47d7-904e-e226ebd19e82",
   "metadata": {
    "pycharm": {
     "name": "#%%\n"
    }
   },
   "outputs": [],
   "source": [
    "# Berechne Korrekturmatrix\n",
    "\n",
    "t_qc = transpile(meas_calibs, device)\n",
    "cal_results = device.run(t_qc, shots=10000).result()\n",
    "\n",
    "meas_fitter = CompleteMeasFitter(cal_results, state_labels, circlabel='mcal')\n",
    "array_to_latex(meas_fitter.cal_matrix)"
   ]
  },
  {
   "cell_type": "code",
   "execution_count": null,
   "id": "6646671c-e05a-4fc8-87b5-a3ad5bd6647a",
   "metadata": {
    "pycharm": {
     "name": "#%%\n"
    }
   },
   "outputs": [],
   "source": [
    "# Filter Objekt erstellen\n",
    "meas_filter = meas_fitter.filter\n",
    "\n",
    "# Neue Ergebnisse nach Mitigation\n",
    "mitigated_results = meas_filter.apply(results)\n",
    "mitigated_counts = mitigated_results.get_counts()\n",
    "\n",
    "noisy_counts = results.get_counts()\n",
    "plot_histogram([noisy_counts, mitigated_counts], legend=['noisy', 'mitigated'])"
   ]
  },
  {
   "cell_type": "code",
   "execution_count": null,
   "id": "b95c067b-df47-4926-a6ad-174a0c6125c5",
   "metadata": {
    "pycharm": {
     "name": "#%%\n"
    }
   },
   "outputs": [],
   "source": [
    "# Berechnung der Quasi-Probabilities mit IBMQ-QASM-Simulator\n",
    "\n",
    "service = QiskitRuntimeService()\n",
    "\n",
    "with Sampler(circuits=[qc1], service=service, options={ \"backend\": \"ibmq_qasm_simulator\" }) as sampler:\n",
    "    result = sampler(circuits=[0], shots=10000)\n",
    "    print(result)"
   ]
  },
  {
   "cell_type": "code",
   "execution_count": null,
   "id": "a7373dd9",
   "metadata": {
    "pycharm": {
     "name": "#%%\n"
    }
   },
   "outputs": [],
   "source": [
    "import qiskit.tools.jupyter\n",
    "%qiskit_version_table"
   ]
  }
 ],
 "metadata": {
  "kernelspec": {
   "display_name": "Python 3 (ipykernel)",
   "language": "python",
   "name": "python3"
  },
  "language_info": {
   "codemirror_mode": {
    "name": "ipython",
    "version": 3
   },
   "file_extension": ".py",
   "mimetype": "text/x-python",
   "name": "python",
   "nbconvert_exporter": "python",
   "pygments_lexer": "ipython3",
   "version": "3.10.4"
  },
  "widgets": {
   "application/vnd.jupyter.widget-state+json": {
    "state": {},
    "version_major": 2,
    "version_minor": 0
   }
  }
 },
 "nbformat": 4,
 "nbformat_minor": 5
}