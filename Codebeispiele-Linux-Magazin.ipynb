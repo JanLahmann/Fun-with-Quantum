{
 "cells": [
  {
   "cell_type": "markdown",
   "id": "f2a203e8",
   "metadata": {
    "pycharm": {
     "name": "#%% md\n"
    }
   },
   "source": [
    "# How to use this notebook\n",
    "This notebook is meant to accompany an article published in \"Linux Magazin\" XXXXX (german). The code snippets directly refer to the article are probably not self-explanatory."
   ]
  },
  {
   "cell_type": "markdown",
   "id": "1a39bffc",
   "metadata": {
    "pycharm": {
     "name": "#%% md\n"
    }
   },
   "source": [
    "### _Vorbereitungen_\n",
    "Imports der benötigten Bibliotheken, API einrichten"
   ]
  },
  {
   "cell_type": "code",
   "execution_count": 1,
   "id": "e11ca67e",
   "metadata": {
    "pycharm": {
     "name": "#%%\n"
    }
   },
   "outputs": [],
   "source": [
    "from qiskit import QuantumCircuit, execute,  Aer, QuantumRegister, IBMQ\n",
    "from qiskit.visualization import *\n",
    "from qiskit.circuit.library import QFT\n",
    "from qiskit_ibm_runtime import QiskitRuntimeService, Sampler\n",
    "from qiskit_aqt_provider import AQTProvider\n",
    "from qiskit.visualization import plot_histogram\n",
    "from qiskit.utils.mitigation  import *\n",
    "from qiskit.compiler import transpile, assemble"
   ]
  },
  {
   "cell_type": "code",
   "execution_count": null,
   "outputs": [],
   "source": [
    "from qiskit.providers.ibmq import least_busy\n",
    "\n",
    "IBMQ_API_TOKEN = \"my IBM Quantum API Token\"\n",
    "AQT_TOKEN = \"Put AQT Token here\"\n",
    "IBMQ.enable_account(IBMQ_API_TOKEN)\n",
    "provider = IBMQ.get_provider()\n",
    "device = least_busy(provider.backends(simulator=True))"
   ],
   "metadata": {
    "collapsed": false,
    "pycharm": {
     "name": "#%%\n"
    }
   }
  },
  {
   "cell_type": "markdown",
   "source": [
    "### 4. Erste Schritte / Praxisbeispiele"
   ],
   "metadata": {
    "collapsed": false,
    "pycharm": {
     "name": "#%% md\n"
    }
   }
  },
  {
   "cell_type": "code",
   "execution_count": null,
   "outputs": [],
   "source": [
    "simulator = Aer.get_backend('qasm_simulator')\n",
    "\n",
    "qc1 = QuantumCircuit(3)\n",
    "qc1.h(0)\n",
    "qc1.cx(0, 1)\n",
    "qc1.cx(0, 2)\n",
    "qc1.measure_all()\n",
    "\n",
    "# Schaltkreis mit Aer simulieren\n",
    "job = execute(qc1, simulator, shots=4000)\n",
    "result = job.result()\n",
    "counts=result.get_counts()\n",
    "print(counts)"
   ],
   "metadata": {
    "collapsed": false,
    "pycharm": {
     "name": "#%%\n"
    }
   }
  },
  {
   "cell_type": "code",
   "execution_count": null,
   "outputs": [],
   "source": [
    "# Schaltkreis auf Quantencomputer laufen lassen\n",
    "\n",
    "job = execute(qc1, backend = device, shots=4000)\n",
    "result = job.result()\n",
    "counts=result.get_counts()\n",
    "print(counts)"
   ],
   "metadata": {
    "collapsed": false,
    "pycharm": {
     "name": "#%%\n"
    }
   }
  },
  {
   "cell_type": "markdown",
   "source": [
    "#### Lokales Beispiel mit Qiskit Runtime"
   ],
   "metadata": {
    "collapsed": false,
    "pycharm": {
     "name": "#%% md\n"
    }
   }
  },
  {
   "cell_type": "code",
   "execution_count": null,
   "outputs": [],
   "source": [
    "N = 5\n",
    "qc2 = QuantumCircuit(N)\n",
    "qc2.h(0)\n",
    "for x in range(1, N):\n",
    "  qc2.cx(0,x)\n",
    "#qc2 += QFT(num_qubits=N)\n",
    "qc2.compose(QFT(num_qubits=N), inplace=True)\n",
    "qc2.measure_all()\n",
    "program_inputs = {\n",
    "    \"circuits\": qc2,\n",
    "    \"circuit_indices\": [0],\n",
    "}\n",
    "service = QiskitRuntimeService()\n",
    "options = {'backend_name': \"ibmq_qasm_simulator\"}\n",
    "job = service.run(\n",
    "    program_id=\"sampler\",\n",
    "    options=options,\n",
    "    inputs=program_inputs,\n",
    ")\n",
    "\n",
    "#Dieser Teil ist blockierend. Man wartet auf das Ergebnis.\n",
    "print(job.result())"
   ],
   "metadata": {
    "collapsed": false,
    "pycharm": {
     "name": "#%%\n"
    }
   }
  },
  {
   "cell_type": "markdown",
   "source": [
    "#### AQT"
   ],
   "metadata": {
    "collapsed": false,
    "pycharm": {
     "name": "#%% md\n"
    }
   }
  },
  {
   "cell_type": "code",
   "execution_count": null,
   "outputs": [],
   "source": [
    "aqt = AQTProvider(AQT_TOKEN)\n",
    "print(aqt.backends())\n",
    "sim_backend = aqt.backends.aqt_qasm_simulator"
   ],
   "metadata": {
    "collapsed": false,
    "pycharm": {
     "name": "#%%\n"
    }
   }
  },
  {
   "cell_type": "markdown",
   "source": [
    "### Error Mitigation"
   ],
   "metadata": {
    "collapsed": false,
    "pycharm": {
     "name": "#%% md\n"
    }
   }
  },
  {
   "cell_type": "code",
   "execution_count": null,
   "outputs": [],
   "source": [
    "# Schaltkreis mit Aer simulieren\n",
    "\n",
    "counts = execute(qc1, simulator, shots=10000).result().get_counts()\n",
    "plot_histogram(counts)"
   ],
   "metadata": {
    "collapsed": false,
    "pycharm": {
     "name": "#%%\n"
    }
   }
  },
  {
   "cell_type": "code",
   "execution_count": null,
   "outputs": [],
   "source": [
    "# Schaltkreis auf Quantencomputer laufen lassen\n",
    "\n",
    "device = provider.get_backend('ibmq_belem')\n",
    "results = execute(qc1, device, shots=10000).result()\n",
    "noisy_counts = results.get_counts()\n",
    "print(noisy_counts)\n",
    "\n",
    "# Beispielhaftes Ergebnis: {'000': 4973, '001': 70, '010': 145, '011': 334, '100': 55, '101': 254, '110': 173, '111': 3996}\n",
    "\n",
    "plot_histogram(noisy_counts)"
   ],
   "metadata": {
    "collapsed": false,
    "pycharm": {
     "name": "#%%\n"
    }
   }
  },
  {
   "cell_type": "code",
   "execution_count": null,
   "outputs": [],
   "source": [
    "from qiskit.ignis.mitigation.measurement import complete_meas_cal, CompleteMeasFitter"
   ],
   "metadata": {
    "collapsed": false,
    "pycharm": {
     "name": "#%%\n"
    }
   }
  },
  {
   "cell_type": "code",
   "execution_count": 9,
   "id": "dae4c501",
   "metadata": {
    "pycharm": {
     "name": "#%%\n"
    }
   },
   "outputs": [
    {
     "name": "stderr",
     "output_type": "stream",
     "text": [
      "/var/folders/zq/f_9wy9kj497g5g1sv2t4jnl80000gn/T/ipykernel_14051/2184433781.py:1: DeprecationWarning: The qiskit.ignis package is deprecated and has been supersceded by the qiskit-experiments project. Refer to the migration guide: https://github.com/Qiskit/qiskit-ignis#migration-guide on how to migrate to the new project.\n",
      "  from qiskit.ignis.mitigation.measurement import complete_meas_cal, CompleteMeasFitter\n"
     ]
    }
   ],
   "source": [
    "from qiskit.ignis.mitigation.measurement import complete_meas_cal, CompleteMeasFitter"
   ]
  },
  {
   "cell_type": "code",
   "execution_count": 10,
   "id": "a19ec2a1-197d-49f6-9dd9-7cfc206b2122",
   "metadata": {
    "pycharm": {
     "name": "#%%\n"
    }
   },
   "outputs": [
    {
     "name": "stdout",
     "output_type": "stream",
     "text": [
      "Circuit mcalcal_000\n",
      "        ░ ┌─┐      \n",
      "q41_0: ─░─┤M├──────\n",
      "        ░ └╥┘┌─┐   \n",
      "q41_1: ─░──╫─┤M├───\n",
      "        ░  ║ └╥┘┌─┐\n",
      "q41_2: ─░──╫──╫─┤M├\n",
      "        ░  ║  ║ └╥┘\n",
      " c0: 3/════╩══╩══╩═\n",
      "           0  1  2 \n",
      "\n",
      "Circuit mcalcal_001\n",
      "       ┌───┐ ░ ┌─┐      \n",
      "q41_0: ┤ X ├─░─┤M├──────\n",
      "       └───┘ ░ └╥┘┌─┐   \n",
      "q41_1: ──────░──╫─┤M├───\n",
      "             ░  ║ └╥┘┌─┐\n",
      "q41_2: ──────░──╫──╫─┤M├\n",
      "             ░  ║  ║ └╥┘\n",
      " c0: 3/═════════╩══╩══╩═\n",
      "                0  1  2 \n",
      "\n",
      "Circuit mcalcal_010\n",
      "             ░ ┌─┐      \n",
      "q41_0: ──────░─┤M├──────\n",
      "       ┌───┐ ░ └╥┘┌─┐   \n",
      "q41_1: ┤ X ├─░──╫─┤M├───\n",
      "       └───┘ ░  ║ └╥┘┌─┐\n",
      "q41_2: ──────░──╫──╫─┤M├\n",
      "             ░  ║  ║ └╥┘\n",
      " c0: 3/═════════╩══╩══╩═\n",
      "                0  1  2 \n",
      "\n",
      "Circuit mcalcal_011\n",
      "       ┌───┐ ░ ┌─┐      \n",
      "q41_0: ┤ X ├─░─┤M├──────\n",
      "       ├───┤ ░ └╥┘┌─┐   \n",
      "q41_1: ┤ X ├─░──╫─┤M├───\n",
      "       └───┘ ░  ║ └╥┘┌─┐\n",
      "q41_2: ──────░──╫──╫─┤M├\n",
      "             ░  ║  ║ └╥┘\n",
      " c0: 3/═════════╩══╩══╩═\n",
      "                0  1  2 \n",
      "\n",
      "Circuit mcalcal_100\n",
      "             ░ ┌─┐      \n",
      "q41_0: ──────░─┤M├──────\n",
      "             ░ └╥┘┌─┐   \n",
      "q41_1: ──────░──╫─┤M├───\n",
      "       ┌───┐ ░  ║ └╥┘┌─┐\n",
      "q41_2: ┤ X ├─░──╫──╫─┤M├\n",
      "       └───┘ ░  ║  ║ └╥┘\n",
      " c0: 3/═════════╩══╩══╩═\n",
      "                0  1  2 \n",
      "\n",
      "Circuit mcalcal_101\n",
      "       ┌───┐ ░ ┌─┐      \n",
      "q41_0: ┤ X ├─░─┤M├──────\n",
      "       └───┘ ░ └╥┘┌─┐   \n",
      "q41_1: ──────░──╫─┤M├───\n",
      "       ┌───┐ ░  ║ └╥┘┌─┐\n",
      "q41_2: ┤ X ├─░──╫──╫─┤M├\n",
      "       └───┘ ░  ║  ║ └╥┘\n",
      " c0: 3/═════════╩══╩══╩═\n",
      "                0  1  2 \n",
      "\n",
      "Circuit mcalcal_110\n",
      "             ░ ┌─┐      \n",
      "q41_0: ──────░─┤M├──────\n",
      "       ┌───┐ ░ └╥┘┌─┐   \n",
      "q41_1: ┤ X ├─░──╫─┤M├───\n",
      "       ├───┤ ░  ║ └╥┘┌─┐\n",
      "q41_2: ┤ X ├─░──╫──╫─┤M├\n",
      "       └───┘ ░  ║  ║ └╥┘\n",
      " c0: 3/═════════╩══╩══╩═\n",
      "                0  1  2 \n",
      "\n",
      "Circuit mcalcal_111\n",
      "       ┌───┐ ░ ┌─┐      \n",
      "q41_0: ┤ X ├─░─┤M├──────\n",
      "       ├───┤ ░ └╥┘┌─┐   \n",
      "q41_1: ┤ X ├─░──╫─┤M├───\n",
      "       ├───┤ ░  ║ └╥┘┌─┐\n",
      "q41_2: ┤ X ├─░──╫──╫─┤M├\n",
      "       └───┘ ░  ║  ║ └╥┘\n",
      " c0: 3/═════════╩══╩══╩═\n",
      "                0  1  2 \n",
      "\n"
     ]
    }
   ],
   "source": [
    "# Durchlaufe alle acht Basiszustände\n",
    "\n",
    "qr = QuantumRegister(3)\n",
    "meas_calibs, state_labels = complete_meas_cal(qr=qr, circlabel='mcal')\n",
    "\n",
    "for circuit in meas_calibs:\n",
    "    print('Circuit',circuit.name)\n",
    "    print(circuit)\n",
    "    print()"
   ]
  },
  {
   "cell_type": "code",
   "execution_count": 11,
   "id": "a8faee53-8ed3-47d7-904e-e226ebd19e82",
   "metadata": {
    "pycharm": {
     "name": "#%%\n"
    }
   },
   "outputs": [
    {
     "name": "stderr",
     "output_type": "stream",
     "text": [
      "/var/folders/zq/f_9wy9kj497g5g1sv2t4jnl80000gn/T/ipykernel_14051/4252628189.py:5: DeprecationWarning: Passing a Qobj to Backend.run is deprecated and will be removed in a future release. Please pass in circuits or pulse schedules instead.\n",
      "  cal_results = device.run(qobj, shots=10000).result()\n"
     ]
    },
    {
     "data": {
      "text/latex": [
       "$$\n",
       "\n",
       "\\begin{bmatrix}\n",
       "0.9715 & 0.0335 & 0.0465 & 0.0022 & 0.0371 & 0.0008 & 0.002 & 0.0002  \\\\\n",
       " 0.0098 & 0.9522 & 0.0006 & 0.0472 & 0.0005 & 0.0347 & 0 & 0.0014  \\\\\n",
       " 0.0147 & 0.0001 & 0.9403 & 0.0299 & 0.0006 & 0 & 0.0365 & 0.001  \\\\\n",
       " 0.0002 & 0.009 & 0.0091 & 0.9173 & 0 & 0.0001 & 0.0002 & 0.0341  \\\\\n",
       " 0.0038 & 0 & 0 & 0 & 0.9375 & 0.0312 & 0.0484 & 0.001  \\\\\n",
       " 0 & 0.0052 & 0 & 0 & 0.0091 & 0.9246 & 0.0005 & 0.0454  \\\\\n",
       " 0 & 0 & 0.0035 & 0.0002 & 0.0152 & 0.0004 & 0.9042 & 0.0313  \\\\\n",
       " 0 & 0 & 0 & 0.0032 & 0 & 0.0082 & 0.0082 & 0.8856  \\\\\n",
       " \\end{bmatrix}\n",
       "$$"
      ],
      "text/plain": [
       "<IPython.core.display.Latex object>"
      ]
     },
     "execution_count": 11,
     "metadata": {},
     "output_type": "execute_result"
    }
   ],
   "source": [
    "# Berechne Korrekturmatrix\n",
    "\n",
    "t_qc = transpile(meas_calibs, device)\n",
    "qobj = assemble(t_qc, shots=10000)\n",
    "cal_results = device.run(qobj, shots=10000).result()\n",
    "\n",
    "meas_fitter = CompleteMeasFitter(cal_results, state_labels, circlabel='mcal')\n",
    "array_to_latex(meas_fitter.cal_matrix)"
   ]
  },
  {
   "cell_type": "code",
   "execution_count": 12,
   "id": "6646671c-e05a-4fc8-87b5-a3ad5bd6647a",
   "metadata": {
    "pycharm": {
     "name": "#%%\n"
    }
   },
   "outputs": [
    {
     "data": {
      "image/png": "[encoded data removed]",
      "text/plain": [
       "<Figure size 504x360 with 1 Axes>"
      ]
     },
     "execution_count": 12,
     "metadata": {},
     "output_type": "execute_result"
    }
   ],
   "source": [
    "# Filter Objekt erstellen\n",
    "meas_filter = meas_fitter.filter\n",
    "\n",
    "# Neue Ergebnisse nach Mitigation\n",
    "mitigated_results = meas_filter.apply(results)\n",
    "mitigated_counts = mitigated_results.get_counts()\n",
    "\n",
    "noisy_counts = results.get_counts()\n",
    "plot_histogram([noisy_counts, mitigated_counts], legend=['noisy', 'mitigated'])"
   ]
  },
  {
   "cell_type": "code",
   "execution_count": 12,
   "id": "b95c067b-df47-4926-a6ad-174a0c6125c5",
   "metadata": {
    "pycharm": {
     "name": "#%%\n"
    }
   },
   "outputs": [
    {
     "name": "stdout",
     "output_type": "stream",
     "text": [
      "SamplerResult(quasi_dists=[{'000': 0.4964, '111': 0.5036}], metadata=[{'header_metadata': {'circuit_digest': 'e571fba44e9b117ebdec413e620d70b9f08dd401f3f8f9ed1dfd9082bb097cf4'}, 'shots': 10000}])\n"
     ]
    }
   ],
   "source": [
    "# Berechnung der Quasi-Probabilities mit IBMQ-QASM-Simulator\n",
    "\n",
    "service = QiskitRuntimeService()\n",
    "\n",
    "with Sampler(circuits=[qc1], service=service, options={ \"backend\": \"ibmq_qasm_simulator\" }) as sampler:\n",
    "    result = sampler(circuits=[0], shots=10000)\n",
    "    print(result)"
   ]
  },
  {
   "cell_type": "code",
   "execution_count": 13,
   "id": "a7373dd9",
   "metadata": {
    "pycharm": {
     "name": "#%%\n"
    }
   },
   "outputs": [
    {
     "data": {
      "text/html": [
       "<h3>Version Information</h3><table><tr><th>Qiskit Software</th><th>Version</th></tr><tr><td><code>qiskit-terra</code></td><td>0.21.2</td></tr><tr><td><code>qiskit-aer</code></td><td>0.10.4</td></tr><tr><td><code>qiskit-ignis</code></td><td>0.5.0</td></tr><tr><td><code>qiskit-ibmq-provider</code></td><td>0.19.2</td></tr><tr><td><code>qiskit</code></td><td>0.37.2</td></tr><tr><th>System information</th></tr><tr><td>Python version</td><td>3.7.13</td></tr><tr><td>Python compiler</td><td>Clang 12.0.0 </td></tr><tr><td>Python build</td><td>default, Mar 28 2022 07:24:34</td></tr><tr><td>OS</td><td>Darwin</td></tr><tr><td>CPUs</td><td>2</td></tr><tr><td>Memory (Gb)</td><td>8.0</td></tr><tr><td colspan='2'>Fri Sep 02 15:25:39 2022 CEST</td></tr></table>"
      ],
      "text/plain": [
       "<IPython.core.display.HTML object>"
      ]
     },
     "metadata": {},
     "output_type": "display_data"
    }
   ],
   "source": [
    "import qiskit.tools.jupyter\n",
    "%qiskit_version_table"
   ]
  }
 ],
 "metadata": {
  "kernelspec": {
   "display_name": "Python 3 (ipykernel)",
   "language": "python",
   "name": "python3"
  },
  "language_info": {
   "codemirror_mode": {
    "name": "ipython",
    "version": 3
   },
   "file_extension": ".py",
   "mimetype": "text/x-python",
   "name": "python",
   "nbconvert_exporter": "python",
   "pygments_lexer": "ipython3",
   "version": "3.10.4"
  },
  "widgets": {
   "application/vnd.jupyter.widget-state+json": {
    "state": {},
    "version_major": 2,
    "version_minor": 0
   }
  }
 },
 "nbformat": 4,
 "nbformat_minor": 5
}