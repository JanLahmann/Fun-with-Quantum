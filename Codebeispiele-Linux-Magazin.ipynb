{
 "cells": [
  {
   "cell_type": "markdown",
   "id": "f2a203e8",
   "metadata": {
    "pycharm": {
     "name": "#%% md\n"
    }
   },
   "source": [
    "# How to use this notebook\n",
    "This notebook is meant to accompany an article published in \"Linux Magazin\" XXXXX (german). The code snippets directly refer to the article are probably not self-explanatory."
   ]
  },
  {
   "cell_type": "markdown",
   "id": "1a39bffc",
   "metadata": {
    "pycharm": {
     "name": "#%% md\n"
    }
   },
   "source": [
    "### _Vorbereitungen_\n",
    "Imports der benötigten Bibliotheken, API einrichten"
   ]
  },
  {
   "cell_type": "code",
   "execution_count": 1,
   "id": "e11ca67e",
   "metadata": {
    "pycharm": {
     "name": "#%%\n"
    }
   },
   "outputs": [],
   "source": [
    "from qiskit import QuantumCircuit, execute,  Aer, QuantumRegister, IBMQ\n",
    "from qiskit.visualization import *\n",
    "from qiskit.circuit.library import QFT\n",
    "from qiskit_ibm_runtime import QiskitRuntimeService, Sampler\n",
    "from qiskit_aqt_provider import AQTProvider\n",
    "from qiskit.visualization import plot_histogram\n",
    "from qiskit.compiler import transpile, assemble"
   ]
  },
  {
   "cell_type": "code",
   "execution_count": 2,
   "outputs": [],
   "source": [
    "from qiskit.providers.ibmq import least_busy\n",
    "\n",
    "IBMQ_API_TOKEN = \"90f68bdf5c40cf0d6c57cf32d9824160e357c97f05e21ab0e58d060842baf34d9b774eb4eef1f487e48d9cff41d80ba21cf45c3e5e03648c775c2cf37e034cf8\"\n",
    "AQT_TOKEN = \"Put AQT Token here\"\n",
    "IBMQ.enable_account(IBMQ_API_TOKEN)\n",
    "provider = IBMQ.get_provider()\n",
    "device = least_busy(provider.backends(simulator=True))"
   ],
   "metadata": {
    "collapsed": false,
    "pycharm": {
     "name": "#%%\n"
    }
   }
  },
  {
   "cell_type": "markdown",
   "source": [
    "### 4. Erste Schritte / Praxisbeispiele"
   ],
   "metadata": {
    "collapsed": false,
    "pycharm": {
     "name": "#%% md\n"
    }
   }
  },
  {
   "cell_type": "code",
   "execution_count": 3,
   "outputs": [
    {
     "name": "stdout",
     "output_type": "stream",
     "text": [
      "{'111': 2032, '000': 1968}\n"
     ]
    }
   ],
   "source": [
    "simulator = Aer.get_backend('qasm_simulator')\n",
    "\n",
    "qc1 = QuantumCircuit(3)\n",
    "qc1.h(0)\n",
    "qc1.cx(0, 1)\n",
    "qc1.cx(0, 2)\n",
    "qc1.measure_all()\n",
    "\n",
    "# Schaltkreis mit Aer simulieren\n",
    "job = execute(qc1, simulator, shots=4000)\n",
    "result = job.result()\n",
    "counts=result.get_counts()\n",
    "print(counts)"
   ],
   "metadata": {
    "collapsed": false,
    "pycharm": {
     "name": "#%%\n"
    }
   }
  },
  {
   "cell_type": "code",
   "execution_count": 4,
   "outputs": [
    {
     "name": "stdout",
     "output_type": "stream",
     "text": [
      "{'000': 2022, '111': 1978}\n"
     ]
    }
   ],
   "source": [
    "# Schaltkreis auf Quantencomputer laufen lassen\n",
    "\n",
    "job = execute(qc1, backend = device, shots=4000)\n",
    "result = job.result()\n",
    "counts=result.get_counts()\n",
    "print(counts)"
   ],
   "metadata": {
    "collapsed": false,
    "pycharm": {
     "name": "#%%\n"
    }
   }
  },
  {
   "cell_type": "markdown",
   "source": [
    "#### Lokales Beispiel mit Qiskit Runtime"
   ],
   "metadata": {
    "collapsed": false,
    "pycharm": {
     "name": "#%% md\n"
    }
   }
  },
  {
   "cell_type": "code",
   "execution_count": 5,
   "outputs": [
    {
     "name": "stderr",
     "output_type": "stream",
     "text": [
      "runtime_job._start_websocket_client:WARNING:2022-09-07 16:45:32,968: An error occurred while streaming results from the server for job cccast75tgcb8a34go30:\n",
      "Traceback (most recent call last):\n",
      "  File \"/Users/bengtwegner/opt/anaconda3/envs/Fun-with-Quantum/lib/python3.9/site-packages/qiskit_ibm_runtime/runtime_job.py\", line 402, in _start_websocket_client\n",
      "    self._ws_client.job_results()\n",
      "  File \"/Users/bengtwegner/opt/anaconda3/envs/Fun-with-Quantum/lib/python3.9/site-packages/qiskit_ibm_runtime/api/clients/runtime_ws.py\", line 70, in job_results\n",
      "    self.stream(url=url, retries=max_retries, backoff_factor=backoff_factor)\n",
      "  File \"/Users/bengtwegner/opt/anaconda3/envs/Fun-with-Quantum/lib/python3.9/site-packages/qiskit_ibm_runtime/api/clients/base.py\", line 230, in stream\n",
      "    raise WebsocketError(error_message)\n",
      "qiskit_ibm_runtime.api.exceptions.WebsocketError: 'Max retries exceeded: Failed to establish a websocket connection.'\n",
      "\n"
     ]
    },
    {
     "name": "stdout",
     "output_type": "stream",
     "text": [
      "{'quasi_dists': [{'01110': 0.0029296875, '10011': 0.0078125, '01100': 0.0078125, '01011': 0.01171875, '00000': 0.0546875, '10111': 0.0380859375, '11000': 0.02734375, '00111': 0.0419921875, '01000': 0.02734375, '00010': 0.056640625, '11101': 0.0498046875, '10100': 0.0126953125, '11100': 0.0517578125, '11110': 0.056640625, '11011': 0.0400390625, '10010': 0.0009765625, '10110': 0.015625, '11111': 0.04296875, '10101': 0.0234375, '01001': 0.03125, '00101': 0.0556640625, '01101': 0.0068359375, '00001': 0.0732421875, '00011': 0.046875, '00100': 0.05078125, '00110': 0.05078125, '11001': 0.0498046875, '11010': 0.0537109375, '01010': 0.0107421875}], 'metadata': [{'header_metadata': {'circuit_digest': '9b6ce8fe003c09467ca2f2f1673c77aed4de1ffd043ebd71d3aea51fbb493bb3'}, 'shots': 1024}]}\n"
     ]
    }
   ],
   "source": [
    "N = 5\n",
    "qc2 = QuantumCircuit(N)\n",
    "qc2.h(0)\n",
    "for x in range(1, N):\n",
    "  qc2.cx(0,x)\n",
    "#qc2 += QFT(num_qubits=N)\n",
    "qc2.compose(QFT(num_qubits=N), inplace=True)\n",
    "qc2.measure_all()\n",
    "program_inputs = {\n",
    "    \"circuits\": qc2,\n",
    "    \"circuit_indices\": [0],\n",
    "}\n",
    "service = QiskitRuntimeService()\n",
    "options = {'backend_name': \"ibmq_qasm_simulator\"}\n",
    "job = service.run(\n",
    "    program_id=\"sampler\",\n",
    "    options=options,\n",
    "    inputs=program_inputs,\n",
    ")\n",
    "\n",
    "#Dieser Teil ist blockierend. Man wartet auf das Ergebnis.\n",
    "print(job.result())"
   ],
   "metadata": {
    "collapsed": false,
    "pycharm": {
     "name": "#%%\n"
    }
   }
  },
  {
   "cell_type": "markdown",
   "source": [
    "#### AQT"
   ],
   "metadata": {
    "collapsed": false,
    "pycharm": {
     "name": "#%% md\n"
    }
   }
  },
  {
   "cell_type": "code",
   "execution_count": 6,
   "outputs": [
    {
     "name": "stdout",
     "output_type": "stream",
     "text": [
      "[<AQTSimulator('aqt_qasm_simulator')>, <AQTSimulatorNoise1('aqt_qasm_simulator_noise_1')>, <AQTDevice('aqt_innsbruck')>]\n"
     ]
    }
   ],
   "source": [
    "aqt = AQTProvider(AQT_TOKEN)\n",
    "print(aqt.backends())\n",
    "sim_backend = aqt.backends.aqt_qasm_simulator"
   ],
   "metadata": {
    "collapsed": false,
    "pycharm": {
     "name": "#%%\n"
    }
   }
  },
  {
   "cell_type": "markdown",
   "source": [
    "### Error Mitigation"
   ],
   "metadata": {
    "collapsed": false,
    "pycharm": {
     "name": "#%% md\n"
    }
   }
  },
  {
   "cell_type": "code",
   "execution_count": 7,
   "outputs": [
    {
     "data": {
      "text/plain": "<Figure size 700x500 with 1 Axes>",
      "image/png": "[encoded data removed]"
     },
     "execution_count": 7,
     "metadata": {},
     "output_type": "execute_result"
    }
   ],
   "source": [
    "# Schaltkreis mit Aer simulieren\n",
    "\n",
    "counts = execute(qc1, simulator, shots=10000).result().get_counts()\n",
    "plot_histogram(counts)"
   ],
   "metadata": {
    "collapsed": false,
    "pycharm": {
     "name": "#%%\n"
    }
   }
  },
  {
   "cell_type": "code",
   "execution_count": 8,
   "outputs": [
    {
     "name": "stdout",
     "output_type": "stream",
     "text": [
      "{'000': 4886, '001': 67, '010': 173, '011': 252, '100': 49, '101': 339, '110': 184, '111': 4050}\n"
     ]
    },
    {
     "data": {
      "text/plain": "<Figure size 700x500 with 1 Axes>",
      "image/png": "[encoded data removed]"
     },
     "execution_count": 8,
     "metadata": {},
     "output_type": "execute_result"
    }
   ],
   "source": [
    "# Schaltkreis auf Quantencomputer laufen lassen\n",
    "\n",
    "device = provider.get_backend('ibmq_belem')\n",
    "results = execute(qc1, device, shots=10000).result()\n",
    "noisy_counts = results.get_counts()\n",
    "print(noisy_counts)\n",
    "\n",
    "# Beispielhaftes Ergebnis: {'000': 4973, '001': 70, '010': 145, '011': 334, '100': 55, '101': 254, '110': 173, '111': 3996}\n",
    "\n",
    "plot_histogram(noisy_counts)"
   ],
   "metadata": {
    "collapsed": false,
    "pycharm": {
     "name": "#%%\n"
    }
   }
  },
  {
   "cell_type": "code",
   "execution_count": 9,
   "outputs": [],
   "source": [
    "# Deprecated Library was updated for this notebook to work\n",
    "#from qiskit.ignis.mitigation.measurement import complete_meas_cal, CompleteMeasFitter\n",
    "from qiskit.utils.mitigation import complete_meas_cal,CompleteMeasFitter"
   ],
   "metadata": {
    "collapsed": false,
    "pycharm": {
     "name": "#%%\n"
    }
   }
  },
  {
   "cell_type": "code",
   "execution_count": 10,
   "id": "a19ec2a1-197d-49f6-9dd9-7cfc206b2122",
   "metadata": {
    "pycharm": {
     "name": "#%%\n"
    }
   },
   "outputs": [
    {
     "name": "stdout",
     "output_type": "stream",
     "text": [
      "Circuit mcalcal_000\n",
      "        ░ ┌─┐      \n",
      "q33_0: ─░─┤M├──────\n",
      "        ░ └╥┘┌─┐   \n",
      "q33_1: ─░──╫─┤M├───\n",
      "        ░  ║ └╥┘┌─┐\n",
      "q33_2: ─░──╫──╫─┤M├\n",
      "        ░  ║  ║ └╥┘\n",
      " c0: 3/════╩══╩══╩═\n",
      "           0  1  2 \n",
      "\n",
      "Circuit mcalcal_001\n",
      "       ┌───┐ ░ ┌─┐      \n",
      "q33_0: ┤ X ├─░─┤M├──────\n",
      "       └───┘ ░ └╥┘┌─┐   \n",
      "q33_1: ──────░──╫─┤M├───\n",
      "             ░  ║ └╥┘┌─┐\n",
      "q33_2: ──────░──╫──╫─┤M├\n",
      "             ░  ║  ║ └╥┘\n",
      " c0: 3/═════════╩══╩══╩═\n",
      "                0  1  2 \n",
      "\n",
      "Circuit mcalcal_010\n",
      "             ░ ┌─┐      \n",
      "q33_0: ──────░─┤M├──────\n",
      "       ┌───┐ ░ └╥┘┌─┐   \n",
      "q33_1: ┤ X ├─░──╫─┤M├───\n",
      "       └───┘ ░  ║ └╥┘┌─┐\n",
      "q33_2: ──────░──╫──╫─┤M├\n",
      "             ░  ║  ║ └╥┘\n",
      " c0: 3/═════════╩══╩══╩═\n",
      "                0  1  2 \n",
      "\n",
      "Circuit mcalcal_011\n",
      "       ┌───┐ ░ ┌─┐      \n",
      "q33_0: ┤ X ├─░─┤M├──────\n",
      "       ├───┤ ░ └╥┘┌─┐   \n",
      "q33_1: ┤ X ├─░──╫─┤M├───\n",
      "       └───┘ ░  ║ └╥┘┌─┐\n",
      "q33_2: ──────░──╫──╫─┤M├\n",
      "             ░  ║  ║ └╥┘\n",
      " c0: 3/═════════╩══╩══╩═\n",
      "                0  1  2 \n",
      "\n",
      "Circuit mcalcal_100\n",
      "             ░ ┌─┐      \n",
      "q33_0: ──────░─┤M├──────\n",
      "             ░ └╥┘┌─┐   \n",
      "q33_1: ──────░──╫─┤M├───\n",
      "       ┌───┐ ░  ║ └╥┘┌─┐\n",
      "q33_2: ┤ X ├─░──╫──╫─┤M├\n",
      "       └───┘ ░  ║  ║ └╥┘\n",
      " c0: 3/═════════╩══╩══╩═\n",
      "                0  1  2 \n",
      "\n",
      "Circuit mcalcal_101\n",
      "       ┌───┐ ░ ┌─┐      \n",
      "q33_0: ┤ X ├─░─┤M├──────\n",
      "       └───┘ ░ └╥┘┌─┐   \n",
      "q33_1: ──────░──╫─┤M├───\n",
      "       ┌───┐ ░  ║ └╥┘┌─┐\n",
      "q33_2: ┤ X ├─░──╫──╫─┤M├\n",
      "       └───┘ ░  ║  ║ └╥┘\n",
      " c0: 3/═════════╩══╩══╩═\n",
      "                0  1  2 \n",
      "\n",
      "Circuit mcalcal_110\n",
      "             ░ ┌─┐      \n",
      "q33_0: ──────░─┤M├──────\n",
      "       ┌───┐ ░ └╥┘┌─┐   \n",
      "q33_1: ┤ X ├─░──╫─┤M├───\n",
      "       ├───┤ ░  ║ └╥┘┌─┐\n",
      "q33_2: ┤ X ├─░──╫──╫─┤M├\n",
      "       └───┘ ░  ║  ║ └╥┘\n",
      " c0: 3/═════════╩══╩══╩═\n",
      "                0  1  2 \n",
      "\n",
      "Circuit mcalcal_111\n",
      "       ┌───┐ ░ ┌─┐      \n",
      "q33_0: ┤ X ├─░─┤M├──────\n",
      "       ├───┤ ░ └╥┘┌─┐   \n",
      "q33_1: ┤ X ├─░──╫─┤M├───\n",
      "       ├───┤ ░  ║ └╥┘┌─┐\n",
      "q33_2: ┤ X ├─░──╫──╫─┤M├\n",
      "       └───┘ ░  ║  ║ └╥┘\n",
      " c0: 3/═════════╩══╩══╩═\n",
      "                0  1  2 \n",
      "\n"
     ]
    }
   ],
   "source": [
    "# Durchlaufe alle acht Basiszustände\n",
    "\n",
    "qr = QuantumRegister(3)\n",
    "meas_calibs, state_labels = complete_meas_cal(qr=qr, circlabel='mcal')\n",
    "\n",
    "for circuit in meas_calibs:\n",
    "    print('Circuit',circuit.name)\n",
    "    print(circuit)\n",
    "    print()"
   ]
  },
  {
   "cell_type": "code",
   "execution_count": 11,
   "id": "a8faee53-8ed3-47d7-904e-e226ebd19e82",
   "metadata": {
    "pycharm": {
     "name": "#%%\n"
    }
   },
   "outputs": [
    {
     "name": "stderr",
     "output_type": "stream",
     "text": [
      "/var/folders/t_/50bz3cfx73955pb0w_nyvk6r0000gn/T/ipykernel_61540/1863458023.py:5: DeprecationWarning: Passing a Qobj to Backend.run is deprecated and will be removed in a future release. Please pass in circuits or pulse schedules instead.\n",
      "  cal_results = device.run(qobj, shots=10000).result()\n"
     ]
    },
    {
     "data": {
      "text/plain": "<IPython.core.display.Latex object>",
      "text/latex": "$$\n\n\\begin{bmatrix}\n0.9729 & 0.0288 & 0.0413 & 0.0011 & 0.0467 & 0.0007 & 0.002 & 0.0001  \\\\\n 0.011 & 0.9605 & 0.0006 & 0.0444 & 0.0006 & 0.0467 & 0 & 0.0018  \\\\\n 0.013 & 0.0003 & 0.9417 & 0.026 & 0.001 & 0 & 0.045 & 0.0013  \\\\\n 0 & 0.007 & 0.0122 & 0.9252 & 0 & 0.0003 & 0.0004 & 0.0436  \\\\\n 0.0031 & 0.0001 & 0.0003 & 0.0001 & 0.9282 & 0.0285 & 0.0428 & 0.0019  \\\\\n 0 & 0.0032 & 0 & 0.0001 & 0.0112 & 0.9176 & 0.0005 & 0.0452  \\\\\n 0 & 0 & 0.0039 & 0.0003 & 0.0122 & 0.0004 & 0.8972 & 0.0265  \\\\\n 0 & 0.0001 & 0 & 0.0028 & 0.0001 & 0.0058 & 0.0121 & 0.8796  \\\\\n \\end{bmatrix}\n$$"
     },
     "execution_count": 11,
     "metadata": {},
     "output_type": "execute_result"
    }
   ],
   "source": [
    "# Berechne Korrekturmatrix\n",
    "\n",
    "t_qc = transpile(meas_calibs, device)\n",
    "qobj = assemble(t_qc, shots=10000)\n",
    "cal_results = device.run(qobj, shots=10000).result()\n",
    "\n",
    "meas_fitter = CompleteMeasFitter(cal_results, state_labels, circlabel='mcal')\n",
    "array_to_latex(meas_fitter.cal_matrix)"
   ]
  },
  {
   "cell_type": "code",
   "execution_count": 12,
   "id": "6646671c-e05a-4fc8-87b5-a3ad5bd6647a",
   "metadata": {
    "pycharm": {
     "name": "#%%\n"
    }
   },
   "outputs": [
    {
     "data": {
      "text/plain": "<Figure size 700x500 with 1 Axes>",
      "image/png": "[encoded data removed]"
     },
     "execution_count": 12,
     "metadata": {},
     "output_type": "execute_result"
    }
   ],
   "source": [
    "# Filter Objekt erstellen\n",
    "meas_filter = meas_fitter.filter\n",
    "\n",
    "# Neue Ergebnisse nach Mitigation\n",
    "mitigated_results = meas_filter.apply(results)\n",
    "mitigated_counts = mitigated_results.get_counts()\n",
    "\n",
    "noisy_counts = results.get_counts()\n",
    "plot_histogram([noisy_counts, mitigated_counts], legend=['noisy', 'mitigated'])"
   ]
  },
  {
   "cell_type": "code",
   "execution_count": 13,
   "id": "b95c067b-df47-4926-a6ad-174a0c6125c5",
   "metadata": {
    "pycharm": {
     "name": "#%%\n"
    }
   },
   "outputs": [
    {
     "name": "stderr",
     "output_type": "stream",
     "text": [
      "runtime_job._start_websocket_client:WARNING:2022-09-07 17:09:03,173: An error occurred while streaming results from the server for job cccb7ttpf2oup7ghds5g:\n",
      "Traceback (most recent call last):\n",
      "  File \"/Users/bengtwegner/opt/anaconda3/envs/Fun-with-Quantum/lib/python3.9/site-packages/qiskit_ibm_runtime/runtime_job.py\", line 402, in _start_websocket_client\n",
      "    self._ws_client.job_results()\n",
      "  File \"/Users/bengtwegner/opt/anaconda3/envs/Fun-with-Quantum/lib/python3.9/site-packages/qiskit_ibm_runtime/api/clients/runtime_ws.py\", line 70, in job_results\n",
      "    self.stream(url=url, retries=max_retries, backoff_factor=backoff_factor)\n",
      "  File \"/Users/bengtwegner/opt/anaconda3/envs/Fun-with-Quantum/lib/python3.9/site-packages/qiskit_ibm_runtime/api/clients/base.py\", line 230, in stream\n",
      "    raise WebsocketError(error_message)\n",
      "qiskit_ibm_runtime.api.exceptions.WebsocketError: 'Max retries exceeded: Failed to establish a websocket connection.'\n",
      "\n"
     ]
    },
    {
     "name": "stdout",
     "output_type": "stream",
     "text": [
      "SamplerResult(quasi_dists=[{'111': 0.5024, '000': 0.4976}], metadata=[{'header_metadata': {'circuit_digest': 'e571fba44e9b117ebdec413e620d70b9f08dd401f3f8f9ed1dfd9082bb097cf4'}, 'shots': 10000}])\n"
     ]
    }
   ],
   "source": [
    "# Berechnung der Quasi-Probabilities mit IBMQ-QASM-Simulator\n",
    "\n",
    "service = QiskitRuntimeService()\n",
    "\n",
    "with Sampler(circuits=[qc1], service=service, options={ \"backend\": \"ibmq_qasm_simulator\" }) as sampler:\n",
    "    result = sampler(circuits=[0], shots=10000)\n",
    "    print(result)"
   ]
  },
  {
   "cell_type": "code",
   "execution_count": 14,
   "id": "a7373dd9",
   "metadata": {
    "pycharm": {
     "name": "#%%\n"
    }
   },
   "outputs": [
    {
     "data": {
      "text/plain": "<IPython.core.display.HTML object>",
      "text/html": "<h3>Version Information</h3><table><tr><th>Qiskit Software</th><th>Version</th></tr><tr><td><code>qiskit-terra</code></td><td>0.21.2</td></tr><tr><td><code>qiskit-aer</code></td><td>0.10.4</td></tr><tr><td><code>qiskit-ibmq-provider</code></td><td>0.19.2</td></tr><tr><td><code>qiskit</code></td><td>0.37.2</td></tr><tr><th>System information</th></tr><tr><td>Python version</td><td>3.9.13</td></tr><tr><td>Python compiler</td><td>Clang 12.0.0 </td></tr><tr><td>Python build</td><td>main, Aug 25 2022 18:29:29</td></tr><tr><td>OS</td><td>Darwin</td></tr><tr><td>CPUs</td><td>2</td></tr><tr><td>Memory (Gb)</td><td>8.0</td></tr><tr><td colspan='2'>Wed Sep 07 17:09:05 2022 CEST</td></tr></table>"
     },
     "metadata": {},
     "output_type": "display_data"
    }
   ],
   "source": [
    "import qiskit.tools.jupyter\n",
    "%qiskit_version_table"
   ]
  }
 ],
 "metadata": {
  "kernelspec": {
   "display_name": "Python 3 (ipykernel)",
   "language": "python",
   "name": "python3"
  },
  "language_info": {
   "codemirror_mode": {
    "name": "ipython",
    "version": 3
   },
   "file_extension": ".py",
   "mimetype": "text/x-python",
   "name": "python",
   "nbconvert_exporter": "python",
   "pygments_lexer": "ipython3",
   "version": "3.10.4"
  },
  "widgets": {
   "application/vnd.jupyter.widget-state+json": {
    "state": {},
    "version_major": 2,
    "version_minor": 0
   }
  }
 },
 "nbformat": 4,
 "nbformat_minor": 5
}